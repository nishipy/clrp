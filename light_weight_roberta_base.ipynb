{
  "nbformat": 4,
  "nbformat_minor": 0,
  "metadata": {
    "kernelspec": {
      "language": "python",
      "display_name": "Python 3",
      "name": "python3"
    },
    "language_info": {
      "pygments_lexer": "ipython3",
      "nbconvert_exporter": "python",
      "version": "3.6.4",
      "file_extension": ".py",
      "codemirror_mode": {
        "name": "ipython",
        "version": 3
      },
      "name": "python",
      "mimetype": "text/x-python"
    },
    "colab": {
      "name": "light-weight-roberta-base.ipynb",
      "provenance": [],
      "collapsed_sections": [],
      "toc_visible": true,
      "include_colab_link": true
    },
    "accelerator": "GPU"
  },
  "cells": [
    {
      "cell_type": "markdown",
      "metadata": {
        "id": "view-in-github",
        "colab_type": "text"
      },
      "source": [
        "<a href=\"https://colab.research.google.com/github/nishipy/clrp/blob/main/light_weight_roberta_base.ipynb\" target=\"_parent\"><img src=\"https://colab.research.google.com/assets/colab-badge.svg\" alt=\"Open In Colab\"/></a>"
      ]
    },
    {
      "cell_type": "markdown",
      "metadata": {
        "id": "M5tA-mkxXV5b"
      },
      "source": [
        "# Overview\n",
        "This is kernel is almost the same as [Lightweight Roberta solution in PyTorch](https://www.kaggle.com/andretugan/lightweight-roberta-solution-in-pytorch), but instead of \"roberta-base\", it starts from [Maunish's pre-trained model](https://www.kaggle.com/maunish/clrp-roberta-base).\n",
        "\n",
        "Acknowledgments: some ideas were taken from kernels by [Torch](https://www.kaggle.com/rhtsingh) and [Maunish](https://www.kaggle.com/maunish).\n",
        "\n",
        "In addition, we use the [stratified_kfold train dataset](https://www.kaggle.com/takeshikobayashi/commonlit-train-datasetfor) training the model."
      ]
    },
    {
      "cell_type": "markdown",
      "metadata": {
        "id": "4H_YG8xbXZGN"
      },
      "source": [
        "## Original notebook\n",
        "- Lightweight Roberta solution\n",
        "  - https://www.kaggle.com/andretugan/pre-trained-roberta-solution-in-pytorch\n",
        "- pretraied with MLM\n",
        "  - https://www.kaggle.com/maunish/clrp-pytorch-roberta-pretrain"
      ]
    },
    {
      "cell_type": "markdown",
      "metadata": {
        "id": "FBSvZK-MXsRq"
      },
      "source": [
        "# Prepare"
      ]
    },
    {
      "cell_type": "markdown",
      "metadata": {
        "id": "UtTPu3rhX22a"
      },
      "source": [
        "## Checking GPU status"
      ]
    },
    {
      "cell_type": "code",
      "metadata": {
        "colab": {
          "base_uri": "https://localhost:8080/"
        },
        "id": "m4-zjkgTXyB7",
        "outputId": "74a109a4-4681-4d3e-9419-15136d5d6cca"
      },
      "source": [
        "gpu_info = !nvidia-smi\n",
        "gpu_info = '\\n'.join(gpu_info)\n",
        "if gpu_info.find('failed') >= 0:\n",
        "  print('Select the Runtime > \"Change runtime type\" menu to enable a GPU accelerator, ')\n",
        "  print('and then re-execute this cell.')\n",
        "else:\n",
        "  print(gpu_info)"
      ],
      "execution_count": null,
      "outputs": [
        {
          "output_type": "stream",
          "text": [
            "Sat Jul  3 07:52:06 2021       \n",
            "+-----------------------------------------------------------------------------+\n",
            "| NVIDIA-SMI 465.27       Driver Version: 460.32.03    CUDA Version: 11.2     |\n",
            "|-------------------------------+----------------------+----------------------+\n",
            "| GPU  Name        Persistence-M| Bus-Id        Disp.A | Volatile Uncorr. ECC |\n",
            "| Fan  Temp  Perf  Pwr:Usage/Cap|         Memory-Usage | GPU-Util  Compute M. |\n",
            "|                               |                      |               MIG M. |\n",
            "|===============================+======================+======================|\n",
            "|   0  Tesla P100-PCIE...  Off  | 00000000:00:04.0 Off |                    0 |\n",
            "| N/A   37C    P0    28W / 250W |      0MiB / 16280MiB |      0%      Default |\n",
            "|                               |                      |                  N/A |\n",
            "+-------------------------------+----------------------+----------------------+\n",
            "                                                                               \n",
            "+-----------------------------------------------------------------------------+\n",
            "| Processes:                                                                  |\n",
            "|  GPU   GI   CI        PID   Type   Process name                  GPU Memory |\n",
            "|        ID   ID                                                   Usage      |\n",
            "|=============================================================================|\n",
            "|  No running processes found                                                 |\n",
            "+-----------------------------------------------------------------------------+\n"
          ],
          "name": "stdout"
        }
      ]
    },
    {
      "cell_type": "markdown",
      "metadata": {
        "id": "9niGsYeuYEgf"
      },
      "source": [
        "## Download dataset from kaggle"
      ]
    },
    {
      "cell_type": "code",
      "metadata": {
        "colab": {
          "base_uri": "https://localhost:8080/"
        },
        "id": "1JKMEPT1YBzO",
        "outputId": "95984b63-1d42-4503-adcb-ae8f99fe9b03"
      },
      "source": [
        "from google.colab import drive\n",
        "drive.mount('/content/drive')"
      ],
      "execution_count": null,
      "outputs": [
        {
          "output_type": "stream",
          "text": [
            "Mounted at /content/drive\n"
          ],
          "name": "stdout"
        }
      ]
    },
    {
      "cell_type": "markdown",
      "metadata": {
        "id": "12zbNycNavJc"
      },
      "source": [
        "### kaggle.json"
      ]
    },
    {
      "cell_type": "code",
      "metadata": {
        "id": "VaMQCChEYIiJ"
      },
      "source": [
        "!mkdir -p /root/.kaggle/\n",
        "!cp ./drive/MyDrive/kaggle/commonlit/kaggle.json ~/.kaggle/kaggle.json\n",
        "!chmod 600 ~/.kaggle/kaggle.json"
      ],
      "execution_count": null,
      "outputs": []
    },
    {
      "cell_type": "markdown",
      "metadata": {
        "id": "LampuH0tawt4"
      },
      "source": [
        "### Competition dataset"
      ]
    },
    {
      "cell_type": "code",
      "metadata": {
        "colab": {
          "base_uri": "https://localhost:8080/"
        },
        "id": "2Pn015V0Yamu",
        "outputId": "be7618dc-da02-4258-d0e5-551aadabbffd"
      },
      "source": [
        "!mkdir -p ../input/commonlitreadabilityprize/\n",
        "!kaggle competitions download -c commonlitreadabilityprize -p ../input/commonlitreadabilityprize/\n",
        "!cp -f ./drive/MyDrive/kaggle/commonlit/train_stratiKfold.csv.zip ../input/commonlitreadabilityprize/"
      ],
      "execution_count": null,
      "outputs": [
        {
          "output_type": "stream",
          "text": [
            "Warning: Looks like you're using an outdated API Version, please consider updating (server 1.5.12 / client 1.5.4)\n",
            "Downloading train.csv.zip to ../input/commonlitreadabilityprize\n",
            "  0% 0.00/1.13M [00:00<?, ?B/s]\n",
            "100% 1.13M/1.13M [00:00<00:00, 78.9MB/s]\n",
            "Downloading sample_submission.csv to ../input/commonlitreadabilityprize\n",
            "  0% 0.00/108 [00:00<?, ?B/s]\n",
            "100% 108/108 [00:00<00:00, 94.1kB/s]\n",
            "Downloading test.csv to ../input/commonlitreadabilityprize\n",
            "  0% 0.00/6.79k [00:00<?, ?B/s]\n",
            "100% 6.79k/6.79k [00:00<00:00, 6.63MB/s]\n"
          ],
          "name": "stdout"
        }
      ]
    },
    {
      "cell_type": "code",
      "metadata": {
        "colab": {
          "base_uri": "https://localhost:8080/"
        },
        "id": "_SouT_7pYuvb",
        "outputId": "fafb3c3b-dc09-4b11-8f07-3e4a7a23990e"
      },
      "source": [
        "!unzip -o ../input/commonlitreadabilityprize/train.csv.zip -d ../input/commonlitreadabilityprize/\n",
        "!unzip -o ../input/commonlitreadabilityprize/train_stratiKfold.csv.zip -d ../input/commonlitreadabilityprize/"
      ],
      "execution_count": null,
      "outputs": [
        {
          "output_type": "stream",
          "text": [
            "Archive:  ../input/commonlitreadabilityprize/train.csv.zip\n",
            "  inflating: ../input/commonlitreadabilityprize/train.csv  \n",
            "Archive:  ../input/commonlitreadabilityprize/train_stratiKfold.csv.zip\n",
            "  inflating: ../input/commonlitreadabilityprize/train_stratiKfold.csv  \n"
          ],
          "name": "stdout"
        }
      ]
    },
    {
      "cell_type": "code",
      "metadata": {
        "colab": {
          "base_uri": "https://localhost:8080/"
        },
        "id": "gjihJSBzZVt8",
        "outputId": "d1419a47-a974-438c-82b5-e7d2f9cea51e"
      },
      "source": [
        "!ls ../input/commonlitreadabilityprize/"
      ],
      "execution_count": null,
      "outputs": [
        {
          "output_type": "stream",
          "text": [
            "sample_submission.csv  train.csv      train_stratiKfold.csv\n",
            "test.csv\t       train.csv.zip  train_stratiKfold.csv.zip\n"
          ],
          "name": "stdout"
        }
      ]
    },
    {
      "cell_type": "markdown",
      "metadata": {
        "id": "wujOl7iGa2-C"
      },
      "source": [
        "### Model pre-trained with MLM \n",
        "- Notebook\n",
        "  - https://www.kaggle.com/maunish/clrp-pytorch-roberta-pretrain\n",
        "- Model data\n",
        "  - https://www.kaggle.com/maunish/clrp-roberta-base"
      ]
    },
    {
      "cell_type": "code",
      "metadata": {
        "colab": {
          "base_uri": "https://localhost:8080/"
        },
        "id": "s9EgsJFaa7UW",
        "outputId": "a9e3c0b6-8f0a-4789-a09c-68d3c264f369"
      },
      "source": [
        "!mkdir -p ../input/commonlitreadabilityprize/pretrained-model/\n",
        "!kaggle datasets download maunish/clrp-roberta-base -p ../input/commonlitreadabilityprize/pretrained-model/"
      ],
      "execution_count": null,
      "outputs": [
        {
          "output_type": "stream",
          "text": [
            "Downloading clrp-roberta-base.zip to ../input/commonlitreadabilityprize/pretrained-model\n",
            "100% 3.00G/3.01G [00:47<00:00, 74.0MB/s]\n",
            "100% 3.01G/3.01G [00:47<00:00, 67.5MB/s]\n"
          ],
          "name": "stdout"
        }
      ]
    },
    {
      "cell_type": "code",
      "metadata": {
        "colab": {
          "base_uri": "https://localhost:8080/"
        },
        "id": "9KA2Tzd5bfnJ",
        "outputId": "c696bf98-53e3-4e26-8f45-08a24ff43b67"
      },
      "source": [
        "!!unzip -o ../input/commonlitreadabilityprize/pretrained-model/clrp-roberta-base.zip -d ../input/commonlitreadabilityprize/pretrained-model/"
      ],
      "execution_count": null,
      "outputs": [
        {
          "output_type": "execute_result",
          "data": {
            "text/plain": [
              "['Archive:  ../input/commonlitreadabilityprize/pretrained-model/clrp-roberta-base.zip',\n",
              " '  inflating: ../input/commonlitreadabilityprize/pretrained-model/clrp_roberta_base/config.json  ',\n",
              " '  inflating: ../input/commonlitreadabilityprize/pretrained-model/clrp_roberta_base/merges.txt  ',\n",
              " '  inflating: ../input/commonlitreadabilityprize/pretrained-model/clrp_roberta_base/pytorch_model.bin  ',\n",
              " '  inflating: ../input/commonlitreadabilityprize/pretrained-model/clrp_roberta_base/special_tokens_map.json  ',\n",
              " '  inflating: ../input/commonlitreadabilityprize/pretrained-model/clrp_roberta_base/tokenizer_config.json  ',\n",
              " '  inflating: ../input/commonlitreadabilityprize/pretrained-model/clrp_roberta_base/training_args.bin  ',\n",
              " '  inflating: ../input/commonlitreadabilityprize/pretrained-model/clrp_roberta_base/vocab.json  ',\n",
              " '  inflating: ../input/commonlitreadabilityprize/pretrained-model/clrp_roberta_base_chk/checkpoint-600/config.json  ',\n",
              " '  inflating: ../input/commonlitreadabilityprize/pretrained-model/clrp_roberta_base_chk/checkpoint-600/optimizer.pt  ',\n",
              " '  inflating: ../input/commonlitreadabilityprize/pretrained-model/clrp_roberta_base_chk/checkpoint-600/pytorch_model.bin  ',\n",
              " '  inflating: ../input/commonlitreadabilityprize/pretrained-model/clrp_roberta_base_chk/checkpoint-600/scheduler.pt  ',\n",
              " '  inflating: ../input/commonlitreadabilityprize/pretrained-model/clrp_roberta_base_chk/checkpoint-600/trainer_state.json  ',\n",
              " '  inflating: ../input/commonlitreadabilityprize/pretrained-model/clrp_roberta_base_chk/checkpoint-600/training_args.bin  ',\n",
              " '  inflating: ../input/commonlitreadabilityprize/pretrained-model/clrp_roberta_base_chk/checkpoint-800/config.json  ',\n",
              " '  inflating: ../input/commonlitreadabilityprize/pretrained-model/clrp_roberta_base_chk/checkpoint-800/optimizer.pt  ',\n",
              " '  inflating: ../input/commonlitreadabilityprize/pretrained-model/clrp_roberta_base_chk/checkpoint-800/pytorch_model.bin  ',\n",
              " '  inflating: ../input/commonlitreadabilityprize/pretrained-model/clrp_roberta_base_chk/checkpoint-800/scheduler.pt  ',\n",
              " '  inflating: ../input/commonlitreadabilityprize/pretrained-model/clrp_roberta_base_chk/checkpoint-800/trainer_state.json  ',\n",
              " '  inflating: ../input/commonlitreadabilityprize/pretrained-model/clrp_roberta_base_chk/checkpoint-800/training_args.bin  ',\n",
              " '  inflating: ../input/commonlitreadabilityprize/pretrained-model/text.txt  ']"
            ]
          },
          "metadata": {
            "tags": []
          },
          "execution_count": 9
        }
      ]
    },
    {
      "cell_type": "markdown",
      "metadata": {
        "id": "oeCpZ6DEYH90"
      },
      "source": [
        "# Install dependencies"
      ]
    },
    {
      "cell_type": "code",
      "metadata": {
        "colab": {
          "base_uri": "https://localhost:8080/"
        },
        "id": "BOrw8yaddJV0",
        "outputId": "576af60a-1e4d-4105-9101-a07832041dd6"
      },
      "source": [
        "!pip install transformers accelerate datasets"
      ],
      "execution_count": null,
      "outputs": [
        {
          "output_type": "stream",
          "text": [
            "Collecting transformers\n",
            "\u001b[?25l  Downloading https://files.pythonhosted.org/packages/fd/1a/41c644c963249fd7f3836d926afa1e3f1cc234a1c40d80c5f03ad8f6f1b2/transformers-4.8.2-py3-none-any.whl (2.5MB)\n",
            "\u001b[K     |████████████████████████████████| 2.5MB 15.0MB/s \n",
            "\u001b[?25hCollecting accelerate\n",
            "\u001b[?25l  Downloading https://files.pythonhosted.org/packages/f7/fa/d173d923c953d930702066894abf128a7e5258c6f64cf088d2c5a83f46a3/accelerate-0.3.0-py3-none-any.whl (49kB)\n",
            "\u001b[K     |████████████████████████████████| 51kB 7.7MB/s \n",
            "\u001b[?25hCollecting datasets\n",
            "\u001b[?25l  Downloading https://files.pythonhosted.org/packages/08/a2/d4e1024c891506e1cee8f9d719d20831bac31cb5b7416983c4d2f65a6287/datasets-1.8.0-py3-none-any.whl (237kB)\n",
            "\u001b[K     |████████████████████████████████| 245kB 50.1MB/s \n",
            "\u001b[?25hRequirement already satisfied: requests in /usr/local/lib/python3.7/dist-packages (from transformers) (2.23.0)\n",
            "Collecting sacremoses\n",
            "\u001b[?25l  Downloading https://files.pythonhosted.org/packages/75/ee/67241dc87f266093c533a2d4d3d69438e57d7a90abb216fa076e7d475d4a/sacremoses-0.0.45-py3-none-any.whl (895kB)\n",
            "\u001b[K     |████████████████████████████████| 901kB 49.2MB/s \n",
            "\u001b[?25hRequirement already satisfied: packaging in /usr/local/lib/python3.7/dist-packages (from transformers) (20.9)\n",
            "Requirement already satisfied: tqdm>=4.27 in /usr/local/lib/python3.7/dist-packages (from transformers) (4.41.1)\n",
            "Collecting tokenizers<0.11,>=0.10.1\n",
            "\u001b[?25l  Downloading https://files.pythonhosted.org/packages/d4/e2/df3543e8ffdab68f5acc73f613de9c2b155ac47f162e725dcac87c521c11/tokenizers-0.10.3-cp37-cp37m-manylinux_2_5_x86_64.manylinux1_x86_64.manylinux_2_12_x86_64.manylinux2010_x86_64.whl (3.3MB)\n",
            "\u001b[K     |████████████████████████████████| 3.3MB 48.9MB/s \n",
            "\u001b[?25hRequirement already satisfied: importlib-metadata; python_version < \"3.8\" in /usr/local/lib/python3.7/dist-packages (from transformers) (4.5.0)\n",
            "Collecting huggingface-hub==0.0.12\n",
            "  Downloading https://files.pythonhosted.org/packages/2f/ee/97e253668fda9b17e968b3f97b2f8e53aa0127e8807d24a547687423fe0b/huggingface_hub-0.0.12-py3-none-any.whl\n",
            "Requirement already satisfied: numpy>=1.17 in /usr/local/lib/python3.7/dist-packages (from transformers) (1.19.5)\n",
            "Requirement already satisfied: filelock in /usr/local/lib/python3.7/dist-packages (from transformers) (3.0.12)\n",
            "Requirement already satisfied: pyyaml in /usr/local/lib/python3.7/dist-packages (from transformers) (3.13)\n",
            "Requirement already satisfied: regex!=2019.12.17 in /usr/local/lib/python3.7/dist-packages (from transformers) (2019.12.20)\n",
            "Collecting pyaml>=20.4.0\n",
            "  Downloading https://files.pythonhosted.org/packages/15/c4/1310a054d33abc318426a956e7d6df0df76a6ddfa9c66f6310274fb75d42/pyaml-20.4.0-py2.py3-none-any.whl\n",
            "Requirement already satisfied: torch>=1.4.0 in /usr/local/lib/python3.7/dist-packages (from accelerate) (1.9.0+cu102)\n",
            "Requirement already satisfied: pandas in /usr/local/lib/python3.7/dist-packages (from datasets) (1.1.5)\n",
            "Requirement already satisfied: dill in /usr/local/lib/python3.7/dist-packages (from datasets) (0.3.4)\n",
            "Requirement already satisfied: multiprocess in /usr/local/lib/python3.7/dist-packages (from datasets) (0.70.12.2)\n",
            "Requirement already satisfied: pyarrow<4.0.0,>=1.0.0 in /usr/local/lib/python3.7/dist-packages (from datasets) (3.0.0)\n",
            "Collecting fsspec\n",
            "\u001b[?25l  Downloading https://files.pythonhosted.org/packages/0e/3a/666e63625a19883ae8e1674099e631f9737bd5478c4790e5ad49c5ac5261/fsspec-2021.6.1-py3-none-any.whl (115kB)\n",
            "\u001b[K     |████████████████████████████████| 122kB 59.0MB/s \n",
            "\u001b[?25hCollecting xxhash\n",
            "\u001b[?25l  Downloading https://files.pythonhosted.org/packages/7d/4f/0a862cad26aa2ed7a7cd87178cbbfa824fc1383e472d63596a0d018374e7/xxhash-2.0.2-cp37-cp37m-manylinux2010_x86_64.whl (243kB)\n",
            "\u001b[K     |████████████████████████████████| 245kB 53.0MB/s \n",
            "\u001b[?25hRequirement already satisfied: idna<3,>=2.5 in /usr/local/lib/python3.7/dist-packages (from requests->transformers) (2.10)\n",
            "Requirement already satisfied: urllib3!=1.25.0,!=1.25.1,<1.26,>=1.21.1 in /usr/local/lib/python3.7/dist-packages (from requests->transformers) (1.24.3)\n",
            "Requirement already satisfied: chardet<4,>=3.0.2 in /usr/local/lib/python3.7/dist-packages (from requests->transformers) (3.0.4)\n",
            "Requirement already satisfied: certifi>=2017.4.17 in /usr/local/lib/python3.7/dist-packages (from requests->transformers) (2021.5.30)\n",
            "Requirement already satisfied: joblib in /usr/local/lib/python3.7/dist-packages (from sacremoses->transformers) (1.0.1)\n",
            "Requirement already satisfied: six in /usr/local/lib/python3.7/dist-packages (from sacremoses->transformers) (1.15.0)\n",
            "Requirement already satisfied: click in /usr/local/lib/python3.7/dist-packages (from sacremoses->transformers) (7.1.2)\n",
            "Requirement already satisfied: pyparsing>=2.0.2 in /usr/local/lib/python3.7/dist-packages (from packaging->transformers) (2.4.7)\n",
            "Requirement already satisfied: zipp>=0.5 in /usr/local/lib/python3.7/dist-packages (from importlib-metadata; python_version < \"3.8\"->transformers) (3.4.1)\n",
            "Requirement already satisfied: typing-extensions>=3.6.4; python_version < \"3.8\" in /usr/local/lib/python3.7/dist-packages (from importlib-metadata; python_version < \"3.8\"->transformers) (3.7.4.3)\n",
            "Requirement already satisfied: python-dateutil>=2.7.3 in /usr/local/lib/python3.7/dist-packages (from pandas->datasets) (2.8.1)\n",
            "Requirement already satisfied: pytz>=2017.2 in /usr/local/lib/python3.7/dist-packages (from pandas->datasets) (2018.9)\n",
            "Installing collected packages: sacremoses, tokenizers, huggingface-hub, transformers, pyaml, accelerate, fsspec, xxhash, datasets\n",
            "Successfully installed accelerate-0.3.0 datasets-1.8.0 fsspec-2021.6.1 huggingface-hub-0.0.12 pyaml-20.4.0 sacremoses-0.0.45 tokenizers-0.10.3 transformers-4.8.2 xxhash-2.0.2\n"
          ],
          "name": "stdout"
        }
      ]
    },
    {
      "cell_type": "code",
      "metadata": {
        "_kg_hide-input": true,
        "id": "wZYxy_hAXV5e"
      },
      "source": [
        "import os\n",
        "import math\n",
        "import random\n",
        "import time\n",
        "\n",
        "import numpy as np\n",
        "import pandas as pd\n",
        "\n",
        "import torch\n",
        "import torch.nn as nn\n",
        "from torch.utils.data import Dataset\n",
        "from torch.utils.data import DataLoader\n",
        "\n",
        "from transformers import AdamW\n",
        "from transformers import AutoTokenizer\n",
        "from transformers import AutoModel\n",
        "from transformers import AutoConfig\n",
        "from transformers import get_cosine_schedule_with_warmup\n",
        "\n",
        "from sklearn.model_selection import KFold\n",
        "\n",
        "import gc\n",
        "gc.enable()"
      ],
      "execution_count": null,
      "outputs": []
    },
    {
      "cell_type": "markdown",
      "metadata": {
        "id": "W6-8wniOeBzQ"
      },
      "source": [
        "# Set constant"
      ]
    },
    {
      "cell_type": "code",
      "metadata": {
        "execution": {
          "iopub.status.busy": "2021-06-26T23:00:05.122087Z",
          "iopub.status.idle": "2021-06-26T23:00:05.12245Z"
        },
        "trusted": true,
        "id": "DQjr2-NPXV5f"
      },
      "source": [
        "NUM_FOLDS = 5\n",
        "NUM_EPOCHS = 3\n",
        "BATCH_SIZE = 16\n",
        "MAX_LEN = 248\n",
        "EVAL_SCHEDULE = [(0.50, 16), (0.49, 8), (0.48, 4), (0.47, 2), (-1., 1)]\n",
        "ROBERTA_PATH = \"../input/commonlitreadabilityprize/pretrained-model/clrp_roberta_base/\"\n",
        "TOKENIZER_PATH = \"../input/commonlitreadabilityprize/pretrained-model/clrp_roberta_base/\"\n",
        "#ROBERTA_PATH = \"../input/clrp-roberta-base/clrp_roberta_base\"\n",
        "#TOKENIZER_PATH = \"../input/clrp-roberta-base/clrp_roberta_base\"\n",
        "DEVICE = \"cuda\" if torch.cuda.is_available() else \"cpu\""
      ],
      "execution_count": null,
      "outputs": []
    },
    {
      "cell_type": "markdown",
      "metadata": {
        "id": "xnzprhriHc7B"
      },
      "source": [
        "# Define utility functions"
      ]
    },
    {
      "cell_type": "code",
      "metadata": {
        "execution": {
          "iopub.status.busy": "2021-06-26T23:00:05.123498Z",
          "iopub.status.idle": "2021-06-26T23:00:05.124178Z"
        },
        "trusted": true,
        "id": "ZNCjd5KEXV5f"
      },
      "source": [
        "def set_random_seed(random_seed):\n",
        "    random.seed(random_seed)\n",
        "    np.random.seed(random_seed)\n",
        "    os.environ[\"PYTHONHASHSEED\"] = str(random_seed)\n",
        "\n",
        "    torch.manual_seed(random_seed)\n",
        "    torch.cuda.manual_seed(random_seed)\n",
        "    torch.cuda.manual_seed_all(random_seed)\n",
        "\n",
        "    torch.backends.cudnn.deterministic = True"
      ],
      "execution_count": null,
      "outputs": []
    },
    {
      "cell_type": "markdown",
      "metadata": {
        "id": "A95IJgC8WPLz"
      },
      "source": [
        "train_dfには、Stratified kfold済みのデータセットを利用する。"
      ]
    },
    {
      "cell_type": "code",
      "metadata": {
        "execution": {
          "iopub.status.busy": "2021-06-26T23:00:05.125564Z",
          "iopub.status.idle": "2021-06-26T23:00:05.126194Z"
        },
        "trusted": true,
        "id": "T-5y27aJXV5f"
      },
      "source": [
        "#Use stratified k-fold train dataset\n",
        "#train_df = pd.read_csv(\"/kaggle/input/commonlitreadabilityprize/train.csv\")\n",
        "train_df = pd.read_csv(\"../input/commonlitreadabilityprize/train_stratiKfold.csv\")\n",
        "\n",
        "# Remove incomplete entries if any.\n",
        "train_df.drop(train_df[(train_df.target == 0) & (train_df.standard_error == 0)].index,\n",
        "              inplace=True)\n",
        "train_df.reset_index(drop=True, inplace=True)\n",
        "\n",
        "test_df = pd.read_csv(\"../input/commonlitreadabilityprize/test.csv\")\n",
        "submission_df = pd.read_csv(\"../input/commonlitreadabilityprize/sample_submission.csv\")"
      ],
      "execution_count": null,
      "outputs": []
    },
    {
      "cell_type": "code",
      "metadata": {
        "execution": {
          "iopub.status.busy": "2021-06-26T23:00:05.127436Z",
          "iopub.status.idle": "2021-06-26T23:00:05.128177Z"
        },
        "trusted": true,
        "id": "bR2QTnuIXV5g"
      },
      "source": [
        "#TokenizerはRoberta-baseと同じ\n",
        "tokenizer = AutoTokenizer.from_pretrained(TOKENIZER_PATH)"
      ],
      "execution_count": null,
      "outputs": []
    },
    {
      "cell_type": "markdown",
      "metadata": {
        "id": "luovjtC0XV5g"
      },
      "source": [
        "# Dataset"
      ]
    },
    {
      "cell_type": "code",
      "metadata": {
        "execution": {
          "iopub.status.busy": "2021-06-26T23:00:05.129325Z",
          "iopub.status.idle": "2021-06-26T23:00:05.129943Z"
        },
        "trusted": true,
        "id": "LHVj3D05XV5g"
      },
      "source": [
        "class LitDataset(Dataset):\n",
        "    def __init__(self, df, inference_only=False):\n",
        "        super().__init__()\n",
        "\n",
        "        self.df = df        \n",
        "        self.inference_only = inference_only\n",
        "        self.text = df.excerpt.tolist()\n",
        "        #改行を消してみる。元のNotebookではここはコメントアウトされている\n",
        "        self.text = [text.replace(\"\\n\", \" \") for text in self.text]\n",
        "        \n",
        "        if not self.inference_only:\n",
        "            self.target = torch.tensor(df.target.values, dtype=torch.float32)        \n",
        "    \n",
        "        self.encoded = tokenizer.batch_encode_plus(\n",
        "            self.text,\n",
        "            padding = 'max_length',            \n",
        "            max_length = MAX_LEN,\n",
        "            truncation = True,\n",
        "            return_attention_mask=True\n",
        "        )        \n",
        " \n",
        "\n",
        "    def __len__(self):\n",
        "        return len(self.df)\n",
        "\n",
        "    \n",
        "    def __getitem__(self, index):        \n",
        "        input_ids = torch.tensor(self.encoded['input_ids'][index])\n",
        "        attention_mask = torch.tensor(self.encoded['attention_mask'][index])\n",
        "        \n",
        "        if self.inference_only:\n",
        "            return (input_ids, attention_mask)            \n",
        "        else:\n",
        "            target = self.target[index]\n",
        "            return (input_ids, attention_mask, target)"
      ],
      "execution_count": null,
      "outputs": []
    },
    {
      "cell_type": "markdown",
      "metadata": {
        "id": "Smttt02WXV5h"
      },
      "source": [
        "# Model\n",
        "The model is inspired by the one from [Maunish](https://www.kaggle.com/maunish/clrp-roberta-svm)."
      ]
    },
    {
      "cell_type": "code",
      "metadata": {
        "execution": {
          "iopub.status.busy": "2021-06-26T23:00:05.131083Z",
          "iopub.status.idle": "2021-06-26T23:00:05.13167Z"
        },
        "trusted": true,
        "id": "RL6qw55sXV5h"
      },
      "source": [
        "class LitModel(nn.Module):\n",
        "    def __init__(self):\n",
        "        super().__init__()\n",
        "\n",
        "        config = AutoConfig.from_pretrained(ROBERTA_PATH)\n",
        "        #config.jsonに書いてある設定値を更新する\n",
        "        config.update({\"output_hidden_states\":True, \n",
        "                       \"hidden_dropout_prob\": 0.0,\n",
        "                       \"layer_norm_eps\": 1e-7})                       \n",
        "        \n",
        "        self.roberta = AutoModel.from_pretrained(ROBERTA_PATH, config=config)  \n",
        "            \n",
        "        self.attention = nn.Sequential(            \n",
        "            nn.Linear(768, 512),            \n",
        "            nn.Tanh(),                       \n",
        "            nn.Linear(512, 1),\n",
        "            nn.Softmax(dim=1)\n",
        "        )        \n",
        "\n",
        "        self.regressor = nn.Sequential(                        \n",
        "            nn.Linear(768, 1)                        \n",
        "        )\n",
        "        \n",
        "\n",
        "    def forward(self, input_ids, attention_mask):\n",
        "        roberta_output = self.roberta(input_ids=input_ids,\n",
        "                                      attention_mask=attention_mask)        \n",
        "\n",
        "        # There are a total of 13 layers of hidden states.\n",
        "        # 1 for the embedding layer, and 12 for the 12 Roberta layers.\n",
        "        # We take the hidden states from the last Roberta layer.\n",
        "        last_layer_hidden_states = roberta_output.hidden_states[-1]\n",
        "\n",
        "        # The number of cells is MAX_LEN.\n",
        "        # The size of the hidden state of each cell is 768 (for roberta-base).\n",
        "        # In order to condense hidden states of all cells to a context vector,\n",
        "        # we compute a weighted average of the hidden states of all cells.\n",
        "        # We compute the weight of each cell, using the attention neural network.\n",
        "        weights = self.attention(last_layer_hidden_states)\n",
        "                \n",
        "        # weights.shape is BATCH_SIZE x MAX_LEN x 1\n",
        "        # last_layer_hidden_states.shape is BATCH_SIZE x MAX_LEN x 768        \n",
        "        # Now we compute context_vector as the weighted average.\n",
        "        # context_vector.shape is BATCH_SIZE x 768\n",
        "        context_vector = torch.sum(weights * last_layer_hidden_states, dim=1)        \n",
        "        \n",
        "        # Now we reduce the context vector to the prediction score.\n",
        "        return self.regressor(context_vector)"
      ],
      "execution_count": null,
      "outputs": []
    },
    {
      "cell_type": "code",
      "metadata": {
        "execution": {
          "iopub.status.busy": "2021-06-26T23:00:05.132798Z",
          "iopub.status.idle": "2021-06-26T23:00:05.133392Z"
        },
        "trusted": true,
        "id": "FrZm0bLLXV5h"
      },
      "source": [
        "#MSEで評価\n",
        "def eval_mse(model, data_loader):\n",
        "    \"\"\"Evaluates the mean squared error of the |model| on |data_loader|\"\"\"\n",
        "    model.eval()            \n",
        "    mse_sum = 0\n",
        "\n",
        "    with torch.no_grad():\n",
        "        for batch_num, (input_ids, attention_mask, target) in enumerate(data_loader):\n",
        "            input_ids = input_ids.to(DEVICE)\n",
        "            attention_mask = attention_mask.to(DEVICE)                        \n",
        "            target = target.to(DEVICE)           \n",
        "            \n",
        "            pred = model(input_ids, attention_mask)                       \n",
        "\n",
        "            mse_sum += nn.MSELoss(reduction=\"sum\")(pred.flatten(), target).item()\n",
        "                \n",
        "\n",
        "    return mse_sum / len(data_loader.dataset)"
      ],
      "execution_count": null,
      "outputs": []
    },
    {
      "cell_type": "code",
      "metadata": {
        "execution": {
          "iopub.status.busy": "2021-06-26T23:00:05.134577Z",
          "iopub.status.idle": "2021-06-26T23:00:05.135224Z"
        },
        "trusted": true,
        "id": "JxqWSjMHXV5i"
      },
      "source": [
        "def predict(model, data_loader):\n",
        "    \"\"\"Returns an np.array with predictions of the |model| on |data_loader|\"\"\"\n",
        "    model.eval()\n",
        "\n",
        "    result = np.zeros(len(data_loader.dataset))    \n",
        "    index = 0\n",
        "    \n",
        "    with torch.no_grad():\n",
        "        for batch_num, (input_ids, attention_mask) in enumerate(data_loader):\n",
        "            input_ids = input_ids.to(DEVICE)\n",
        "            attention_mask = attention_mask.to(DEVICE)\n",
        "                        \n",
        "            pred = model(input_ids, attention_mask)                        \n",
        "\n",
        "            result[index : index + pred.shape[0]] = pred.flatten().to(\"cpu\")\n",
        "            index += pred.shape[0]\n",
        "\n",
        "    return result"
      ],
      "execution_count": null,
      "outputs": []
    },
    {
      "cell_type": "code",
      "metadata": {
        "execution": {
          "iopub.status.busy": "2021-06-26T23:00:05.136376Z",
          "iopub.status.idle": "2021-06-26T23:00:05.137001Z"
        },
        "trusted": true,
        "id": "G7fx532GXV5i"
      },
      "source": [
        "def train(model, model_path, train_loader, val_loader,\n",
        "          optimizer, scheduler=None, num_epochs=NUM_EPOCHS):    \n",
        "    best_val_rmse = None\n",
        "    best_epoch = 0\n",
        "    step = 0\n",
        "    last_eval_step = 0\n",
        "    eval_period = EVAL_SCHEDULE[0][1]    \n",
        "\n",
        "    start = time.time()\n",
        "\n",
        "    for epoch in range(num_epochs):                           \n",
        "        val_rmse = None         \n",
        "\n",
        "        for batch_num, (input_ids, attention_mask, target) in enumerate(train_loader):\n",
        "            input_ids = input_ids.to(DEVICE)\n",
        "            attention_mask = attention_mask.to(DEVICE)            \n",
        "            target = target.to(DEVICE)                        \n",
        "\n",
        "            optimizer.zero_grad()\n",
        "            \n",
        "            model.train()\n",
        "\n",
        "            pred = model(input_ids, attention_mask)\n",
        "                                                        \n",
        "            mse = nn.MSELoss(reduction=\"mean\")(pred.flatten(), target)\n",
        "                        \n",
        "            mse.backward()\n",
        "\n",
        "            optimizer.step()\n",
        "            if scheduler:\n",
        "                scheduler.step()\n",
        "            \n",
        "            if step >= last_eval_step + eval_period:\n",
        "                # Evaluate the model on val_loader.\n",
        "                elapsed_seconds = time.time() - start\n",
        "                num_steps = step - last_eval_step\n",
        "                print(f\"\\n{num_steps} steps took {elapsed_seconds:0.3} seconds\")\n",
        "                last_eval_step = step\n",
        "                \n",
        "                val_rmse = math.sqrt(eval_mse(model, val_loader))                            \n",
        "\n",
        "                print(f\"Epoch: {epoch} batch_num: {batch_num}\", \n",
        "                      f\"val_rmse: {val_rmse:0.4}\")\n",
        "\n",
        "                for rmse, period in EVAL_SCHEDULE:\n",
        "                    if val_rmse >= rmse:\n",
        "                        eval_period = period\n",
        "                        break                               \n",
        "                \n",
        "                if not best_val_rmse or val_rmse < best_val_rmse:                    \n",
        "                    best_val_rmse = val_rmse\n",
        "                    best_epoch = epoch\n",
        "                    torch.save(model.state_dict(), model_path)\n",
        "                    print(f\"New best_val_rmse: {best_val_rmse:0.4}\")\n",
        "                else:       \n",
        "                    print(f\"Still best_val_rmse: {best_val_rmse:0.4}\",\n",
        "                          f\"(from epoch {best_epoch})\")                                    \n",
        "                    \n",
        "                start = time.time()\n",
        "                                            \n",
        "            step += 1\n",
        "                        \n",
        "    \n",
        "    return best_val_rmse"
      ],
      "execution_count": null,
      "outputs": []
    },
    {
      "cell_type": "code",
      "metadata": {
        "execution": {
          "iopub.status.busy": "2021-06-26T23:00:05.138161Z",
          "iopub.status.idle": "2021-06-26T23:00:05.138781Z"
        },
        "trusted": true,
        "id": "Q8nGcWc7XV5j"
      },
      "source": [
        "def create_optimizer(model):\n",
        "    named_parameters = list(model.named_parameters())    \n",
        "    \n",
        "    roberta_parameters = named_parameters[:197]    \n",
        "    attention_parameters = named_parameters[199:203]\n",
        "    regressor_parameters = named_parameters[203:]\n",
        "        \n",
        "    attention_group = [params for (name, params) in attention_parameters]\n",
        "    regressor_group = [params for (name, params) in regressor_parameters]\n",
        "\n",
        "    parameters = []\n",
        "    parameters.append({\"params\": attention_group})\n",
        "    parameters.append({\"params\": regressor_group})\n",
        "\n",
        "    for layer_num, (name, params) in enumerate(roberta_parameters):\n",
        "        weight_decay = 0.0 if \"bias\" in name else 0.01\n",
        "\n",
        "        lr = 2e-5\n",
        "\n",
        "        if layer_num >= 69:        \n",
        "            lr = 5e-5\n",
        "\n",
        "        if layer_num >= 133:\n",
        "            lr = 1e-4\n",
        "\n",
        "        parameters.append({\"params\": params,\n",
        "                           \"weight_decay\": weight_decay,\n",
        "                           \"lr\": lr})\n",
        "\n",
        "    return AdamW(parameters)"
      ],
      "execution_count": null,
      "outputs": []
    },
    {
      "cell_type": "markdown",
      "metadata": {
        "id": "QW8_ta8Shvbp"
      },
      "source": [
        "## Run"
      ]
    },
    {
      "cell_type": "code",
      "metadata": {
        "execution": {
          "iopub.status.busy": "2021-06-26T23:00:05.141551Z",
          "iopub.status.idle": "2021-06-26T23:00:05.14228Z"
        },
        "trusted": true,
        "colab": {
          "base_uri": "https://localhost:8080/"
        },
        "id": "0ASAFbdqXV5k",
        "outputId": "08b512a2-74ac-4ec7-cd44-0d7b7ac16b27"
      },
      "source": [
        "gc.collect()\n",
        "\n",
        "SEED = 1000\n",
        "list_val_rmse = []\n",
        "\n",
        "for fold in range(NUM_FOLDS): \n",
        "    print(f\"\\nFold {fold + 1}/{NUM_FOLDS}\")\n",
        "    model_path = f\"model_{fold + 1}.pth\"\n",
        "        \n",
        "    set_random_seed(SEED + fold)\n",
        "\n",
        "    #Stratified kfold train dataset用に修正\n",
        "    train_dataset = LitDataset(train_df[train_df['kfold']!=fold])    \n",
        "    val_dataset = LitDataset(train_df[train_df['kfold']==fold])    \n",
        "        \n",
        "    train_loader = DataLoader(train_dataset, batch_size=BATCH_SIZE,\n",
        "                              drop_last=True, shuffle=True, num_workers=2)    \n",
        "    val_loader = DataLoader(val_dataset, batch_size=BATCH_SIZE,\n",
        "                            drop_last=False, shuffle=False, num_workers=2)    \n",
        "        \n",
        "    set_random_seed(SEED + fold)    \n",
        "    \n",
        "    model = LitModel().to(DEVICE)\n",
        "    \n",
        "    optimizer = create_optimizer(model)                        \n",
        "    scheduler = get_cosine_schedule_with_warmup(\n",
        "        optimizer,\n",
        "        num_training_steps=NUM_EPOCHS * len(train_loader),\n",
        "        num_warmup_steps=50)    \n",
        "    \n",
        "    list_val_rmse.append(train(model, model_path, train_loader,\n",
        "                               val_loader, optimizer, scheduler=scheduler))\n",
        "\n",
        "    del model\n",
        "    gc.collect()\n",
        "    \n",
        "    print(\"\\nPerformance estimates:\")\n",
        "    print(list_val_rmse)\n",
        "    print(\"Mean:\", np.array(list_val_rmse).mean())\n",
        "\n",
        "\n",
        "#kfold = KFold(n_splits=NUM_FOLDS, random_state=SEED, shuffle=True)\n",
        "#\n",
        "# for fold, (train_indices, val_indices) in enumerate(kfold.split(train_df)):    \n",
        "#     print(f\"\\nFold {fold + 1}/{NUM_FOLDS}\")\n",
        "#     model_path = f\"model_{fold + 1}.pth\"\n",
        "        \n",
        "#     set_random_seed(SEED + fold)\n",
        "    \n",
        "#     train_dataset = LitDataset(train_df.loc[train_indices])    \n",
        "#     val_dataset = LitDataset(train_df.loc[val_indices])    \n",
        "        \n",
        "#     train_loader = DataLoader(train_dataset, batch_size=BATCH_SIZE,\n",
        "#                               drop_last=True, shuffle=True, num_workers=2)    \n",
        "#     val_loader = DataLoader(val_dataset, batch_size=BATCH_SIZE,\n",
        "#                             drop_last=False, shuffle=False, num_workers=2)    \n",
        "        \n",
        "#     set_random_seed(SEED + fold)    \n",
        "    \n",
        "#     model = LitModel().to(DEVICE)\n",
        "    \n",
        "#     optimizer = create_optimizer(model)                        \n",
        "#     scheduler = get_cosine_schedule_with_warmup(\n",
        "#         optimizer,\n",
        "#         num_training_steps=NUM_EPOCHS * len(train_loader),\n",
        "#         num_warmup_steps=50)    \n",
        "    \n",
        "#     list_val_rmse.append(train(model, model_path, train_loader,\n",
        "#                                val_loader, optimizer, scheduler=scheduler))\n",
        "\n",
        "#     del model\n",
        "#     gc.collect()\n",
        "    \n",
        "#     print(\"\\nPerformance estimates:\")\n",
        "#     print(list_val_rmse)\n",
        "#     print(\"Mean:\", np.array(list_val_rmse).mean())\n",
        "    "
      ],
      "execution_count": null,
      "outputs": [
        {
          "output_type": "stream",
          "text": [
            "\n",
            "Fold 1/5\n"
          ],
          "name": "stdout"
        },
        {
          "output_type": "stream",
          "text": [
            "Some weights of the model checkpoint at ../input/commonlitreadabilityprize/pretrained-model/clrp_roberta_base/ were not used when initializing RobertaModel: ['lm_head.decoder.weight', 'lm_head.decoder.bias', 'lm_head.dense.bias', 'lm_head.layer_norm.bias', 'lm_head.dense.weight', 'lm_head.layer_norm.weight', 'lm_head.bias']\n",
            "- This IS expected if you are initializing RobertaModel from the checkpoint of a model trained on another task or with another architecture (e.g. initializing a BertForSequenceClassification model from a BertForPreTraining model).\n",
            "- This IS NOT expected if you are initializing RobertaModel from the checkpoint of a model that you expect to be exactly identical (initializing a BertForSequenceClassification model from a BertForSequenceClassification model).\n",
            "Some weights of RobertaModel were not initialized from the model checkpoint at ../input/commonlitreadabilityprize/pretrained-model/clrp_roberta_base/ and are newly initialized: ['roberta.pooler.dense.weight', 'roberta.pooler.dense.bias']\n",
            "You should probably TRAIN this model on a down-stream task to be able to use it for predictions and inference.\n"
          ],
          "name": "stderr"
        },
        {
          "output_type": "stream",
          "text": [
            "\n",
            "16 steps took 6.98 seconds\n",
            "Epoch: 0 batch_num: 16 val_rmse: 0.9545\n",
            "New best_val_rmse: 0.9545\n",
            "\n",
            "16 steps took 6.33 seconds\n",
            "Epoch: 0 batch_num: 32 val_rmse: 0.7115\n",
            "New best_val_rmse: 0.7115\n",
            "\n",
            "16 steps took 6.33 seconds\n",
            "Epoch: 0 batch_num: 48 val_rmse: 0.636\n",
            "New best_val_rmse: 0.636\n",
            "\n",
            "16 steps took 6.33 seconds\n",
            "Epoch: 0 batch_num: 64 val_rmse: 0.6266\n",
            "New best_val_rmse: 0.6266\n",
            "\n",
            "16 steps took 6.33 seconds\n",
            "Epoch: 0 batch_num: 80 val_rmse: 0.6861\n",
            "Still best_val_rmse: 0.6266 (from epoch 0)\n",
            "\n",
            "16 steps took 6.33 seconds\n",
            "Epoch: 0 batch_num: 96 val_rmse: 0.5926\n",
            "New best_val_rmse: 0.5926\n",
            "\n",
            "16 steps took 6.33 seconds\n",
            "Epoch: 0 batch_num: 112 val_rmse: 0.5557\n",
            "New best_val_rmse: 0.5557\n",
            "\n",
            "16 steps took 6.34 seconds\n",
            "Epoch: 0 batch_num: 128 val_rmse: 0.5616\n",
            "Still best_val_rmse: 0.5557 (from epoch 0)\n",
            "\n",
            "16 steps took 6.46 seconds\n",
            "Epoch: 1 batch_num: 3 val_rmse: 0.5168\n",
            "New best_val_rmse: 0.5168\n",
            "\n",
            "16 steps took 6.34 seconds\n",
            "Epoch: 1 batch_num: 19 val_rmse: 0.5394\n",
            "Still best_val_rmse: 0.5168 (from epoch 1)\n",
            "\n",
            "16 steps took 6.33 seconds\n",
            "Epoch: 1 batch_num: 35 val_rmse: 0.5704\n",
            "Still best_val_rmse: 0.5168 (from epoch 1)\n",
            "\n",
            "16 steps took 6.33 seconds\n",
            "Epoch: 1 batch_num: 51 val_rmse: 0.4935\n",
            "New best_val_rmse: 0.4935\n",
            "\n",
            "8 steps took 3.16 seconds\n",
            "Epoch: 1 batch_num: 59 val_rmse: 0.5449\n",
            "Still best_val_rmse: 0.4935 (from epoch 1)\n",
            "\n",
            "16 steps took 6.33 seconds\n",
            "Epoch: 1 batch_num: 75 val_rmse: 0.5306\n",
            "Still best_val_rmse: 0.4935 (from epoch 1)\n",
            "\n",
            "16 steps took 6.33 seconds\n",
            "Epoch: 1 batch_num: 91 val_rmse: 0.4944\n",
            "Still best_val_rmse: 0.4935 (from epoch 1)\n",
            "\n",
            "8 steps took 3.16 seconds\n",
            "Epoch: 1 batch_num: 99 val_rmse: 0.5026\n",
            "Still best_val_rmse: 0.4935 (from epoch 1)\n",
            "\n",
            "16 steps took 6.33 seconds\n",
            "Epoch: 1 batch_num: 115 val_rmse: 0.4914\n",
            "New best_val_rmse: 0.4914\n",
            "\n",
            "8 steps took 3.17 seconds\n",
            "Epoch: 1 batch_num: 123 val_rmse: 0.5376\n",
            "Still best_val_rmse: 0.4914 (from epoch 1)\n",
            "\n",
            "16 steps took 6.33 seconds\n",
            "Epoch: 1 batch_num: 139 val_rmse: 0.4799\n",
            "New best_val_rmse: 0.4799\n",
            "\n",
            "2 steps took 0.954 seconds\n",
            "Epoch: 2 batch_num: 0 val_rmse: 0.4818\n",
            "Still best_val_rmse: 0.4799 (from epoch 1)\n",
            "\n",
            "4 steps took 1.58 seconds\n",
            "Epoch: 2 batch_num: 4 val_rmse: 0.4991\n",
            "Still best_val_rmse: 0.4799 (from epoch 1)\n",
            "\n",
            "8 steps took 3.16 seconds\n",
            "Epoch: 2 batch_num: 12 val_rmse: 0.4767\n",
            "New best_val_rmse: 0.4767\n",
            "\n",
            "2 steps took 0.791 seconds\n",
            "Epoch: 2 batch_num: 14 val_rmse: 0.4778\n",
            "Still best_val_rmse: 0.4767 (from epoch 2)\n",
            "\n",
            "2 steps took 0.789 seconds\n",
            "Epoch: 2 batch_num: 16 val_rmse: 0.4804\n",
            "Still best_val_rmse: 0.4767 (from epoch 2)\n",
            "\n",
            "4 steps took 1.58 seconds\n",
            "Epoch: 2 batch_num: 20 val_rmse: 0.4816\n",
            "Still best_val_rmse: 0.4767 (from epoch 2)\n",
            "\n",
            "4 steps took 1.59 seconds\n",
            "Epoch: 2 batch_num: 24 val_rmse: 0.4792\n",
            "Still best_val_rmse: 0.4767 (from epoch 2)\n",
            "\n",
            "2 steps took 0.788 seconds\n",
            "Epoch: 2 batch_num: 26 val_rmse: 0.4769\n",
            "Still best_val_rmse: 0.4767 (from epoch 2)\n",
            "\n",
            "2 steps took 0.788 seconds\n",
            "Epoch: 2 batch_num: 28 val_rmse: 0.4792\n",
            "Still best_val_rmse: 0.4767 (from epoch 2)\n",
            "\n",
            "2 steps took 0.789 seconds\n",
            "Epoch: 2 batch_num: 30 val_rmse: 0.4817\n",
            "Still best_val_rmse: 0.4767 (from epoch 2)\n",
            "\n",
            "4 steps took 1.58 seconds\n",
            "Epoch: 2 batch_num: 34 val_rmse: 0.4779\n",
            "Still best_val_rmse: 0.4767 (from epoch 2)\n",
            "\n",
            "2 steps took 0.788 seconds\n",
            "Epoch: 2 batch_num: 36 val_rmse: 0.4774\n",
            "Still best_val_rmse: 0.4767 (from epoch 2)\n",
            "\n",
            "2 steps took 0.788 seconds\n",
            "Epoch: 2 batch_num: 38 val_rmse: 0.4759\n",
            "New best_val_rmse: 0.4759\n",
            "\n",
            "2 steps took 0.79 seconds\n",
            "Epoch: 2 batch_num: 40 val_rmse: 0.4745\n",
            "New best_val_rmse: 0.4745\n",
            "\n",
            "2 steps took 0.792 seconds\n",
            "Epoch: 2 batch_num: 42 val_rmse: 0.4734\n",
            "New best_val_rmse: 0.4734\n",
            "\n",
            "2 steps took 0.789 seconds\n",
            "Epoch: 2 batch_num: 44 val_rmse: 0.4728\n",
            "New best_val_rmse: 0.4728\n",
            "\n",
            "2 steps took 0.793 seconds\n",
            "Epoch: 2 batch_num: 46 val_rmse: 0.4732\n",
            "Still best_val_rmse: 0.4728 (from epoch 2)\n",
            "\n",
            "2 steps took 0.788 seconds\n",
            "Epoch: 2 batch_num: 48 val_rmse: 0.4767\n",
            "Still best_val_rmse: 0.4728 (from epoch 2)\n",
            "\n",
            "2 steps took 0.792 seconds\n",
            "Epoch: 2 batch_num: 50 val_rmse: 0.4803\n",
            "Still best_val_rmse: 0.4728 (from epoch 2)\n",
            "\n",
            "4 steps took 1.58 seconds\n",
            "Epoch: 2 batch_num: 54 val_rmse: 0.4746\n",
            "Still best_val_rmse: 0.4728 (from epoch 2)\n",
            "\n",
            "2 steps took 0.79 seconds\n",
            "Epoch: 2 batch_num: 56 val_rmse: 0.4731\n",
            "Still best_val_rmse: 0.4728 (from epoch 2)\n",
            "\n",
            "2 steps took 0.788 seconds\n",
            "Epoch: 2 batch_num: 58 val_rmse: 0.4724\n",
            "New best_val_rmse: 0.4724\n",
            "\n",
            "2 steps took 0.792 seconds\n",
            "Epoch: 2 batch_num: 60 val_rmse: 0.4725\n",
            "Still best_val_rmse: 0.4724 (from epoch 2)\n",
            "\n",
            "2 steps took 0.789 seconds\n",
            "Epoch: 2 batch_num: 62 val_rmse: 0.4722\n",
            "New best_val_rmse: 0.4722\n",
            "\n",
            "2 steps took 0.789 seconds\n",
            "Epoch: 2 batch_num: 64 val_rmse: 0.4721\n",
            "New best_val_rmse: 0.4721\n",
            "\n",
            "2 steps took 0.794 seconds\n",
            "Epoch: 2 batch_num: 66 val_rmse: 0.4723\n",
            "Still best_val_rmse: 0.4721 (from epoch 2)\n",
            "\n",
            "2 steps took 0.788 seconds\n",
            "Epoch: 2 batch_num: 68 val_rmse: 0.4731\n",
            "Still best_val_rmse: 0.4721 (from epoch 2)\n",
            "\n",
            "2 steps took 0.789 seconds\n",
            "Epoch: 2 batch_num: 70 val_rmse: 0.4737\n",
            "Still best_val_rmse: 0.4721 (from epoch 2)\n",
            "\n",
            "2 steps took 0.789 seconds\n",
            "Epoch: 2 batch_num: 72 val_rmse: 0.474\n",
            "Still best_val_rmse: 0.4721 (from epoch 2)\n",
            "\n",
            "2 steps took 0.79 seconds\n",
            "Epoch: 2 batch_num: 74 val_rmse: 0.4747\n",
            "Still best_val_rmse: 0.4721 (from epoch 2)\n",
            "\n",
            "2 steps took 0.79 seconds\n",
            "Epoch: 2 batch_num: 76 val_rmse: 0.4746\n",
            "Still best_val_rmse: 0.4721 (from epoch 2)\n",
            "\n",
            "2 steps took 0.789 seconds\n",
            "Epoch: 2 batch_num: 78 val_rmse: 0.4753\n",
            "Still best_val_rmse: 0.4721 (from epoch 2)\n",
            "\n",
            "2 steps took 0.788 seconds\n",
            "Epoch: 2 batch_num: 80 val_rmse: 0.4757\n",
            "Still best_val_rmse: 0.4721 (from epoch 2)\n",
            "\n",
            "2 steps took 0.789 seconds\n",
            "Epoch: 2 batch_num: 82 val_rmse: 0.4761\n",
            "Still best_val_rmse: 0.4721 (from epoch 2)\n",
            "\n",
            "2 steps took 0.788 seconds\n",
            "Epoch: 2 batch_num: 84 val_rmse: 0.4764\n",
            "Still best_val_rmse: 0.4721 (from epoch 2)\n",
            "\n",
            "2 steps took 0.789 seconds\n",
            "Epoch: 2 batch_num: 86 val_rmse: 0.4777\n",
            "Still best_val_rmse: 0.4721 (from epoch 2)\n",
            "\n",
            "2 steps took 0.788 seconds\n",
            "Epoch: 2 batch_num: 88 val_rmse: 0.479\n",
            "Still best_val_rmse: 0.4721 (from epoch 2)\n",
            "\n",
            "2 steps took 0.789 seconds\n",
            "Epoch: 2 batch_num: 90 val_rmse: 0.4791\n",
            "Still best_val_rmse: 0.4721 (from epoch 2)\n",
            "\n",
            "2 steps took 0.788 seconds\n",
            "Epoch: 2 batch_num: 92 val_rmse: 0.4789\n",
            "Still best_val_rmse: 0.4721 (from epoch 2)\n",
            "\n",
            "2 steps took 0.79 seconds\n",
            "Epoch: 2 batch_num: 94 val_rmse: 0.4776\n",
            "Still best_val_rmse: 0.4721 (from epoch 2)\n",
            "\n",
            "2 steps took 0.787 seconds\n",
            "Epoch: 2 batch_num: 96 val_rmse: 0.4761\n",
            "Still best_val_rmse: 0.4721 (from epoch 2)\n",
            "\n",
            "2 steps took 0.79 seconds\n",
            "Epoch: 2 batch_num: 98 val_rmse: 0.4754\n",
            "Still best_val_rmse: 0.4721 (from epoch 2)\n",
            "\n",
            "2 steps took 0.79 seconds\n",
            "Epoch: 2 batch_num: 100 val_rmse: 0.4749\n",
            "Still best_val_rmse: 0.4721 (from epoch 2)\n",
            "\n",
            "2 steps took 0.789 seconds\n",
            "Epoch: 2 batch_num: 102 val_rmse: 0.4744\n",
            "Still best_val_rmse: 0.4721 (from epoch 2)\n",
            "\n",
            "2 steps took 0.788 seconds\n",
            "Epoch: 2 batch_num: 104 val_rmse: 0.4744\n",
            "Still best_val_rmse: 0.4721 (from epoch 2)\n",
            "\n",
            "2 steps took 0.788 seconds\n",
            "Epoch: 2 batch_num: 106 val_rmse: 0.475\n",
            "Still best_val_rmse: 0.4721 (from epoch 2)\n",
            "\n",
            "2 steps took 0.788 seconds\n",
            "Epoch: 2 batch_num: 108 val_rmse: 0.4756\n",
            "Still best_val_rmse: 0.4721 (from epoch 2)\n",
            "\n",
            "2 steps took 0.788 seconds\n",
            "Epoch: 2 batch_num: 110 val_rmse: 0.4758\n",
            "Still best_val_rmse: 0.4721 (from epoch 2)\n",
            "\n",
            "2 steps took 0.788 seconds\n",
            "Epoch: 2 batch_num: 112 val_rmse: 0.4758\n",
            "Still best_val_rmse: 0.4721 (from epoch 2)\n",
            "\n",
            "2 steps took 0.789 seconds\n",
            "Epoch: 2 batch_num: 114 val_rmse: 0.4758\n",
            "Still best_val_rmse: 0.4721 (from epoch 2)\n",
            "\n",
            "2 steps took 0.8 seconds\n",
            "Epoch: 2 batch_num: 116 val_rmse: 0.4754\n",
            "Still best_val_rmse: 0.4721 (from epoch 2)\n",
            "\n",
            "2 steps took 0.789 seconds\n",
            "Epoch: 2 batch_num: 118 val_rmse: 0.4752\n",
            "Still best_val_rmse: 0.4721 (from epoch 2)\n",
            "\n",
            "2 steps took 0.789 seconds\n",
            "Epoch: 2 batch_num: 120 val_rmse: 0.475\n",
            "Still best_val_rmse: 0.4721 (from epoch 2)\n",
            "\n",
            "2 steps took 0.788 seconds\n",
            "Epoch: 2 batch_num: 122 val_rmse: 0.4748\n",
            "Still best_val_rmse: 0.4721 (from epoch 2)\n",
            "\n",
            "2 steps took 0.79 seconds\n",
            "Epoch: 2 batch_num: 124 val_rmse: 0.4748\n",
            "Still best_val_rmse: 0.4721 (from epoch 2)\n",
            "\n",
            "2 steps took 0.789 seconds\n",
            "Epoch: 2 batch_num: 126 val_rmse: 0.4748\n",
            "Still best_val_rmse: 0.4721 (from epoch 2)\n",
            "\n",
            "2 steps took 0.79 seconds\n",
            "Epoch: 2 batch_num: 128 val_rmse: 0.4749\n",
            "Still best_val_rmse: 0.4721 (from epoch 2)\n",
            "\n",
            "2 steps took 0.788 seconds\n",
            "Epoch: 2 batch_num: 130 val_rmse: 0.4749\n",
            "Still best_val_rmse: 0.4721 (from epoch 2)\n",
            "\n",
            "2 steps took 0.789 seconds\n",
            "Epoch: 2 batch_num: 132 val_rmse: 0.4749\n",
            "Still best_val_rmse: 0.4721 (from epoch 2)\n",
            "\n",
            "2 steps took 0.787 seconds\n",
            "Epoch: 2 batch_num: 134 val_rmse: 0.4749\n",
            "Still best_val_rmse: 0.4721 (from epoch 2)\n",
            "\n",
            "2 steps took 0.789 seconds\n",
            "Epoch: 2 batch_num: 136 val_rmse: 0.4749\n",
            "Still best_val_rmse: 0.4721 (from epoch 2)\n",
            "\n",
            "2 steps took 0.79 seconds\n",
            "Epoch: 2 batch_num: 138 val_rmse: 0.4749\n",
            "Still best_val_rmse: 0.4721 (from epoch 2)\n",
            "\n",
            "2 steps took 0.792 seconds\n",
            "Epoch: 2 batch_num: 140 val_rmse: 0.4749\n",
            "Still best_val_rmse: 0.4721 (from epoch 2)\n",
            "\n",
            "Performance estimates:\n",
            "[0.4720841942010381]\n",
            "Mean: 0.4720841942010381\n",
            "\n",
            "Fold 2/5\n"
          ],
          "name": "stdout"
        },
        {
          "output_type": "stream",
          "text": [
            "Some weights of the model checkpoint at ../input/commonlitreadabilityprize/pretrained-model/clrp_roberta_base/ were not used when initializing RobertaModel: ['lm_head.decoder.weight', 'lm_head.decoder.bias', 'lm_head.dense.bias', 'lm_head.layer_norm.bias', 'lm_head.dense.weight', 'lm_head.layer_norm.weight', 'lm_head.bias']\n",
            "- This IS expected if you are initializing RobertaModel from the checkpoint of a model trained on another task or with another architecture (e.g. initializing a BertForSequenceClassification model from a BertForPreTraining model).\n",
            "- This IS NOT expected if you are initializing RobertaModel from the checkpoint of a model that you expect to be exactly identical (initializing a BertForSequenceClassification model from a BertForSequenceClassification model).\n",
            "Some weights of RobertaModel were not initialized from the model checkpoint at ../input/commonlitreadabilityprize/pretrained-model/clrp_roberta_base/ and are newly initialized: ['roberta.pooler.dense.weight', 'roberta.pooler.dense.bias']\n",
            "You should probably TRAIN this model on a down-stream task to be able to use it for predictions and inference.\n"
          ],
          "name": "stderr"
        },
        {
          "output_type": "stream",
          "text": [
            "\n",
            "16 steps took 6.84 seconds\n",
            "Epoch: 0 batch_num: 16 val_rmse: 1.025\n",
            "New best_val_rmse: 1.025\n",
            "\n",
            "16 steps took 6.34 seconds\n",
            "Epoch: 0 batch_num: 32 val_rmse: 0.6971\n",
            "New best_val_rmse: 0.6971\n",
            "\n",
            "16 steps took 6.33 seconds\n",
            "Epoch: 0 batch_num: 48 val_rmse: 0.8434\n",
            "Still best_val_rmse: 0.6971 (from epoch 0)\n",
            "\n",
            "16 steps took 6.33 seconds\n",
            "Epoch: 0 batch_num: 64 val_rmse: 0.6983\n",
            "Still best_val_rmse: 0.6971 (from epoch 0)\n",
            "\n",
            "16 steps took 6.33 seconds\n",
            "Epoch: 0 batch_num: 80 val_rmse: 0.6535\n",
            "New best_val_rmse: 0.6535\n",
            "\n",
            "16 steps took 6.33 seconds\n"
          ],
          "name": "stdout"
        }
      ]
    },
    {
      "cell_type": "markdown",
      "metadata": {
        "id": "c9PqamPNXV5k"
      },
      "source": [
        "# Inference"
      ]
    },
    {
      "cell_type": "code",
      "metadata": {
        "execution": {
          "iopub.status.busy": "2021-06-26T23:00:05.14507Z",
          "iopub.status.idle": "2021-06-26T23:00:05.145713Z"
        },
        "trusted": true,
        "id": "7bAMT9-NXV5k"
      },
      "source": [
        "test_dataset = LitDataset(test_df, inference_only=True)"
      ],
      "execution_count": null,
      "outputs": []
    },
    {
      "cell_type": "code",
      "metadata": {
        "execution": {
          "iopub.status.busy": "2021-06-26T23:00:05.146909Z",
          "iopub.status.idle": "2021-06-26T23:00:05.147597Z"
        },
        "trusted": true,
        "id": "Z5Y_L0yfXV5k"
      },
      "source": [
        "all_predictions = np.zeros((len(list_val_rmse), len(test_df)))\n",
        "\n",
        "test_dataset = LitDataset(test_df, inference_only=True)\n",
        "test_loader = DataLoader(test_dataset, batch_size=BATCH_SIZE,\n",
        "                         drop_last=False, shuffle=False, num_workers=2)\n",
        "\n",
        "for index in range(len(list_val_rmse)):            \n",
        "    model_path = f\"model_{index + 1}.pth\"\n",
        "    print(f\"\\nUsing {model_path}\")\n",
        "                        \n",
        "    model = LitModel()\n",
        "    model.load_state_dict(torch.load(model_path))    \n",
        "    model.to(DEVICE)\n",
        "    \n",
        "    all_predictions[index] = predict(model, test_loader)\n",
        "    \n",
        "    del model\n",
        "    gc.collect()"
      ],
      "execution_count": null,
      "outputs": []
    },
    {
      "cell_type": "code",
      "metadata": {
        "execution": {
          "iopub.status.busy": "2021-06-26T23:00:05.148841Z",
          "iopub.status.idle": "2021-06-26T23:00:05.149475Z"
        },
        "trusted": true,
        "id": "oUDbpVq8XV5l"
      },
      "source": [
        "predictions = all_predictions.mean(axis=0)\n",
        "submission_df.target = predictions\n",
        "print(submission_df)\n",
        "submission_df.to_csv(\"submission.csv\", index=False)"
      ],
      "execution_count": null,
      "outputs": []
    },
    {
      "cell_type": "markdown",
      "metadata": {
        "id": "uXCmIyftjlEY"
      },
      "source": [
        "# Upload data"
      ]
    },
    {
      "cell_type": "code",
      "metadata": {
        "id": "X8IUhtyYjmso"
      },
      "source": [
        "!mkdir -p ./output/\n",
        "!cp -f ./model* ./output/\n",
        "!cp -f ./drive/MyDrive/kaggle/commonlit/Lightweight-Roberta-base/dataset-metadata.json ./output/\n",
        "!DATE=`date +\"%Y%m%d%I%M%S\"`\n",
        "!sed -i -e \"s/lightweight-roberta-base/lightweight-roberta-base-$DATE/\" ./output/dataset-metadata.json\n",
        "!kaggle datasets create -p ./output/"
      ],
      "execution_count": null,
      "outputs": []
    }
  ]
}
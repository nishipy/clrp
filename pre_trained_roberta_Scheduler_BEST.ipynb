{
  "nbformat": 4,
  "nbformat_minor": 5,
  "metadata": {
    "kernelspec": {
      "display_name": "Python 3",
      "language": "python",
      "name": "python3"
    },
    "language_info": {
      "codemirror_mode": {
        "name": "ipython",
        "version": 3
      },
      "file_extension": ".py",
      "mimetype": "text/x-python",
      "name": "python",
      "nbconvert_exporter": "python",
      "pygments_lexer": "ipython3",
      "version": "3.7.10"
    },
    "papermill": {
      "default_parameters": {},
      "duration": 2702.979398,
      "end_time": "2021-07-10T17:19:56.452391",
      "environment_variables": {},
      "exception": null,
      "input_path": "__notebook__.ipynb",
      "output_path": "__notebook__.ipynb",
      "parameters": {},
      "start_time": "2021-07-10T16:34:53.472993",
      "version": "2.3.3"
    },
    "colab": {
      "name": "pre-trained-roberta-Scheduler-BEST.ipynb",
      "provenance": [],
      "collapsed_sections": [
        "03O1cJpp9HAO"
      ],
      "machine_shape": "hm"
    },
    "accelerator": "GPU"
  },
  "cells": [
    {
      "cell_type": "markdown",
      "metadata": {
        "id": "UrbX1a6A8Doq"
      },
      "source": [
        "# Prerequisite"
      ],
      "id": "UrbX1a6A8Doq"
    },
    {
      "cell_type": "code",
      "metadata": {
        "colab": {
          "base_uri": "https://localhost:8080/"
        },
        "id": "YdDxPgc_8SBn",
        "outputId": "8060f791-9e88-46b5-cc1d-10cb3e2a4923"
      },
      "source": [
        "from google.colab import drive\n",
        "drive.mount('/content/drive')"
      ],
      "id": "YdDxPgc_8SBn",
      "execution_count": null,
      "outputs": [
        {
          "output_type": "stream",
          "text": [
            "Drive already mounted at /content/drive; to attempt to forcibly remount, call drive.mount(\"/content/drive\", force_remount=True).\n"
          ],
          "name": "stdout"
        }
      ]
    },
    {
      "cell_type": "code",
      "metadata": {
        "colab": {
          "base_uri": "https://localhost:8080/"
        },
        "id": "Q-21rfg88O1A",
        "outputId": "7bc29c5f-c342-4f0e-dc0d-8ebc4c31c6ad"
      },
      "source": [
        "gpu_info = !nvidia-smi\n",
        "gpu_info = '\\n'.join(gpu_info)\n",
        "if gpu_info.find('failed') >= 0:\n",
        "  print('Select the Runtime > \"Change runtime type\" menu to enable a GPU accelerator, ')\n",
        "  print('and then re-execute this cell.')\n",
        "else:\n",
        "  print(gpu_info)"
      ],
      "id": "Q-21rfg88O1A",
      "execution_count": null,
      "outputs": [
        {
          "output_type": "stream",
          "text": [
            "Fri Jul 30 11:46:54 2021       \n",
            "+-----------------------------------------------------------------------------+\n",
            "| NVIDIA-SMI 470.42.01    Driver Version: 460.32.03    CUDA Version: 11.2     |\n",
            "|-------------------------------+----------------------+----------------------+\n",
            "| GPU  Name        Persistence-M| Bus-Id        Disp.A | Volatile Uncorr. ECC |\n",
            "| Fan  Temp  Perf  Pwr:Usage/Cap|         Memory-Usage | GPU-Util  Compute M. |\n",
            "|                               |                      |               MIG M. |\n",
            "|===============================+======================+======================|\n",
            "|   0  Tesla P100-PCIE...  Off  | 00000000:00:04.0 Off |                    0 |\n",
            "| N/A   37C    P0    26W / 250W |      0MiB / 16280MiB |      0%      Default |\n",
            "|                               |                      |                  N/A |\n",
            "+-------------------------------+----------------------+----------------------+\n",
            "                                                                               \n",
            "+-----------------------------------------------------------------------------+\n",
            "| Processes:                                                                  |\n",
            "|  GPU   GI   CI        PID   Type   Process name                  GPU Memory |\n",
            "|        ID   ID                                                   Usage      |\n",
            "|=============================================================================|\n",
            "|  No running processes found                                                 |\n",
            "+-----------------------------------------------------------------------------+\n"
          ],
          "name": "stdout"
        }
      ]
    },
    {
      "cell_type": "code",
      "metadata": {
        "colab": {
          "base_uri": "https://localhost:8080/"
        },
        "id": "jlrHGNqyOVEG",
        "outputId": "84e9af07-d03e-4c9d-f7ae-1482248ef877"
      },
      "source": [
        "!python -V"
      ],
      "id": "jlrHGNqyOVEG",
      "execution_count": null,
      "outputs": [
        {
          "output_type": "stream",
          "text": [
            "Python 3.7.11\n"
          ],
          "name": "stdout"
        }
      ]
    },
    {
      "cell_type": "code",
      "metadata": {
        "id": "JnXDSalTBOqs"
      },
      "source": [
        ""
      ],
      "id": "JnXDSalTBOqs",
      "execution_count": null,
      "outputs": []
    },
    {
      "cell_type": "code",
      "metadata": {
        "id": "OEBNoyjUN62w"
      },
      "source": [
        "# !pip freeze |grep -e random -e math -e numpy -e pandas -e torch -e transformers -e sklearn -e gc"
      ],
      "id": "OEBNoyjUN62w",
      "execution_count": null,
      "outputs": []
    },
    {
      "cell_type": "markdown",
      "metadata": {
        "id": "BoRvT25dQZfN"
      },
      "source": [
        "(On kaggle notebook)\n",
        "```\n",
        "gcsfs @ file:///home/conda/feedstock_root/build_artifacts/gcsfs_1613013312379/work\n",
        "geopandas @ file:///home/conda/feedstock_root/build_artifacts/geopandas_1614589434390/work\n",
        "grpcio-gcp @ file:///home/conda/feedstock_root/build_artifacts/grpcio-gcp_1604414757985/work\n",
        "hpsklearn==0.1.0\n",
        "mpmath==1.2.1\n",
        "msgpack-numpy==0.4.7.1\n",
        "numpy==1.19.5\n",
        "pandas==1.2.3\n",
        "pandas-datareader==0.9.0\n",
        "pandas-profiling @ file:///home/conda/feedstock_root/build_artifacts/pandas-profiling_1613839428900/work\n",
        "pandas-summary==0.0.7\n",
        "pandasql==0.7.3\n",
        "pytorch-ignite==0.4.4\n",
        "pytorch-lightning==1.2.8\n",
        "randomgen==1.16.6\n",
        "sklearn==0.0\n",
        "sklearn-contrib-py-earth @ git+git://github.com/scikit-learn-contrib/py-earth.git@dde5f899255411a7b9cbbabf93a817eff4b02e5e\n",
        "sklearn-pandas==2.1.0\n",
        "tensorflow-gcs-config @ file:///tmp/tensorflow_gcs_config/tensorflow_gcs_config-2.1.7-py3-none-any.whl\n",
        "torch==1.7.0\n",
        "torchaudio==0.7.0a0+ac17b64\n",
        "torchmetrics==0.2.0\n",
        "torchtext==0.8.0a0+cd6902d\n",
        "torchvision==0.8.1\n",
        "transformers==4.5.1\n",
        "```"
      ],
      "id": "BoRvT25dQZfN"
    },
    {
      "cell_type": "code",
      "metadata": {
        "id": "LBS2Zv7DR2tk"
      },
      "source": [
        "# !cp -f /content/drive/MyDrive/kaggle/commonlit/pretrained-roberta-base/requirements.txt ./\n",
        "# !cat ./requirements.txt"
      ],
      "id": "LBS2Zv7DR2tk",
      "execution_count": null,
      "outputs": []
    },
    {
      "cell_type": "code",
      "metadata": {
        "colab": {
          "base_uri": "https://localhost:8080/"
        },
        "id": "k7y1hmfoS-Q1",
        "outputId": "c7e35f7d-d806-4424-dde9-6363a052b8d5"
      },
      "source": [
        "# バージョン更新\n",
        "!pip uninstall -r /content/drive/MyDrive/CommonLit/working/requirements.txt -y"
      ],
      "id": "k7y1hmfoS-Q1",
      "execution_count": null,
      "outputs": [
        {
          "output_type": "stream",
          "text": [
            "Found existing installation: pandas 1.2.3\n",
            "Uninstalling pandas-1.2.3:\n",
            "  Successfully uninstalled pandas-1.2.3\n",
            "Found existing installation: sklearn 0.0\n",
            "Uninstalling sklearn-0.0:\n",
            "  Successfully uninstalled sklearn-0.0\n",
            "Found existing installation: sklearn-pandas 2.1.0\n",
            "Uninstalling sklearn-pandas-2.1.0:\n",
            "  Successfully uninstalled sklearn-pandas-2.1.0\n",
            "Found existing installation: torch 1.7.0\n",
            "Uninstalling torch-1.7.0:\n",
            "  Successfully uninstalled torch-1.7.0\n",
            "Found existing installation: torchmetrics 0.2.0\n",
            "Uninstalling torchmetrics-0.2.0:\n",
            "  Successfully uninstalled torchmetrics-0.2.0\n",
            "Found existing installation: torchvision 0.8.1\n",
            "Uninstalling torchvision-0.8.1:\n",
            "  Successfully uninstalled torchvision-0.8.1\n",
            "Found existing installation: transformers 4.5.1\n",
            "Uninstalling transformers-4.5.1:\n",
            "  Successfully uninstalled transformers-4.5.1\n"
          ],
          "name": "stdout"
        }
      ]
    },
    {
      "cell_type": "code",
      "metadata": {
        "colab": {
          "base_uri": "https://localhost:8080/",
          "height": 889
        },
        "id": "DhM67RrVQYws",
        "outputId": "61e0fa9b-041b-4eb7-c39b-304039bd72b2"
      },
      "source": [
        "!pip install -r /content/drive/MyDrive/CommonLit/working/requirements.txt\n"
      ],
      "id": "DhM67RrVQYws",
      "execution_count": null,
      "outputs": [
        {
          "output_type": "stream",
          "text": [
            "Collecting pandas==1.2.3\n",
            "  Using cached pandas-1.2.3-cp37-cp37m-manylinux1_x86_64.whl (9.9 MB)\n",
            "Collecting sklearn==0.0\n",
            "  Using cached sklearn-0.0-py2.py3-none-any.whl\n",
            "Collecting sklearn-pandas==2.1.0\n",
            "  Using cached sklearn_pandas-2.1.0-py2.py3-none-any.whl (10 kB)\n",
            "Collecting torch==1.7.0\n",
            "  Using cached torch-1.7.0-cp37-cp37m-manylinux1_x86_64.whl (776.7 MB)\n",
            "Collecting torchmetrics==0.2.0\n",
            "  Using cached torchmetrics-0.2.0-py3-none-any.whl (176 kB)\n",
            "Collecting torchvision==0.8.1\n",
            "  Using cached torchvision-0.8.1-cp37-cp37m-manylinux1_x86_64.whl (12.7 MB)\n",
            "Collecting transformers==4.5.1\n",
            "  Using cached transformers-4.5.1-py3-none-any.whl (2.1 MB)\n",
            "Requirement already satisfied: numpy>=1.16.5 in /usr/local/lib/python3.7/dist-packages (from pandas==1.2.3->-r /content/drive/MyDrive/CommonLit/working/requirements.txt (line 1)) (1.19.5)\n",
            "Requirement already satisfied: python-dateutil>=2.7.3 in /usr/local/lib/python3.7/dist-packages (from pandas==1.2.3->-r /content/drive/MyDrive/CommonLit/working/requirements.txt (line 1)) (2.8.1)\n",
            "Requirement already satisfied: pytz>=2017.3 in /usr/local/lib/python3.7/dist-packages (from pandas==1.2.3->-r /content/drive/MyDrive/CommonLit/working/requirements.txt (line 1)) (2018.9)\n",
            "Requirement already satisfied: scikit-learn in /usr/local/lib/python3.7/dist-packages (from sklearn==0.0->-r /content/drive/MyDrive/CommonLit/working/requirements.txt (line 2)) (0.24.2)\n",
            "Requirement already satisfied: scipy>=1.5.1 in /usr/local/lib/python3.7/dist-packages (from sklearn-pandas==2.1.0->-r /content/drive/MyDrive/CommonLit/working/requirements.txt (line 3)) (1.7.0)\n",
            "Requirement already satisfied: dataclasses in /usr/local/lib/python3.7/dist-packages (from torch==1.7.0->-r /content/drive/MyDrive/CommonLit/working/requirements.txt (line 4)) (0.6)\n",
            "Requirement already satisfied: typing-extensions in /usr/local/lib/python3.7/dist-packages (from torch==1.7.0->-r /content/drive/MyDrive/CommonLit/working/requirements.txt (line 4)) (3.7.4.3)\n",
            "Requirement already satisfied: future in /usr/local/lib/python3.7/dist-packages (from torch==1.7.0->-r /content/drive/MyDrive/CommonLit/working/requirements.txt (line 4)) (0.16.0)\n",
            "Requirement already satisfied: pillow>=4.1.1 in /usr/local/lib/python3.7/dist-packages (from torchvision==0.8.1->-r /content/drive/MyDrive/CommonLit/working/requirements.txt (line 7)) (7.1.2)\n",
            "Requirement already satisfied: tokenizers<0.11,>=0.10.1 in /usr/local/lib/python3.7/dist-packages (from transformers==4.5.1->-r /content/drive/MyDrive/CommonLit/working/requirements.txt (line 8)) (0.10.3)\n",
            "Requirement already satisfied: packaging in /usr/local/lib/python3.7/dist-packages (from transformers==4.5.1->-r /content/drive/MyDrive/CommonLit/working/requirements.txt (line 8)) (21.0)\n",
            "Requirement already satisfied: regex!=2019.12.17 in /usr/local/lib/python3.7/dist-packages (from transformers==4.5.1->-r /content/drive/MyDrive/CommonLit/working/requirements.txt (line 8)) (2019.12.20)\n",
            "Requirement already satisfied: tqdm>=4.27 in /usr/local/lib/python3.7/dist-packages (from transformers==4.5.1->-r /content/drive/MyDrive/CommonLit/working/requirements.txt (line 8)) (4.61.2)\n",
            "Requirement already satisfied: filelock in /usr/local/lib/python3.7/dist-packages (from transformers==4.5.1->-r /content/drive/MyDrive/CommonLit/working/requirements.txt (line 8)) (3.0.12)\n",
            "Requirement already satisfied: requests in /usr/local/lib/python3.7/dist-packages (from transformers==4.5.1->-r /content/drive/MyDrive/CommonLit/working/requirements.txt (line 8)) (2.23.0)\n",
            "Requirement already satisfied: importlib-metadata in /usr/local/lib/python3.7/dist-packages (from transformers==4.5.1->-r /content/drive/MyDrive/CommonLit/working/requirements.txt (line 8)) (4.6.1)\n",
            "Requirement already satisfied: sacremoses in /usr/local/lib/python3.7/dist-packages (from transformers==4.5.1->-r /content/drive/MyDrive/CommonLit/working/requirements.txt (line 8)) (0.0.45)\n",
            "Requirement already satisfied: six>=1.5 in /usr/local/lib/python3.7/dist-packages (from python-dateutil>=2.7.3->pandas==1.2.3->-r /content/drive/MyDrive/CommonLit/working/requirements.txt (line 1)) (1.15.0)\n",
            "Requirement already satisfied: threadpoolctl>=2.0.0 in /usr/local/lib/python3.7/dist-packages (from scikit-learn->sklearn==0.0->-r /content/drive/MyDrive/CommonLit/working/requirements.txt (line 2)) (2.2.0)\n",
            "Requirement already satisfied: joblib>=0.11 in /usr/local/lib/python3.7/dist-packages (from scikit-learn->sklearn==0.0->-r /content/drive/MyDrive/CommonLit/working/requirements.txt (line 2)) (1.0.1)\n",
            "Requirement already satisfied: zipp>=0.5 in /usr/local/lib/python3.7/dist-packages (from importlib-metadata->transformers==4.5.1->-r /content/drive/MyDrive/CommonLit/working/requirements.txt (line 8)) (3.5.0)\n",
            "Requirement already satisfied: pyparsing>=2.0.2 in /usr/local/lib/python3.7/dist-packages (from packaging->transformers==4.5.1->-r /content/drive/MyDrive/CommonLit/working/requirements.txt (line 8)) (2.4.7)\n",
            "Requirement already satisfied: idna<3,>=2.5 in /usr/local/lib/python3.7/dist-packages (from requests->transformers==4.5.1->-r /content/drive/MyDrive/CommonLit/working/requirements.txt (line 8)) (2.10)\n",
            "Requirement already satisfied: certifi>=2017.4.17 in /usr/local/lib/python3.7/dist-packages (from requests->transformers==4.5.1->-r /content/drive/MyDrive/CommonLit/working/requirements.txt (line 8)) (2021.5.30)\n",
            "Requirement already satisfied: urllib3!=1.25.0,!=1.25.1,<1.26,>=1.21.1 in /usr/local/lib/python3.7/dist-packages (from requests->transformers==4.5.1->-r /content/drive/MyDrive/CommonLit/working/requirements.txt (line 8)) (1.24.3)\n",
            "Requirement already satisfied: chardet<4,>=3.0.2 in /usr/local/lib/python3.7/dist-packages (from requests->transformers==4.5.1->-r /content/drive/MyDrive/CommonLit/working/requirements.txt (line 8)) (3.0.4)\n",
            "Requirement already satisfied: click in /usr/local/lib/python3.7/dist-packages (from sacremoses->transformers==4.5.1->-r /content/drive/MyDrive/CommonLit/working/requirements.txt (line 8)) (7.1.2)\n",
            "Installing collected packages: torch, pandas, transformers, torchvision, torchmetrics, sklearn-pandas, sklearn\n",
            "\u001b[31mERROR: pip's dependency resolver does not currently take into account all the packages that are installed. This behaviour is the source of the following dependency conflicts.\n",
            "torchtext 0.10.0 requires torch==1.9.0, but you have torch 1.7.0 which is incompatible.\n",
            "google-colab 1.0.0 requires pandas~=1.1.0; python_version >= \"3.0\", but you have pandas 1.2.3 which is incompatible.\u001b[0m\n",
            "Successfully installed pandas-1.2.3 sklearn-0.0 sklearn-pandas-2.1.0 torch-1.7.0 torchmetrics-0.2.0 torchvision-0.8.1 transformers-4.5.1\n"
          ],
          "name": "stdout"
        },
        {
          "output_type": "display_data",
          "data": {
            "application/vnd.colab-display-data+json": {
              "pip_warning": {
                "packages": [
                  "pandas"
                ]
              }
            }
          },
          "metadata": {
            "tags": []
          }
        }
      ]
    },
    {
      "cell_type": "code",
      "metadata": {
        "colab": {
          "base_uri": "https://localhost:8080/"
        },
        "id": "HBMkIBcxUIb2",
        "outputId": "e77713cd-4a7f-49e6-9593-e3d080737e27"
      },
      "source": [
        "!pip freeze |grep -e random -e math -e numpy -e pandas -e torch -e transformers -e sklearn -e gc"
      ],
      "id": "HBMkIBcxUIb2",
      "execution_count": null,
      "outputs": [
        {
          "output_type": "stream",
          "text": [
            "mpmath==1.2.1\n",
            "numpy==1.19.5\n",
            "pandas==1.2.3\n",
            "pandas-datareader==0.9.0\n",
            "pandas-gbq==0.13.3\n",
            "pandas-profiling==1.4.1\n",
            "sklearn==0.0\n",
            "sklearn-pandas==2.1.0\n",
            "tensorflow-gcs-config==2.5.0\n",
            "torch==1.7.0\n",
            "torchmetrics==0.2.0\n",
            "torchsummary==1.5.1\n",
            "torchtext==0.10.0\n",
            "torchvision==0.8.1\n",
            "transformers==4.5.1\n"
          ],
          "name": "stdout"
        }
      ]
    },
    {
      "cell_type": "markdown",
      "metadata": {
        "id": "De2yfzg48VPx"
      },
      "source": [
        "## Prepare dataset"
      ],
      "id": "De2yfzg48VPx"
    },
    {
      "cell_type": "markdown",
      "metadata": {
        "id": "_YZk0yJH8mWO"
      },
      "source": [
        "### kaggle.json"
      ],
      "id": "_YZk0yJH8mWO"
    },
    {
      "cell_type": "code",
      "metadata": {
        "id": "DEuB9fOD8j8l"
      },
      "source": [
        "# !mkdir -p /root/.kaggle/\n",
        "# !cp ./drive/MyDrive/kaggle/commonlit/kaggle.json ~/.kaggle/kaggle.json\n",
        "# !chmod 600 ~/.kaggle/kaggle.json"
      ],
      "id": "DEuB9fOD8j8l",
      "execution_count": null,
      "outputs": []
    },
    {
      "cell_type": "markdown",
      "metadata": {
        "id": "4oKBPd9H8q0L"
      },
      "source": [
        "### Competition dataset"
      ],
      "id": "4oKBPd9H8q0L"
    },
    {
      "cell_type": "code",
      "metadata": {
        "colab": {
          "base_uri": "https://localhost:8080/"
        },
        "id": "lv4fLHsg8vsO",
        "outputId": "34cf5e28-3585-4ec3-8f87-4a65ceeb8a25"
      },
      "source": [
        "# !mkdir -p /root/.kaggle/\n",
        "# !cp ./drive/MyDrive/kaggle/commonlit/kaggle.json ~/.kaggle/kaggle.json\n",
        "# !chmod 600 ~/.kaggle/kaggle.json\n",
        "\n",
        "!pip install -q kaggle\n",
        "!mkdir /root/.kaggle\n",
        "!cp /content/drive/MyDrive/Colab\\ Notebooks/kaggle.json /root/.kaggle/\n",
        "\n",
        "# !ls ../input/commonlitreadabilityprize/\n",
        "!ls /content/drive/MyDrive/CommonLit/input/commonlitreadabilityprize"
      ],
      "id": "lv4fLHsg8vsO",
      "execution_count": null,
      "outputs": [
        {
          "output_type": "stream",
          "text": [
            "mkdir: cannot create directory ‘/root/.kaggle’: File exists\n",
            "clrp_roberta_base\t\t    pretrained-model\n",
            "clrp-roberta-base\t\t    roberta-base-nishipy\n",
            "clrp_roberta_base_chk\t\t    roberta-large\n",
            "clrp_roberta_base.zip\t\t    roberta-large-itptfit\n",
            "clrprobertalarge\t\t    roberta-large-mlm\n",
            "clr-roberta\t\t\t    sample_submission.csv\n",
            "commonlit-readability-roberta-base  test.csv\n",
            "dataset-metadata.json\t\t    text.txt\n",
            "huggingface-roberta-variants\t    train.csv\n",
            "__MACOSX\n"
          ],
          "name": "stdout"
        }
      ]
    },
    {
      "cell_type": "code",
      "metadata": {
        "id": "R1QcZXR79EO2"
      },
      "source": [
        "# !unzip -o ../input/commonlitreadabilityprize/train.csv.zip -d ../input/commonlitreadabilityprize/\n",
        "# !unzip -o ../input/commonlitreadabilityprize/train_stratiKfold.csv.zip -d ../input/commonlitreadabilityprize/"
      ],
      "id": "R1QcZXR79EO2",
      "execution_count": null,
      "outputs": []
    },
    {
      "cell_type": "code",
      "metadata": {
        "id": "FAJaSyc89GiB"
      },
      "source": [
        "# !ls ../input/commonlitreadabilityprize/"
      ],
      "id": "FAJaSyc89GiB",
      "execution_count": null,
      "outputs": []
    },
    {
      "cell_type": "markdown",
      "metadata": {
        "id": "03O1cJpp9HAO"
      },
      "source": [
        "### Pretrained RoBERTa Base \n",
        "- Notebook\n",
        "  - https://www.kaggle.com/maunish/clrp-pytorch-roberta-pretrain\n",
        "- Model data\n",
        "  - https://www.kaggle.com/maunish/clrp-roberta-base"
      ],
      "id": "03O1cJpp9HAO"
    },
    {
      "cell_type": "code",
      "metadata": {
        "id": "Izsn9ikg99Bn"
      },
      "source": [
        "# !unzip -o ../input/commonlitreadabilityprize/pretrained-model/roberta-pretrained.zip -d ../input/commonlitreadabilityprize/pretrained-model/"
      ],
      "id": "Izsn9ikg99Bn",
      "execution_count": null,
      "outputs": []
    },
    {
      "cell_type": "markdown",
      "metadata": {
        "id": "AEGf6ny98zoo"
      },
      "source": [
        ""
      ],
      "id": "AEGf6ny98zoo"
    },
    {
      "cell_type": "markdown",
      "metadata": {
        "papermill": {
          "duration": 0.020873,
          "end_time": "2021-07-10T16:35:02.554689",
          "exception": false,
          "start_time": "2021-07-10T16:35:02.533816",
          "status": "completed"
        },
        "tags": [],
        "id": "central-liberia"
      },
      "source": [
        "# Overview\n",
        "This is kernel is almost the same as [Lightweight Roberta solution in PyTorch](https://www.kaggle.com/andretugan/lightweight-roberta-solution-in-pytorch), but instead of \"roberta-base\", it starts from [Maunish's pre-trained model](https://www.kaggle.com/maunish/clrp-roberta-base).\n",
        "\n",
        "Acknowledgments: some ideas were taken from kernels by [Torch](https://www.kaggle.com/rhtsingh) and [Maunish](https://www.kaggle.com/maunish)."
      ],
      "id": "central-liberia"
    },
    {
      "cell_type": "code",
      "metadata": {
        "colab": {
          "base_uri": "https://localhost:8080/"
        },
        "id": "Dsgr4s1G-m73",
        "outputId": "83bcb2f9-b702-4ad8-e3f0-2cc09e8f6de3"
      },
      "source": [
        "#ONLY COLAB\n",
        "!pip install transformers accelerate datasets"
      ],
      "id": "Dsgr4s1G-m73",
      "execution_count": null,
      "outputs": [
        {
          "output_type": "stream",
          "text": [
            "Requirement already satisfied: transformers in /usr/local/lib/python3.7/dist-packages (4.5.1)\n",
            "Requirement already satisfied: accelerate in /usr/local/lib/python3.7/dist-packages (0.3.0)\n",
            "Requirement already satisfied: datasets in /usr/local/lib/python3.7/dist-packages (1.10.2)\n",
            "Requirement already satisfied: tqdm>=4.27 in /usr/local/lib/python3.7/dist-packages (from transformers) (4.61.2)\n",
            "Requirement already satisfied: regex!=2019.12.17 in /usr/local/lib/python3.7/dist-packages (from transformers) (2019.12.20)\n",
            "Requirement already satisfied: tokenizers<0.11,>=0.10.1 in /usr/local/lib/python3.7/dist-packages (from transformers) (0.10.3)\n",
            "Requirement already satisfied: importlib-metadata in /usr/local/lib/python3.7/dist-packages (from transformers) (4.6.1)\n",
            "Requirement already satisfied: filelock in /usr/local/lib/python3.7/dist-packages (from transformers) (3.0.12)\n",
            "Requirement already satisfied: numpy>=1.17 in /usr/local/lib/python3.7/dist-packages (from transformers) (1.19.5)\n",
            "Requirement already satisfied: sacremoses in /usr/local/lib/python3.7/dist-packages (from transformers) (0.0.45)\n",
            "Requirement already satisfied: packaging in /usr/local/lib/python3.7/dist-packages (from transformers) (21.0)\n",
            "Requirement already satisfied: requests in /usr/local/lib/python3.7/dist-packages (from transformers) (2.23.0)\n",
            "Requirement already satisfied: pyaml>=20.4.0 in /usr/local/lib/python3.7/dist-packages (from accelerate) (20.4.0)\n",
            "Requirement already satisfied: torch>=1.4.0 in /usr/local/lib/python3.7/dist-packages (from accelerate) (1.7.0)\n",
            "Requirement already satisfied: PyYAML in /usr/local/lib/python3.7/dist-packages (from pyaml>=20.4.0->accelerate) (3.13)\n",
            "Requirement already satisfied: dataclasses in /usr/local/lib/python3.7/dist-packages (from torch>=1.4.0->accelerate) (0.6)\n",
            "Requirement already satisfied: typing-extensions in /usr/local/lib/python3.7/dist-packages (from torch>=1.4.0->accelerate) (3.7.4.3)\n",
            "Requirement already satisfied: future in /usr/local/lib/python3.7/dist-packages (from torch>=1.4.0->accelerate) (0.16.0)\n",
            "Requirement already satisfied: pandas in /usr/local/lib/python3.7/dist-packages (from datasets) (1.2.3)\n",
            "Requirement already satisfied: fsspec>=2021.05.0 in /usr/local/lib/python3.7/dist-packages (from datasets) (2021.7.0)\n",
            "Requirement already satisfied: huggingface-hub<0.1.0 in /usr/local/lib/python3.7/dist-packages (from datasets) (0.0.15)\n",
            "Requirement already satisfied: xxhash in /usr/local/lib/python3.7/dist-packages (from datasets) (2.0.2)\n",
            "Requirement already satisfied: pyarrow!=4.0.0,>=1.0.0 in /usr/local/lib/python3.7/dist-packages (from datasets) (3.0.0)\n",
            "Requirement already satisfied: dill in /usr/local/lib/python3.7/dist-packages (from datasets) (0.3.4)\n",
            "Requirement already satisfied: multiprocess in /usr/local/lib/python3.7/dist-packages (from datasets) (0.70.12.2)\n",
            "Requirement already satisfied: pyparsing>=2.0.2 in /usr/local/lib/python3.7/dist-packages (from packaging->transformers) (2.4.7)\n",
            "Requirement already satisfied: chardet<4,>=3.0.2 in /usr/local/lib/python3.7/dist-packages (from requests->transformers) (3.0.4)\n",
            "Requirement already satisfied: certifi>=2017.4.17 in /usr/local/lib/python3.7/dist-packages (from requests->transformers) (2021.5.30)\n",
            "Requirement already satisfied: idna<3,>=2.5 in /usr/local/lib/python3.7/dist-packages (from requests->transformers) (2.10)\n",
            "Requirement already satisfied: urllib3!=1.25.0,!=1.25.1,<1.26,>=1.21.1 in /usr/local/lib/python3.7/dist-packages (from requests->transformers) (1.24.3)\n",
            "Requirement already satisfied: zipp>=0.5 in /usr/local/lib/python3.7/dist-packages (from importlib-metadata->transformers) (3.5.0)\n",
            "Requirement already satisfied: python-dateutil>=2.7.3 in /usr/local/lib/python3.7/dist-packages (from pandas->datasets) (2.8.1)\n",
            "Requirement already satisfied: pytz>=2017.3 in /usr/local/lib/python3.7/dist-packages (from pandas->datasets) (2018.9)\n",
            "Requirement already satisfied: six>=1.5 in /usr/local/lib/python3.7/dist-packages (from python-dateutil>=2.7.3->pandas->datasets) (1.15.0)\n",
            "Requirement already satisfied: joblib in /usr/local/lib/python3.7/dist-packages (from sacremoses->transformers) (1.0.1)\n",
            "Requirement already satisfied: click in /usr/local/lib/python3.7/dist-packages (from sacremoses->transformers) (7.1.2)\n"
          ],
          "name": "stdout"
        }
      ]
    },
    {
      "cell_type": "code",
      "metadata": {
        "_kg_hide-input": true,
        "execution": {
          "iopub.execute_input": "2021-07-10T16:35:02.605794Z",
          "iopub.status.busy": "2021-07-10T16:35:02.602341Z",
          "iopub.status.idle": "2021-07-10T16:35:11.998468Z",
          "shell.execute_reply": "2021-07-10T16:35:11.999041Z",
          "shell.execute_reply.started": "2021-07-10T16:33:36.630414Z"
        },
        "papermill": {
          "duration": 9.425549,
          "end_time": "2021-07-10T16:35:11.999387",
          "exception": false,
          "start_time": "2021-07-10T16:35:02.573838",
          "status": "completed"
        },
        "tags": [],
        "id": "classical-garage"
      },
      "source": [
        "import os\n",
        "import math\n",
        "import random\n",
        "import time\n",
        "\n",
        "import numpy as np\n",
        "import pandas as pd\n",
        "\n",
        "import torch\n",
        "import torch.nn as nn\n",
        "from torch.utils.data import Dataset\n",
        "from torch.utils.data import DataLoader\n",
        "\n",
        "from transformers import AdamW\n",
        "from transformers import AutoTokenizer\n",
        "from transformers import AutoModel\n",
        "from transformers import AutoConfig\n",
        "from transformers import get_cosine_schedule_with_warmup\n",
        "from transformers import get_linear_schedule_with_warmup\n",
        "\n",
        "from sklearn.model_selection import KFold\n",
        "\n",
        "import gc\n",
        "gc.enable()"
      ],
      "id": "classical-garage",
      "execution_count": null,
      "outputs": []
    },
    {
      "cell_type": "markdown",
      "metadata": {
        "papermill": {
          "duration": 0.017537,
          "end_time": "2021-07-10T16:35:12.036899",
          "exception": false,
          "start_time": "2021-07-10T16:35:12.019362",
          "status": "completed"
        },
        "tags": [],
        "id": "challenging-bottle"
      },
      "source": [
        "## Prepare dataset"
      ],
      "id": "challenging-bottle"
    },
    {
      "cell_type": "code",
      "metadata": {
        "execution": {
          "iopub.execute_input": "2021-07-10T16:35:12.077789Z",
          "iopub.status.busy": "2021-07-10T16:35:12.076946Z",
          "iopub.status.idle": "2021-07-10T16:35:12.873431Z",
          "shell.execute_reply": "2021-07-10T16:35:12.871700Z"
        },
        "papermill": {
          "duration": 0.818994,
          "end_time": "2021-07-10T16:35:12.873618",
          "exception": false,
          "start_time": "2021-07-10T16:35:12.054624",
          "status": "completed"
        },
        "tags": [],
        "id": "fuzzy-citizen"
      },
      "source": [
        "!"
      ],
      "id": "fuzzy-citizen",
      "execution_count": null,
      "outputs": []
    },
    {
      "cell_type": "code",
      "metadata": {
        "execution": {
          "iopub.execute_input": "2021-07-10T16:35:12.966641Z",
          "iopub.status.busy": "2021-07-10T16:35:12.965516Z",
          "iopub.status.idle": "2021-07-10T16:35:12.969362Z",
          "shell.execute_reply": "2021-07-10T16:35:12.968739Z",
          "shell.execute_reply.started": "2021-06-30T12:51:59.456435Z"
        },
        "papermill": {
          "duration": 0.076388,
          "end_time": "2021-07-10T16:35:12.969525",
          "exception": false,
          "start_time": "2021-07-10T16:35:12.893137",
          "status": "completed"
        },
        "tags": [],
        "id": "measured-cornwall"
      },
      "source": [
        "NUM_FOLDS = 5\n",
        "NUM_EPOCHS = 3\n",
        "BATCH_SIZE = 16\n",
        "MAX_LEN = 248\n",
        "EVAL_SCHEDULE = [(0.50, 16), (0.49, 8), (0.48, 4), (0.47, 2), (-1., 1)]\n",
        "ROBERTA_PATH = \"/content/drive/MyDrive/CommonLit/input/commonlitreadabilityprize/pretrained-model/clrp_roberta_base\"\n",
        "TOKENIZER_PATH = \"/content/drive/MyDrive/CommonLit/input/commonlitreadabilityprize/pretrained-model/clrp_roberta_base\"\n",
        "# ROBERTA_PATH = \"../input/clrp-roberta-base/clrp_roberta_base\"\n",
        "# TOKENIZER_PATH = \"../input/clrp-roberta-base/clrp_roberta_base\"\n",
        "DEVICE = \"cuda\" if torch.cuda.is_available() else \"cpu\""
      ],
      "id": "measured-cornwall",
      "execution_count": null,
      "outputs": []
    },
    {
      "cell_type": "code",
      "metadata": {
        "execution": {
          "iopub.execute_input": "2021-07-10T16:35:13.013652Z",
          "iopub.status.busy": "2021-07-10T16:35:13.012651Z",
          "iopub.status.idle": "2021-07-10T16:35:13.016079Z",
          "shell.execute_reply": "2021-07-10T16:35:13.015529Z",
          "shell.execute_reply.started": "2021-06-30T12:51:59.470504Z"
        },
        "papermill": {
          "duration": 0.028052,
          "end_time": "2021-07-10T16:35:13.016225",
          "exception": false,
          "start_time": "2021-07-10T16:35:12.988173",
          "status": "completed"
        },
        "tags": [],
        "id": "sitting-brook"
      },
      "source": [
        "def set_random_seed(random_seed):\n",
        "    random.seed(random_seed)\n",
        "    np.random.seed(random_seed)\n",
        "    os.environ[\"PYTHONHASHSEED\"] = str(random_seed)\n",
        "\n",
        "    torch.manual_seed(random_seed)\n",
        "    torch.cuda.manual_seed(random_seed)\n",
        "    torch.cuda.manual_seed_all(random_seed)\n",
        "\n",
        "    torch.backends.cudnn.deterministic = True"
      ],
      "id": "sitting-brook",
      "execution_count": null,
      "outputs": []
    },
    {
      "cell_type": "code",
      "metadata": {
        "execution": {
          "iopub.execute_input": "2021-07-10T16:35:13.059695Z",
          "iopub.status.busy": "2021-07-10T16:35:13.059033Z",
          "iopub.status.idle": "2021-07-10T16:35:13.181860Z",
          "shell.execute_reply": "2021-07-10T16:35:13.181008Z",
          "shell.execute_reply.started": "2021-06-30T12:51:59.485325Z"
        },
        "papermill": {
          "duration": 0.147365,
          "end_time": "2021-07-10T16:35:13.182094",
          "exception": false,
          "start_time": "2021-07-10T16:35:13.034729",
          "status": "completed"
        },
        "tags": [],
        "id": "banner-plastic"
      },
      "source": [
        "train_df = pd.read_csv(\"/content/drive/MyDrive/CommonLit/input/commonlitreadabilityprize/train.csv\")\n",
        "\n",
        "# Remove incomplete entries if any.\n",
        "train_df.drop(train_df[(train_df.target == 0) & (train_df.standard_error == 0)].index,\n",
        "              inplace=True)\n",
        "train_df.reset_index(drop=True, inplace=True)\n",
        "\n",
        "test_df = pd.read_csv(\"/content/drive/MyDrive/CommonLit/input/commonlitreadabilityprize/test.csv\")\n",
        "submission_df = pd.read_csv(\"/content/drive/MyDrive/CommonLit/input/commonlitreadabilityprize/sample_submission.csv\")"
      ],
      "id": "banner-plastic",
      "execution_count": null,
      "outputs": []
    },
    {
      "cell_type": "code",
      "metadata": {
        "execution": {
          "iopub.execute_input": "2021-07-10T16:35:13.223654Z",
          "iopub.status.busy": "2021-07-10T16:35:13.222955Z",
          "iopub.status.idle": "2021-07-10T16:35:13.465852Z",
          "shell.execute_reply": "2021-07-10T16:35:13.464700Z",
          "shell.execute_reply.started": "2021-06-30T12:51:59.537207Z"
        },
        "papermill": {
          "duration": 0.265264,
          "end_time": "2021-07-10T16:35:13.466048",
          "exception": false,
          "start_time": "2021-07-10T16:35:13.200784",
          "status": "completed"
        },
        "tags": [],
        "id": "unavailable-philadelphia",
        "colab": {
          "base_uri": "https://localhost:8080/",
          "height": 532
        },
        "outputId": "83604562-b18a-467c-8531-b095aad4ac55"
      },
      "source": [
        "tokenizer = AutoTokenizer.from_pretrained(TOKENIZER_PATH)"
      ],
      "id": "unavailable-philadelphia",
      "execution_count": null,
      "outputs": [
        {
          "output_type": "stream",
          "text": [
            "404 Client Error: Not Found for url: https://huggingface.co//content/drive/MyDrive/CommonLit/input/commonlitreadabilityprize/pretrained-model/clrp_roberta_base/resolve/main/config.json\n"
          ],
          "name": "stderr"
        },
        {
          "output_type": "error",
          "ename": "OSError",
          "evalue": "ignored",
          "traceback": [
            "\u001b[0;31m---------------------------------------------------------------------------\u001b[0m",
            "\u001b[0;31mHTTPError\u001b[0m                                 Traceback (most recent call last)",
            "\u001b[0;32m/usr/local/lib/python3.7/dist-packages/transformers/configuration_utils.py\u001b[0m in \u001b[0;36mget_config_dict\u001b[0;34m(cls, pretrained_model_name_or_path, **kwargs)\u001b[0m\n\u001b[1;32m    465\u001b[0m                 \u001b[0muse_auth_token\u001b[0m\u001b[0;34m=\u001b[0m\u001b[0muse_auth_token\u001b[0m\u001b[0;34m,\u001b[0m\u001b[0;34m\u001b[0m\u001b[0;34m\u001b[0m\u001b[0m\n\u001b[0;32m--> 466\u001b[0;31m                 \u001b[0muser_agent\u001b[0m\u001b[0;34m=\u001b[0m\u001b[0muser_agent\u001b[0m\u001b[0;34m,\u001b[0m\u001b[0;34m\u001b[0m\u001b[0;34m\u001b[0m\u001b[0m\n\u001b[0m\u001b[1;32m    467\u001b[0m             )\n",
            "\u001b[0;32m/usr/local/lib/python3.7/dist-packages/transformers/file_utils.py\u001b[0m in \u001b[0;36mcached_path\u001b[0;34m(url_or_filename, cache_dir, force_download, proxies, resume_download, user_agent, extract_compressed_file, force_extract, use_auth_token, local_files_only)\u001b[0m\n\u001b[1;32m   1172\u001b[0m             \u001b[0muse_auth_token\u001b[0m\u001b[0;34m=\u001b[0m\u001b[0muse_auth_token\u001b[0m\u001b[0;34m,\u001b[0m\u001b[0;34m\u001b[0m\u001b[0;34m\u001b[0m\u001b[0m\n\u001b[0;32m-> 1173\u001b[0;31m             \u001b[0mlocal_files_only\u001b[0m\u001b[0;34m=\u001b[0m\u001b[0mlocal_files_only\u001b[0m\u001b[0;34m,\u001b[0m\u001b[0;34m\u001b[0m\u001b[0;34m\u001b[0m\u001b[0m\n\u001b[0m\u001b[1;32m   1174\u001b[0m         )\n",
            "\u001b[0;32m/usr/local/lib/python3.7/dist-packages/transformers/file_utils.py\u001b[0m in \u001b[0;36mget_from_cache\u001b[0;34m(url, cache_dir, force_download, proxies, etag_timeout, resume_download, user_agent, use_auth_token, local_files_only)\u001b[0m\n\u001b[1;32m   1335\u001b[0m             \u001b[0mr\u001b[0m \u001b[0;34m=\u001b[0m \u001b[0mrequests\u001b[0m\u001b[0;34m.\u001b[0m\u001b[0mhead\u001b[0m\u001b[0;34m(\u001b[0m\u001b[0murl\u001b[0m\u001b[0;34m,\u001b[0m \u001b[0mheaders\u001b[0m\u001b[0;34m=\u001b[0m\u001b[0mheaders\u001b[0m\u001b[0;34m,\u001b[0m \u001b[0mallow_redirects\u001b[0m\u001b[0;34m=\u001b[0m\u001b[0;32mFalse\u001b[0m\u001b[0;34m,\u001b[0m \u001b[0mproxies\u001b[0m\u001b[0;34m=\u001b[0m\u001b[0mproxies\u001b[0m\u001b[0;34m,\u001b[0m \u001b[0mtimeout\u001b[0m\u001b[0;34m=\u001b[0m\u001b[0metag_timeout\u001b[0m\u001b[0;34m)\u001b[0m\u001b[0;34m\u001b[0m\u001b[0;34m\u001b[0m\u001b[0m\n\u001b[0;32m-> 1336\u001b[0;31m             \u001b[0mr\u001b[0m\u001b[0;34m.\u001b[0m\u001b[0mraise_for_status\u001b[0m\u001b[0;34m(\u001b[0m\u001b[0;34m)\u001b[0m\u001b[0;34m\u001b[0m\u001b[0;34m\u001b[0m\u001b[0m\n\u001b[0m\u001b[1;32m   1337\u001b[0m             \u001b[0metag\u001b[0m \u001b[0;34m=\u001b[0m \u001b[0mr\u001b[0m\u001b[0;34m.\u001b[0m\u001b[0mheaders\u001b[0m\u001b[0;34m.\u001b[0m\u001b[0mget\u001b[0m\u001b[0;34m(\u001b[0m\u001b[0;34m\"X-Linked-Etag\"\u001b[0m\u001b[0;34m)\u001b[0m \u001b[0;32mor\u001b[0m \u001b[0mr\u001b[0m\u001b[0;34m.\u001b[0m\u001b[0mheaders\u001b[0m\u001b[0;34m.\u001b[0m\u001b[0mget\u001b[0m\u001b[0;34m(\u001b[0m\u001b[0;34m\"ETag\"\u001b[0m\u001b[0;34m)\u001b[0m\u001b[0;34m\u001b[0m\u001b[0;34m\u001b[0m\u001b[0m\n",
            "\u001b[0;32m/usr/local/lib/python3.7/dist-packages/requests/models.py\u001b[0m in \u001b[0;36mraise_for_status\u001b[0;34m(self)\u001b[0m\n\u001b[1;32m    940\u001b[0m         \u001b[0;32mif\u001b[0m \u001b[0mhttp_error_msg\u001b[0m\u001b[0;34m:\u001b[0m\u001b[0;34m\u001b[0m\u001b[0;34m\u001b[0m\u001b[0m\n\u001b[0;32m--> 941\u001b[0;31m             \u001b[0;32mraise\u001b[0m \u001b[0mHTTPError\u001b[0m\u001b[0;34m(\u001b[0m\u001b[0mhttp_error_msg\u001b[0m\u001b[0;34m,\u001b[0m \u001b[0mresponse\u001b[0m\u001b[0;34m=\u001b[0m\u001b[0mself\u001b[0m\u001b[0;34m)\u001b[0m\u001b[0;34m\u001b[0m\u001b[0;34m\u001b[0m\u001b[0m\n\u001b[0m\u001b[1;32m    942\u001b[0m \u001b[0;34m\u001b[0m\u001b[0m\n",
            "\u001b[0;31mHTTPError\u001b[0m: 404 Client Error: Not Found for url: https://huggingface.co//content/drive/MyDrive/CommonLit/input/commonlitreadabilityprize/pretrained-model/clrp_roberta_base/resolve/main/config.json",
            "\nDuring handling of the above exception, another exception occurred:\n",
            "\u001b[0;31mOSError\u001b[0m                                   Traceback (most recent call last)",
            "\u001b[0;32m<ipython-input-20-31a9b9f491f8>\u001b[0m in \u001b[0;36m<module>\u001b[0;34m()\u001b[0m\n\u001b[0;32m----> 1\u001b[0;31m \u001b[0mtokenizer\u001b[0m \u001b[0;34m=\u001b[0m \u001b[0mAutoTokenizer\u001b[0m\u001b[0;34m.\u001b[0m\u001b[0mfrom_pretrained\u001b[0m\u001b[0;34m(\u001b[0m\u001b[0mTOKENIZER_PATH\u001b[0m\u001b[0;34m)\u001b[0m\u001b[0;34m\u001b[0m\u001b[0;34m\u001b[0m\u001b[0m\n\u001b[0m",
            "\u001b[0;32m/usr/local/lib/python3.7/dist-packages/transformers/models/auto/tokenization_auto.py\u001b[0m in \u001b[0;36mfrom_pretrained\u001b[0;34m(cls, pretrained_model_name_or_path, *inputs, **kwargs)\u001b[0m\n\u001b[1;32m    388\u001b[0m         \u001b[0mkwargs\u001b[0m\u001b[0;34m[\u001b[0m\u001b[0;34m\"_from_auto\"\u001b[0m\u001b[0;34m]\u001b[0m \u001b[0;34m=\u001b[0m \u001b[0;32mTrue\u001b[0m\u001b[0;34m\u001b[0m\u001b[0;34m\u001b[0m\u001b[0m\n\u001b[1;32m    389\u001b[0m         \u001b[0;32mif\u001b[0m \u001b[0;32mnot\u001b[0m \u001b[0misinstance\u001b[0m\u001b[0;34m(\u001b[0m\u001b[0mconfig\u001b[0m\u001b[0;34m,\u001b[0m \u001b[0mPretrainedConfig\u001b[0m\u001b[0;34m)\u001b[0m\u001b[0;34m:\u001b[0m\u001b[0;34m\u001b[0m\u001b[0;34m\u001b[0m\u001b[0m\n\u001b[0;32m--> 390\u001b[0;31m             \u001b[0mconfig\u001b[0m \u001b[0;34m=\u001b[0m \u001b[0mAutoConfig\u001b[0m\u001b[0;34m.\u001b[0m\u001b[0mfrom_pretrained\u001b[0m\u001b[0;34m(\u001b[0m\u001b[0mpretrained_model_name_or_path\u001b[0m\u001b[0;34m,\u001b[0m \u001b[0;34m**\u001b[0m\u001b[0mkwargs\u001b[0m\u001b[0;34m)\u001b[0m\u001b[0;34m\u001b[0m\u001b[0;34m\u001b[0m\u001b[0m\n\u001b[0m\u001b[1;32m    391\u001b[0m \u001b[0;34m\u001b[0m\u001b[0m\n\u001b[1;32m    392\u001b[0m         \u001b[0muse_fast\u001b[0m \u001b[0;34m=\u001b[0m \u001b[0mkwargs\u001b[0m\u001b[0;34m.\u001b[0m\u001b[0mpop\u001b[0m\u001b[0;34m(\u001b[0m\u001b[0;34m\"use_fast\"\u001b[0m\u001b[0;34m,\u001b[0m \u001b[0;32mTrue\u001b[0m\u001b[0;34m)\u001b[0m\u001b[0;34m\u001b[0m\u001b[0;34m\u001b[0m\u001b[0m\n",
            "\u001b[0;32m/usr/local/lib/python3.7/dist-packages/transformers/models/auto/configuration_auto.py\u001b[0m in \u001b[0;36mfrom_pretrained\u001b[0;34m(cls, pretrained_model_name_or_path, **kwargs)\u001b[0m\n\u001b[1;32m    396\u001b[0m         \"\"\"\n\u001b[1;32m    397\u001b[0m         \u001b[0mkwargs\u001b[0m\u001b[0;34m[\u001b[0m\u001b[0;34m\"_from_auto\"\u001b[0m\u001b[0;34m]\u001b[0m \u001b[0;34m=\u001b[0m \u001b[0;32mTrue\u001b[0m\u001b[0;34m\u001b[0m\u001b[0;34m\u001b[0m\u001b[0m\n\u001b[0;32m--> 398\u001b[0;31m         \u001b[0mconfig_dict\u001b[0m\u001b[0;34m,\u001b[0m \u001b[0m_\u001b[0m \u001b[0;34m=\u001b[0m \u001b[0mPretrainedConfig\u001b[0m\u001b[0;34m.\u001b[0m\u001b[0mget_config_dict\u001b[0m\u001b[0;34m(\u001b[0m\u001b[0mpretrained_model_name_or_path\u001b[0m\u001b[0;34m,\u001b[0m \u001b[0;34m**\u001b[0m\u001b[0mkwargs\u001b[0m\u001b[0;34m)\u001b[0m\u001b[0;34m\u001b[0m\u001b[0;34m\u001b[0m\u001b[0m\n\u001b[0m\u001b[1;32m    399\u001b[0m         \u001b[0;32mif\u001b[0m \u001b[0;34m\"model_type\"\u001b[0m \u001b[0;32min\u001b[0m \u001b[0mconfig_dict\u001b[0m\u001b[0;34m:\u001b[0m\u001b[0;34m\u001b[0m\u001b[0;34m\u001b[0m\u001b[0m\n\u001b[1;32m    400\u001b[0m             \u001b[0mconfig_class\u001b[0m \u001b[0;34m=\u001b[0m \u001b[0mCONFIG_MAPPING\u001b[0m\u001b[0;34m[\u001b[0m\u001b[0mconfig_dict\u001b[0m\u001b[0;34m[\u001b[0m\u001b[0;34m\"model_type\"\u001b[0m\u001b[0;34m]\u001b[0m\u001b[0;34m]\u001b[0m\u001b[0;34m\u001b[0m\u001b[0;34m\u001b[0m\u001b[0m\n",
            "\u001b[0;32m/usr/local/lib/python3.7/dist-packages/transformers/configuration_utils.py\u001b[0m in \u001b[0;36mget_config_dict\u001b[0;34m(cls, pretrained_model_name_or_path, **kwargs)\u001b[0m\n\u001b[1;32m    476\u001b[0m                 \u001b[0;34mf\"- or '{pretrained_model_name_or_path}' is the correct path to a directory containing a {CONFIG_NAME} file\\n\\n\"\u001b[0m\u001b[0;34m\u001b[0m\u001b[0;34m\u001b[0m\u001b[0m\n\u001b[1;32m    477\u001b[0m             )\n\u001b[0;32m--> 478\u001b[0;31m             \u001b[0;32mraise\u001b[0m \u001b[0mEnvironmentError\u001b[0m\u001b[0;34m(\u001b[0m\u001b[0mmsg\u001b[0m\u001b[0;34m)\u001b[0m\u001b[0;34m\u001b[0m\u001b[0;34m\u001b[0m\u001b[0m\n\u001b[0m\u001b[1;32m    479\u001b[0m \u001b[0;34m\u001b[0m\u001b[0m\n\u001b[1;32m    480\u001b[0m         \u001b[0;32mexcept\u001b[0m \u001b[0mjson\u001b[0m\u001b[0;34m.\u001b[0m\u001b[0mJSONDecodeError\u001b[0m\u001b[0;34m:\u001b[0m\u001b[0;34m\u001b[0m\u001b[0;34m\u001b[0m\u001b[0m\n",
            "\u001b[0;31mOSError\u001b[0m: Can't load config for '/content/drive/MyDrive/CommonLit/input/commonlitreadabilityprize/pretrained-model/clrp_roberta_base'. Make sure that:\n\n- '/content/drive/MyDrive/CommonLit/input/commonlitreadabilityprize/pretrained-model/clrp_roberta_base' is a correct model identifier listed on 'https://huggingface.co/models'\n\n- or '/content/drive/MyDrive/CommonLit/input/commonlitreadabilityprize/pretrained-model/clrp_roberta_base' is the correct path to a directory containing a config.json file\n\n"
          ]
        }
      ]
    },
    {
      "cell_type": "markdown",
      "metadata": {
        "papermill": {
          "duration": 0.018281,
          "end_time": "2021-07-10T16:35:13.502997",
          "exception": false,
          "start_time": "2021-07-10T16:35:13.484716",
          "status": "completed"
        },
        "tags": [],
        "id": "intermediate-brand"
      },
      "source": [
        "# Dataset"
      ],
      "id": "intermediate-brand"
    },
    {
      "cell_type": "code",
      "metadata": {
        "execution": {
          "iopub.execute_input": "2021-07-10T16:35:13.549331Z",
          "iopub.status.busy": "2021-07-10T16:35:13.548372Z",
          "iopub.status.idle": "2021-07-10T16:35:13.552476Z",
          "shell.execute_reply": "2021-07-10T16:35:13.551942Z",
          "shell.execute_reply.started": "2021-06-30T12:51:59.797452Z"
        },
        "papermill": {
          "duration": 0.031082,
          "end_time": "2021-07-10T16:35:13.552607",
          "exception": false,
          "start_time": "2021-07-10T16:35:13.521525",
          "status": "completed"
        },
        "tags": [],
        "id": "adopted-prayer"
      },
      "source": [
        "class LitDataset(Dataset):\n",
        "    def __init__(self, df, inference_only=False):\n",
        "        super().__init__()\n",
        "\n",
        "        self.df = df        \n",
        "        self.inference_only = inference_only\n",
        "        self.text = df.excerpt.tolist()\n",
        "        #self.text = [text.replace(\"\\n\", \" \") for text in self.text]\n",
        "        \n",
        "        if not self.inference_only:\n",
        "            self.target = torch.tensor(df.target.values, dtype=torch.float32)        \n",
        "    \n",
        "        self.encoded = tokenizer.batch_encode_plus(\n",
        "            self.text,\n",
        "            padding = 'max_length',            \n",
        "            max_length = MAX_LEN,\n",
        "            truncation = True,\n",
        "            return_attention_mask=True\n",
        "        )        \n",
        " \n",
        "\n",
        "    def __len__(self):\n",
        "        return len(self.df)\n",
        "\n",
        "    \n",
        "    def __getitem__(self, index):        \n",
        "        input_ids = torch.tensor(self.encoded['input_ids'][index])\n",
        "        attention_mask = torch.tensor(self.encoded['attention_mask'][index])\n",
        "        \n",
        "        if self.inference_only:\n",
        "            return (input_ids, attention_mask)            \n",
        "        else:\n",
        "            target = self.target[index]\n",
        "            return (input_ids, attention_mask, target)"
      ],
      "id": "adopted-prayer",
      "execution_count": null,
      "outputs": []
    },
    {
      "cell_type": "markdown",
      "metadata": {
        "papermill": {
          "duration": 0.018016,
          "end_time": "2021-07-10T16:35:13.588706",
          "exception": false,
          "start_time": "2021-07-10T16:35:13.570690",
          "status": "completed"
        },
        "tags": [],
        "id": "sonic-cooperative"
      },
      "source": [
        "# Model\n",
        "The model is inspired by the one from [Maunish](https://www.kaggle.com/maunish/clrp-roberta-svm)."
      ],
      "id": "sonic-cooperative"
    },
    {
      "cell_type": "code",
      "metadata": {
        "execution": {
          "iopub.execute_input": "2021-07-10T16:35:13.662281Z",
          "iopub.status.busy": "2021-07-10T16:35:13.661368Z",
          "iopub.status.idle": "2021-07-10T16:35:13.679333Z",
          "shell.execute_reply": "2021-07-10T16:35:13.680266Z",
          "shell.execute_reply.started": "2021-06-30T12:51:59.811644Z"
        },
        "papermill": {
          "duration": 0.063207,
          "end_time": "2021-07-10T16:35:13.680545",
          "exception": false,
          "start_time": "2021-07-10T16:35:13.617338",
          "status": "completed"
        },
        "tags": [],
        "id": "listed-coordinate"
      },
      "source": [
        "class LitModel(nn.Module):\n",
        "    def __init__(self):\n",
        "        super().__init__()\n",
        "\n",
        "        config = AutoConfig.from_pretrained(ROBERTA_PATH)\n",
        "        config.update({\"output_hidden_states\":True, \n",
        "                       \"hidden_dropout_prob\": 0.0,\n",
        "                       \"layer_norm_eps\": 1e-7})                       \n",
        "        \n",
        "        self.roberta = AutoModel.from_pretrained(ROBERTA_PATH, config=config)  \n",
        "            \n",
        "        self.attention = nn.Sequential(            \n",
        "            nn.Linear(768, 512),            \n",
        "            nn.Tanh(),                       \n",
        "            nn.Linear(512, 1),\n",
        "            nn.Softmax(dim=1)\n",
        "        )        \n",
        "\n",
        "        self.regressor = nn.Sequential(                        \n",
        "            nn.Linear(768, 1)                        \n",
        "        )\n",
        "        \n",
        "\n",
        "    def forward(self, input_ids, attention_mask):\n",
        "        roberta_output = self.roberta(input_ids=input_ids,\n",
        "                                      attention_mask=attention_mask)        \n",
        "\n",
        "        # There are a total of 13 layers of hidden states.\n",
        "        # 1 for the embedding layer, and 12 for the 12 Roberta layers.\n",
        "        # We take the hidden states from the last Roberta layer.\n",
        "        last_layer_hidden_states = roberta_output.hidden_states[-1]\n",
        "\n",
        "        # The number of cells is MAX_LEN.\n",
        "        # The size of the hidden state of each cell is 768 (for roberta-base).\n",
        "        # In order to condense hidden states of all cells to a context vector,\n",
        "        # we compute a weighted average of the hidden states of all cells.\n",
        "        # We compute the weight of each cell, using the attention neural network.\n",
        "        weights = self.attention(last_layer_hidden_states)\n",
        "                \n",
        "        # weights.shape is BATCH_SIZE x MAX_LEN x 1\n",
        "        # last_layer_hidden_states.shape is BATCH_SIZE x MAX_LEN x 768        \n",
        "        # Now we compute context_vector as the weighted average.\n",
        "        # context_vector.shape is BATCH_SIZE x 768\n",
        "        context_vector = torch.sum(weights * last_layer_hidden_states, dim=1)        \n",
        "        \n",
        "        # Now we reduce the context vector to the prediction score.\n",
        "        return self.regressor(context_vector)\n",
        "\n",
        "class Model(nn.Module):\n",
        "    def __init__(self,path):\n",
        "        super(Model,self).__init__()\n",
        "        self.config = AutoConfig.from_pretrained(path)\n",
        "        self.config.update({'output_hidden_states':True,\"hidden_dropout_prob\": 0.0})\n",
        "        self.roberta = AutoModel.from_pretrained(path,config=self.config)  \n",
        "#         self.linear = nn.Linear(self.config.hidden_size*4, 1, 1)\n",
        "        self.linear = nn.Linear(self.config.hidden_size, 1)\n",
        "        self.layer_norm = nn.LayerNorm(self.config.hidden_size)\n",
        "\n",
        "    def forward(self,**xb):\n",
        "        attention_mask = xb['attention_mask']\n",
        "        outputs = self.roberta(**xb)\n",
        "        last_hidden_state = outputs[0]\n",
        "        input_mask_expanded = attention_mask.unsqueeze(-1).expand(last_hidden_state.size()).float()\n",
        "        sum_embeddings = torch.sum(last_hidden_state * input_mask_expanded, 1)\n",
        "        sum_mask = input_mask_expanded.sum(1)\n",
        "        sum_mask = torch.clamp(sum_mask, min=1e-9)\n",
        "        mean_embeddings = sum_embeddings / sum_mask\n",
        "        norm_mean_embeddings = self.layer_norm(mean_embeddings)\n",
        "        logits = self.linear(norm_mean_embeddings)\n",
        "        \n",
        "        preds = logits.squeeze(-1).squeeze(-1)\n",
        "        return preds.view(-1).float()"
      ],
      "id": "listed-coordinate",
      "execution_count": null,
      "outputs": []
    },
    {
      "cell_type": "code",
      "metadata": {
        "execution": {
          "iopub.execute_input": "2021-07-10T16:35:13.776053Z",
          "iopub.status.busy": "2021-07-10T16:35:13.774791Z",
          "iopub.status.idle": "2021-07-10T16:35:13.782919Z",
          "shell.execute_reply": "2021-07-10T16:35:13.784211Z",
          "shell.execute_reply.started": "2021-06-30T12:51:59.831662Z"
        },
        "papermill": {
          "duration": 0.069033,
          "end_time": "2021-07-10T16:35:13.784378",
          "exception": false,
          "start_time": "2021-07-10T16:35:13.715345",
          "status": "completed"
        },
        "tags": [],
        "id": "marked-citation"
      },
      "source": [
        "def eval_mse(model, data_loader):\n",
        "    \"\"\"Evaluates the mean squared error of the |model| on |data_loader|\"\"\"\n",
        "    model.eval()            \n",
        "    mse_sum = 0\n",
        "\n",
        "    with torch.no_grad():\n",
        "        for batch_num, (input_ids, attention_mask, target) in enumerate(data_loader):\n",
        "            input_ids = input_ids.to(DEVICE)\n",
        "            attention_mask = attention_mask.to(DEVICE)                        \n",
        "            target = target.to(DEVICE)           \n",
        "            \n",
        "            pred = model(input_ids, attention_mask)                       \n",
        "\n",
        "            mse_sum += nn.MSELoss(reduction=\"sum\")(pred.flatten(), target).item()\n",
        "                \n",
        "\n",
        "    return mse_sum / len(data_loader.dataset)"
      ],
      "id": "marked-citation",
      "execution_count": null,
      "outputs": []
    },
    {
      "cell_type": "code",
      "metadata": {
        "execution": {
          "iopub.execute_input": "2021-07-10T16:35:13.860639Z",
          "iopub.status.busy": "2021-07-10T16:35:13.859518Z",
          "iopub.status.idle": "2021-07-10T16:35:13.865246Z",
          "shell.execute_reply": "2021-07-10T16:35:13.867010Z",
          "shell.execute_reply.started": "2021-06-30T12:51:59.844758Z"
        },
        "papermill": {
          "duration": 0.049393,
          "end_time": "2021-07-10T16:35:13.867227",
          "exception": false,
          "start_time": "2021-07-10T16:35:13.817834",
          "status": "completed"
        },
        "tags": [],
        "id": "associate-astrology"
      },
      "source": [
        "def predict(model, data_loader):\n",
        "    \"\"\"Returns an np.array with predictions of the |model| on |data_loader|\"\"\"\n",
        "    model.eval()\n",
        "\n",
        "    result = np.zeros(len(data_loader.dataset))    \n",
        "    index = 0\n",
        "    \n",
        "    with torch.no_grad():\n",
        "        for batch_num, (input_ids, attention_mask) in enumerate(data_loader):\n",
        "            input_ids = input_ids.to(DEVICE)\n",
        "            attention_mask = attention_mask.to(DEVICE)\n",
        "                        \n",
        "            pred = model(input_ids, attention_mask)                        \n",
        "\n",
        "            result[index : index + pred.shape[0]] = pred.flatten().to(\"cpu\")\n",
        "            index += pred.shape[0]\n",
        "\n",
        "    return result"
      ],
      "id": "associate-astrology",
      "execution_count": null,
      "outputs": []
    },
    {
      "cell_type": "code",
      "metadata": {
        "execution": {
          "iopub.execute_input": "2021-07-10T16:35:13.957154Z",
          "iopub.status.busy": "2021-07-10T16:35:13.955894Z",
          "iopub.status.idle": "2021-07-10T16:35:13.970258Z",
          "shell.execute_reply": "2021-07-10T16:35:13.971515Z",
          "shell.execute_reply.started": "2021-06-30T12:51:59.863562Z"
        },
        "papermill": {
          "duration": 0.064065,
          "end_time": "2021-07-10T16:35:13.971767",
          "exception": false,
          "start_time": "2021-07-10T16:35:13.907702",
          "status": "completed"
        },
        "tags": [],
        "id": "impressed-minnesota"
      },
      "source": [
        "def train(model, model_path, train_loader, val_loader,\n",
        "          optimizer, scheduler=None, num_epochs=NUM_EPOCHS):    \n",
        "    best_val_rmse = None\n",
        "    best_epoch = 0\n",
        "    step = 0\n",
        "    last_eval_step = 0\n",
        "    eval_period = EVAL_SCHEDULE[0][1]    \n",
        "\n",
        "    start = time.time()\n",
        "\n",
        "    for epoch in range(num_epochs):                           \n",
        "        val_rmse = None         \n",
        "\n",
        "        for batch_num, (input_ids, attention_mask, target) in enumerate(train_loader):\n",
        "            input_ids = input_ids.to(DEVICE)\n",
        "            attention_mask = attention_mask.to(DEVICE)            \n",
        "            target = target.to(DEVICE)                        \n",
        "\n",
        "            optimizer.zero_grad()\n",
        "            \n",
        "            model.train()\n",
        "\n",
        "            pred = model(input_ids, attention_mask)\n",
        "                                                        \n",
        "            mse = nn.MSELoss(reduction=\"mean\")(pred.flatten(), target)\n",
        "                        \n",
        "            mse.backward()\n",
        "\n",
        "            optimizer.step()\n",
        "            if scheduler:\n",
        "                scheduler.step()\n",
        "            \n",
        "            if step >= last_eval_step + eval_period:\n",
        "                # Evaluate the model on val_loader.\n",
        "                elapsed_seconds = time.time() - start\n",
        "                num_steps = step - last_eval_step\n",
        "                print(f\"\\n{num_steps} steps took {elapsed_seconds:0.3} seconds\")\n",
        "                last_eval_step = step\n",
        "                \n",
        "                val_rmse = math.sqrt(eval_mse(model, val_loader))                            \n",
        "\n",
        "                print(f\"Epoch: {epoch} batch_num: {batch_num}\", \n",
        "                      f\"val_rmse: {val_rmse:0.4}\")\n",
        "\n",
        "                for rmse, period in EVAL_SCHEDULE:\n",
        "                    if val_rmse >= rmse:\n",
        "                        eval_period = period\n",
        "                        break                               \n",
        "                \n",
        "                if not best_val_rmse or val_rmse < best_val_rmse:                    \n",
        "                    best_val_rmse = val_rmse\n",
        "                    best_epoch = epoch\n",
        "                    torch.save(model.state_dict(), model_path)\n",
        "                    print(f\"New best_val_rmse: {best_val_rmse:0.4}\")\n",
        "                else:       \n",
        "                    print(f\"Still best_val_rmse: {best_val_rmse:0.4}\",\n",
        "                          f\"(from epoch {best_epoch})\")                                    \n",
        "                    \n",
        "                start = time.time()\n",
        "                                            \n",
        "            step += 1\n",
        "                        \n",
        "    \n",
        "    return best_val_rmse"
      ],
      "id": "impressed-minnesota",
      "execution_count": null,
      "outputs": []
    },
    {
      "cell_type": "code",
      "metadata": {
        "execution": {
          "iopub.execute_input": "2021-07-10T16:35:14.053687Z",
          "iopub.status.busy": "2021-07-10T16:35:14.052560Z",
          "iopub.status.idle": "2021-07-10T16:35:14.060346Z",
          "shell.execute_reply": "2021-07-10T16:35:14.062050Z",
          "shell.execute_reply.started": "2021-06-30T12:51:59.879987Z"
        },
        "papermill": {
          "duration": 0.054887,
          "end_time": "2021-07-10T16:35:14.062272",
          "exception": false,
          "start_time": "2021-07-10T16:35:14.007385",
          "status": "completed"
        },
        "tags": [],
        "id": "handled-trouble"
      },
      "source": [
        "def create_optimizer(model):\n",
        "    named_parameters = list(model.named_parameters())    \n",
        "    \n",
        "    roberta_parameters = named_parameters[:197]    \n",
        "    attention_parameters = named_parameters[199:203]\n",
        "    regressor_parameters = named_parameters[203:]\n",
        "        \n",
        "    attention_group = [params for (name, params) in attention_parameters]\n",
        "    regressor_group = [params for (name, params) in regressor_parameters]\n",
        "\n",
        "    parameters = []\n",
        "    parameters.append({\"params\": attention_group})\n",
        "    parameters.append({\"params\": regressor_group})\n",
        "\n",
        "    for layer_num, (name, params) in enumerate(roberta_parameters):\n",
        "        weight_decay = 0.0 if \"bias\" in name else 0.01\n",
        "\n",
        "        lr = 2e-5\n",
        "\n",
        "        if layer_num >= 69:        \n",
        "            lr = 5e-5\n",
        "\n",
        "        if layer_num >= 133:\n",
        "            lr = 1e-4\n",
        "\n",
        "        parameters.append({\"params\": params,\n",
        "                           \"weight_decay\": weight_decay,\n",
        "                           \"lr\": lr})\n",
        "\n",
        "    return AdamW(parameters)"
      ],
      "id": "handled-trouble",
      "execution_count": null,
      "outputs": []
    },
    {
      "cell_type": "code",
      "metadata": {
        "id": "9SjNJPllCHBG"
      },
      "source": [
        "# SEED = 1000\n",
        "# kfold = KFold(n_splits=NUM_FOLDS, random_state=SEED, shuffle=True)\n",
        "# for fold, (train_indices, val_indices) in enumerate(kfold.split(train_df)):\n",
        "#     print(fold)\n",
        "#     print('------------')\n",
        "#     print(val_indices)"
      ],
      "id": "9SjNJPllCHBG",
      "execution_count": null,
      "outputs": []
    },
    {
      "cell_type": "code",
      "metadata": {
        "execution": {
          "iopub.execute_input": "2021-07-10T16:35:14.144962Z",
          "iopub.status.busy": "2021-07-10T16:35:14.141009Z",
          "iopub.status.idle": "2021-07-10T17:19:19.916633Z",
          "shell.execute_reply": "2021-07-10T17:19:19.915678Z"
        },
        "papermill": {
          "duration": 2645.82007,
          "end_time": "2021-07-10T17:19:19.916828",
          "exception": false,
          "start_time": "2021-07-10T16:35:14.096758",
          "status": "completed"
        },
        "tags": [],
        "colab": {
          "base_uri": "https://localhost:8080/",
          "height": 447
        },
        "id": "internal-filename",
        "outputId": "d15d2399-8d68-406c-cd6b-bd5134f23c1c"
      },
      "source": [
        "gc.collect()\n",
        "\n",
        "SEED = 1000\n",
        "list_val_rmse = []\n",
        "\n",
        "tokenizer = AutoTokenizer.from_pretrained('/content/drive/MyDrive/CommonLit/input/commonlitreadabilityprize/clrp_roberta_base')\n",
        "\n",
        "kfold = KFold(n_splits=NUM_FOLDS, random_state=SEED, shuffle=True)\n",
        "\n",
        "for fold, (train_indices, val_indices) in enumerate(kfold.split(train_df)):    \n",
        "    print(f\"\\nFold {fold + 1}/{NUM_FOLDS}\")\n",
        "    model_path = f\"model_{fold + 1}.pth\"\n",
        "        \n",
        "    set_random_seed(SEED + fold)\n",
        "    \n",
        "    train_dataset = LitDataset(train_df.loc[train_indices])    \n",
        "    val_dataset = LitDataset(train_df.loc[val_indices])    \n",
        "        \n",
        "    train_loader = DataLoader(train_dataset, batch_size=BATCH_SIZE,\n",
        "                              drop_last=True, shuffle=True, num_workers=2)    \n",
        "    val_loader = DataLoader(val_dataset, batch_size=BATCH_SIZE,\n",
        "                            drop_last=False, shuffle=False, num_workers=2)    \n",
        "        \n",
        "    set_random_seed(SEED + fold)    \n",
        "    \n",
        "    model = Model('/content/drive/MyDrive/CommonLit/input/commonlitreadabilityprize/clrp_roberta_base').to(DEVICE)\n",
        "    \n",
        "    optimizer = create_optimizer(model)  \n",
        "    # CHANGEME                      \n",
        "    # LB: 0.468\n",
        "    # scheduler = get_cosine_schedule_with_warmup(\n",
        "    #     optimizer,\n",
        "    #     num_training_steps=NUM_EPOCHS * len(train_loader),\n",
        "    #     num_warmup_steps=50)\n",
        "    #LB: 0.466\n",
        "    # scheduler = get_linear_schedule_with_warmup(\n",
        "    #     optimizer,\n",
        "    #     num_training_steps=NUM_EPOCHS * len(train_loader),\n",
        "    #     num_warmup_steps=25)\n",
        "    scheduler = get_linear_schedule_with_warmup(\n",
        "        optimizer,\n",
        "        num_training_steps=NUM_EPOCHS * len(train_loader),\n",
        "        num_warmup_steps=25) \n",
        "\n",
        "    list_val_rmse.append(train(model, model_path, train_loader,\n",
        "                               val_loader, optimizer, scheduler=scheduler))\n",
        "\n",
        "    del model\n",
        "    gc.collect()\n",
        "    \n",
        "    print(\"\\nPerformance estimates:\")\n",
        "    print(list_val_rmse)\n",
        "    print(\"Mean:\", np.array(list_val_rmse).mean())\n",
        "    "
      ],
      "id": "internal-filename",
      "execution_count": null,
      "outputs": [
        {
          "output_type": "stream",
          "text": [
            "\n",
            "Fold 1/5\n"
          ],
          "name": "stdout"
        },
        {
          "output_type": "stream",
          "text": [
            "Some weights of RobertaModel were not initialized from the model checkpoint at /content/drive/MyDrive/CommonLit/input/commonlitreadabilityprize/clrp_roberta_base and are newly initialized: ['roberta.pooler.dense.weight', 'roberta.pooler.dense.bias']\n",
            "You should probably TRAIN this model on a down-stream task to be able to use it for predictions and inference.\n"
          ],
          "name": "stderr"
        },
        {
          "output_type": "error",
          "ename": "TypeError",
          "evalue": "ignored",
          "traceback": [
            "\u001b[0;31m---------------------------------------------------------------------------\u001b[0m",
            "\u001b[0;31mTypeError\u001b[0m                                 Traceback (most recent call last)",
            "\u001b[0;32m<ipython-input-27-16ecdab07e66>\u001b[0m in \u001b[0;36m<module>\u001b[0;34m()\u001b[0m\n\u001b[1;32m     44\u001b[0m \u001b[0;34m\u001b[0m\u001b[0m\n\u001b[1;32m     45\u001b[0m     list_val_rmse.append(train(model, model_path, train_loader,\n\u001b[0;32m---> 46\u001b[0;31m                                val_loader, optimizer, scheduler=scheduler))\n\u001b[0m\u001b[1;32m     47\u001b[0m \u001b[0;34m\u001b[0m\u001b[0m\n\u001b[1;32m     48\u001b[0m     \u001b[0;32mdel\u001b[0m \u001b[0mmodel\u001b[0m\u001b[0;34m\u001b[0m\u001b[0;34m\u001b[0m\u001b[0m\n",
            "\u001b[0;32m<ipython-input-22-cf518477ee85>\u001b[0m in \u001b[0;36mtrain\u001b[0;34m(model, model_path, train_loader, val_loader, optimizer, scheduler, num_epochs)\u001b[0m\n\u001b[1;32m     21\u001b[0m             \u001b[0mmodel\u001b[0m\u001b[0;34m.\u001b[0m\u001b[0mtrain\u001b[0m\u001b[0;34m(\u001b[0m\u001b[0;34m)\u001b[0m\u001b[0;34m\u001b[0m\u001b[0;34m\u001b[0m\u001b[0m\n\u001b[1;32m     22\u001b[0m \u001b[0;34m\u001b[0m\u001b[0m\n\u001b[0;32m---> 23\u001b[0;31m             \u001b[0mpred\u001b[0m \u001b[0;34m=\u001b[0m \u001b[0mmodel\u001b[0m\u001b[0;34m(\u001b[0m\u001b[0minput_ids\u001b[0m\u001b[0;34m,\u001b[0m \u001b[0mattention_mask\u001b[0m\u001b[0;34m)\u001b[0m\u001b[0;34m\u001b[0m\u001b[0;34m\u001b[0m\u001b[0m\n\u001b[0m\u001b[1;32m     24\u001b[0m \u001b[0;34m\u001b[0m\u001b[0m\n\u001b[1;32m     25\u001b[0m             \u001b[0mmse\u001b[0m \u001b[0;34m=\u001b[0m \u001b[0mnn\u001b[0m\u001b[0;34m.\u001b[0m\u001b[0mMSELoss\u001b[0m\u001b[0;34m(\u001b[0m\u001b[0mreduction\u001b[0m\u001b[0;34m=\u001b[0m\u001b[0;34m\"mean\"\u001b[0m\u001b[0;34m)\u001b[0m\u001b[0;34m(\u001b[0m\u001b[0mpred\u001b[0m\u001b[0;34m.\u001b[0m\u001b[0mflatten\u001b[0m\u001b[0;34m(\u001b[0m\u001b[0;34m)\u001b[0m\u001b[0;34m,\u001b[0m \u001b[0mtarget\u001b[0m\u001b[0;34m)\u001b[0m\u001b[0;34m\u001b[0m\u001b[0;34m\u001b[0m\u001b[0m\n",
            "\u001b[0;32m/usr/local/lib/python3.7/dist-packages/torch/nn/modules/module.py\u001b[0m in \u001b[0;36m_call_impl\u001b[0;34m(self, *input, **kwargs)\u001b[0m\n\u001b[1;32m    725\u001b[0m             \u001b[0mresult\u001b[0m \u001b[0;34m=\u001b[0m \u001b[0mself\u001b[0m\u001b[0;34m.\u001b[0m\u001b[0m_slow_forward\u001b[0m\u001b[0;34m(\u001b[0m\u001b[0;34m*\u001b[0m\u001b[0minput\u001b[0m\u001b[0;34m,\u001b[0m \u001b[0;34m**\u001b[0m\u001b[0mkwargs\u001b[0m\u001b[0;34m)\u001b[0m\u001b[0;34m\u001b[0m\u001b[0;34m\u001b[0m\u001b[0m\n\u001b[1;32m    726\u001b[0m         \u001b[0;32melse\u001b[0m\u001b[0;34m:\u001b[0m\u001b[0;34m\u001b[0m\u001b[0;34m\u001b[0m\u001b[0m\n\u001b[0;32m--> 727\u001b[0;31m             \u001b[0mresult\u001b[0m \u001b[0;34m=\u001b[0m \u001b[0mself\u001b[0m\u001b[0;34m.\u001b[0m\u001b[0mforward\u001b[0m\u001b[0;34m(\u001b[0m\u001b[0;34m*\u001b[0m\u001b[0minput\u001b[0m\u001b[0;34m,\u001b[0m \u001b[0;34m**\u001b[0m\u001b[0mkwargs\u001b[0m\u001b[0;34m)\u001b[0m\u001b[0;34m\u001b[0m\u001b[0;34m\u001b[0m\u001b[0m\n\u001b[0m\u001b[1;32m    728\u001b[0m         for hook in itertools.chain(\n\u001b[1;32m    729\u001b[0m                 \u001b[0m_global_forward_hooks\u001b[0m\u001b[0;34m.\u001b[0m\u001b[0mvalues\u001b[0m\u001b[0;34m(\u001b[0m\u001b[0;34m)\u001b[0m\u001b[0;34m,\u001b[0m\u001b[0;34m\u001b[0m\u001b[0;34m\u001b[0m\u001b[0m\n",
            "\u001b[0;31mTypeError\u001b[0m: forward() takes 1 positional argument but 3 were given"
          ]
        }
      ]
    },
    {
      "cell_type": "markdown",
      "metadata": {
        "papermill": {
          "duration": 0.256017,
          "end_time": "2021-07-10T17:19:20.427150",
          "exception": false,
          "start_time": "2021-07-10T17:19:20.171133",
          "status": "completed"
        },
        "tags": [],
        "id": "exposed-cornell"
      },
      "source": [
        "# Inference"
      ],
      "id": "exposed-cornell"
    },
    {
      "cell_type": "code",
      "metadata": {
        "papermill": {
          "duration": 0.254779,
          "end_time": "2021-07-10T17:19:20.959408",
          "exception": false,
          "start_time": "2021-07-10T17:19:20.704629",
          "status": "completed"
        },
        "tags": [],
        "id": "pacific-explanation"
      },
      "source": [
        ""
      ],
      "id": "pacific-explanation",
      "execution_count": null,
      "outputs": []
    },
    {
      "cell_type": "code",
      "metadata": {
        "execution": {
          "iopub.execute_input": "2021-07-10T17:19:21.485458Z",
          "iopub.status.busy": "2021-07-10T17:19:21.484260Z",
          "iopub.status.idle": "2021-07-10T17:19:21.509269Z",
          "shell.execute_reply": "2021-07-10T17:19:21.508604Z"
        },
        "papermill": {
          "duration": 0.29265,
          "end_time": "2021-07-10T17:19:21.509426",
          "exception": false,
          "start_time": "2021-07-10T17:19:21.216776",
          "status": "completed"
        },
        "tags": [],
        "id": "speaking-authority"
      },
      "source": [
        "test_dataset = LitDataset(test_df, inference_only=True)"
      ],
      "id": "speaking-authority",
      "execution_count": null,
      "outputs": []
    },
    {
      "cell_type": "code",
      "metadata": {
        "execution": {
          "iopub.execute_input": "2021-07-10T17:19:22.019508Z",
          "iopub.status.busy": "2021-07-10T17:19:22.018338Z",
          "iopub.status.idle": "2021-07-10T17:19:51.285549Z",
          "shell.execute_reply": "2021-07-10T17:19:51.284997Z"
        },
        "papermill": {
          "duration": 29.52399,
          "end_time": "2021-07-10T17:19:51.285732",
          "exception": false,
          "start_time": "2021-07-10T17:19:21.761742",
          "status": "completed"
        },
        "tags": [],
        "colab": {
          "base_uri": "https://localhost:8080/"
        },
        "id": "destroyed-interval",
        "outputId": "028b334e-6b08-4767-808f-03aecb2f6806"
      },
      "source": [
        "all_predictions = np.zeros((len(list_val_rmse), len(test_df)))\n",
        "\n",
        "test_dataset = LitDataset(test_df, inference_only=True)\n",
        "test_loader = DataLoader(test_dataset, batch_size=BATCH_SIZE,\n",
        "                         drop_last=False, shuffle=False, num_workers=2)\n",
        "\n",
        "for index in range(len(list_val_rmse)):            \n",
        "    model_path = f\"model_{index + 1}.pth\"\n",
        "    print(f\"\\nUsing {model_path}\")\n",
        "                        \n",
        "    model = LitModel()\n",
        "    model.load_state_dict(torch.load(model_path))    \n",
        "    model.to(DEVICE)\n",
        "    \n",
        "    all_predictions[index] = predict(model, test_loader)\n",
        "    \n",
        "    del model\n",
        "    gc.collect()"
      ],
      "id": "destroyed-interval",
      "execution_count": null,
      "outputs": [
        {
          "output_type": "stream",
          "text": [
            "\n",
            "Using model_1.pth\n"
          ],
          "name": "stdout"
        },
        {
          "output_type": "stream",
          "text": [
            "Some weights of RobertaModel were not initialized from the model checkpoint at ../input/commonlitreadabilityprize/pretrained-model/clrp_roberta_base and are newly initialized: ['roberta.pooler.dense.weight', 'roberta.pooler.dense.bias']\n",
            "You should probably TRAIN this model on a down-stream task to be able to use it for predictions and inference.\n"
          ],
          "name": "stderr"
        },
        {
          "output_type": "stream",
          "text": [
            "\n",
            "Using model_2.pth\n"
          ],
          "name": "stdout"
        },
        {
          "output_type": "stream",
          "text": [
            "Some weights of RobertaModel were not initialized from the model checkpoint at ../input/commonlitreadabilityprize/pretrained-model/clrp_roberta_base and are newly initialized: ['roberta.pooler.dense.weight', 'roberta.pooler.dense.bias']\n",
            "You should probably TRAIN this model on a down-stream task to be able to use it for predictions and inference.\n"
          ],
          "name": "stderr"
        },
        {
          "output_type": "stream",
          "text": [
            "\n",
            "Using model_3.pth\n"
          ],
          "name": "stdout"
        },
        {
          "output_type": "stream",
          "text": [
            "Some weights of RobertaModel were not initialized from the model checkpoint at ../input/commonlitreadabilityprize/pretrained-model/clrp_roberta_base and are newly initialized: ['roberta.pooler.dense.weight', 'roberta.pooler.dense.bias']\n",
            "You should probably TRAIN this model on a down-stream task to be able to use it for predictions and inference.\n"
          ],
          "name": "stderr"
        },
        {
          "output_type": "stream",
          "text": [
            "\n",
            "Using model_4.pth\n"
          ],
          "name": "stdout"
        },
        {
          "output_type": "stream",
          "text": [
            "Some weights of RobertaModel were not initialized from the model checkpoint at ../input/commonlitreadabilityprize/pretrained-model/clrp_roberta_base and are newly initialized: ['roberta.pooler.dense.weight', 'roberta.pooler.dense.bias']\n",
            "You should probably TRAIN this model on a down-stream task to be able to use it for predictions and inference.\n"
          ],
          "name": "stderr"
        },
        {
          "output_type": "stream",
          "text": [
            "\n",
            "Using model_5.pth\n"
          ],
          "name": "stdout"
        },
        {
          "output_type": "stream",
          "text": [
            "Some weights of RobertaModel were not initialized from the model checkpoint at ../input/commonlitreadabilityprize/pretrained-model/clrp_roberta_base and are newly initialized: ['roberta.pooler.dense.weight', 'roberta.pooler.dense.bias']\n",
            "You should probably TRAIN this model on a down-stream task to be able to use it for predictions and inference.\n"
          ],
          "name": "stderr"
        }
      ]
    },
    {
      "cell_type": "code",
      "metadata": {
        "execution": {
          "iopub.execute_input": "2021-07-10T17:19:51.815506Z",
          "iopub.status.busy": "2021-07-10T17:19:51.814838Z",
          "iopub.status.idle": "2021-07-10T17:19:52.977737Z",
          "shell.execute_reply": "2021-07-10T17:19:52.977091Z"
        },
        "papermill": {
          "duration": 1.434043,
          "end_time": "2021-07-10T17:19:52.977904",
          "exception": false,
          "start_time": "2021-07-10T17:19:51.543861",
          "status": "completed"
        },
        "tags": [],
        "colab": {
          "base_uri": "https://localhost:8080/"
        },
        "id": "meaningful-petersburg",
        "outputId": "d15525b9-d80a-4625-83ee-51528c7193c2"
      },
      "source": [
        "predictions = all_predictions.mean(axis=0)\n",
        "submission_df.target = predictions\n",
        "print(submission_df)\n",
        "#submission_df.to_csv(\"submission.csv\", index=False)"
      ],
      "id": "meaningful-petersburg",
      "execution_count": null,
      "outputs": [
        {
          "output_type": "stream",
          "text": [
            "          id    target\n",
            "0  c0f722661 -0.492209\n",
            "1  f0953f0a5 -0.690205\n",
            "2  0df072751 -0.344786\n",
            "3  04caf4e0c -2.432969\n",
            "4  0e63f8bea -1.644304\n",
            "5  12537fe78 -1.517464\n",
            "6  965e592c0  0.008180\n"
          ],
          "name": "stdout"
        }
      ]
    },
    {
      "cell_type": "markdown",
      "metadata": {
        "id": "KS-MlzVLkY1i"
      },
      "source": [
        "## Upload model"
      ],
      "id": "KS-MlzVLkY1i"
    },
    {
      "cell_type": "code",
      "metadata": {
        "colab": {
          "base_uri": "https://localhost:8080/"
        },
        "id": "x_28uXt0kYSU",
        "outputId": "0fdd012f-7cb1-408a-c99d-c7b25decb20a"
      },
      "source": [
        "!mkdir -p ./output/\n",
        "!cp -f ./model* ./output/\n",
        "#CHANGEME\n",
        "!cp -f ./drive/MyDrive/kaggle/commonlit/pretrained-roberta-base/dataset-metadata.json ./output/dataset-metadata.json\n",
        "!sed -i -e \"s/roberta-base/roberta-base-`TZ=JST-9 date +\"%Y%m%d%H%M%S\"`-sche/\" ./output/dataset-metadata.json\n",
        "!sed -i -e \"s/Roberta-base/Roberta-base-`TZ=JST-9 date +\"%m%d%H%M%S\"`-sche/\" ./output/dataset-metadata.json\n",
        "!kaggle datasets create -p ./output/"
      ],
      "id": "x_28uXt0kYSU",
      "execution_count": null,
      "outputs": [
        {
          "output_type": "stream",
          "text": [
            "Starting upload for file model_3.pth\n",
            "Warning: Looks like you're using an outdated API Version, please consider updating (server 1.5.12 / client 1.5.4)\n",
            "100% 477M/477M [00:11<00:00, 43.6MB/s]\n",
            "Upload successful: model_3.pth (477MB)\n",
            "Starting upload for file model_2.pth\n",
            "100% 477M/477M [00:11<00:00, 44.6MB/s]\n",
            "Upload successful: model_2.pth (477MB)\n",
            "Starting upload for file model_1.pth\n",
            "100% 477M/477M [00:15<00:00, 33.2MB/s]\n",
            "Upload successful: model_1.pth (477MB)\n",
            "Starting upload for file model_4.pth\n",
            "100% 477M/477M [00:09<00:00, 50.1MB/s]\n",
            "Upload successful: model_4.pth (477MB)\n",
            "Starting upload for file model_5.pth\n",
            "100% 477M/477M [00:09<00:00, 52.7MB/s]\n",
            "Upload successful: model_5.pth (477MB)\n",
            "Your private Dataset is being created. Please check progress at /api/v1/datasets/status//iamnishipy/roberta-base-20210718013927-sche\n"
          ],
          "name": "stdout"
        }
      ]
    },
    {
      "cell_type": "code",
      "metadata": {
        "colab": {
          "base_uri": "https://localhost:8080/"
        },
        "id": "iD1Cot2sk7A_",
        "outputId": "c54509d8-f2da-4ae7-fcfd-0fe0729aeefd"
      },
      "source": [
        "!cat ./output/dataset-metadata.json"
      ],
      "id": "iD1Cot2sk7A_",
      "execution_count": null,
      "outputs": [
        {
          "output_type": "stream",
          "text": [
            "{\n",
            "  \"licenses\": [\n",
            "    {\n",
            "      \"name\": \"CC0-1.0\"\n",
            "    }\n",
            "  ], \n",
            "  \"id\": \"iamnishipy/roberta-base-20210718013927-sche\", \n",
            "  \"title\": \"Roberta-base-0718013927-sche\"\n",
            "}"
          ],
          "name": "stdout"
        }
      ]
    }
  ]
}
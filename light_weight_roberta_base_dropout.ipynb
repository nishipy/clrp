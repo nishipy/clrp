{
  "nbformat": 4,
  "nbformat_minor": 0,
  "metadata": {
    "accelerator": "GPU",
    "colab": {
      "name": "light-weight-roberta-base-dropout.ipynb",
      "provenance": [],
      "collapsed_sections": [],
      "toc_visible": true,
      "include_colab_link": true
    },
    "kernelspec": {
      "display_name": "Python 3",
      "language": "python",
      "name": "python3"
    },
    "language_info": {
      "codemirror_mode": {
        "name": "ipython",
        "version": 3
      },
      "file_extension": ".py",
      "mimetype": "text/x-python",
      "name": "python",
      "nbconvert_exporter": "python",
      "pygments_lexer": "ipython3",
      "version": "3.6.4"
    }
  },
  "cells": [
    {
      "cell_type": "markdown",
      "metadata": {
        "id": "view-in-github",
        "colab_type": "text"
      },
      "source": [
        "<a href=\"https://colab.research.google.com/github/nishipy/clrp/blob/main/light_weight_roberta_base_dropout.ipynb\" target=\"_parent\"><img src=\"https://colab.research.google.com/assets/colab-badge.svg\" alt=\"Open In Colab\"/></a>"
      ]
    },
    {
      "cell_type": "markdown",
      "metadata": {
        "id": "M5tA-mkxXV5b"
      },
      "source": [
        "# Overview\n",
        "This is kernel is almost the same as [Lightweight Roberta solution in PyTorch](https://www.kaggle.com/andretugan/lightweight-roberta-solution-in-pytorch), but instead of \"roberta-base\", it starts from [Maunish's pre-trained model](https://www.kaggle.com/maunish/clrp-roberta-base).\n",
        "\n",
        "Acknowledgments: some ideas were taken from kernels by [Torch](https://www.kaggle.com/rhtsingh) and [Maunish](https://www.kaggle.com/maunish).\n",
        "\n",
        "In addition, we use the [stratified_kfold train dataset](https://www.kaggle.com/takeshikobayashi/commonlit-train-datasetfor) training the model."
      ]
    },
    {
      "cell_type": "markdown",
      "metadata": {
        "id": "4H_YG8xbXZGN"
      },
      "source": [
        "## Original notebook\n",
        "- Lightweight Roberta solution\n",
        "  - https://www.kaggle.com/andretugan/pre-trained-roberta-solution-in-pytorch\n",
        "- pretraied with MLM\n",
        "  - https://www.kaggle.com/maunish/clrp-pytorch-roberta-pretrain"
      ]
    },
    {
      "cell_type": "markdown",
      "metadata": {
        "id": "FBSvZK-MXsRq"
      },
      "source": [
        "# Prepare"
      ]
    },
    {
      "cell_type": "markdown",
      "metadata": {
        "id": "UtTPu3rhX22a"
      },
      "source": [
        "## Checking GPU status"
      ]
    },
    {
      "cell_type": "code",
      "metadata": {
        "colab": {
          "base_uri": "https://localhost:8080/"
        },
        "id": "m4-zjkgTXyB7",
        "outputId": "c2dc76cf-fa76-4169-e91e-095c40d762c8"
      },
      "source": [
        "gpu_info = !nvidia-smi\n",
        "gpu_info = '\\n'.join(gpu_info)\n",
        "if gpu_info.find('failed') >= 0:\n",
        "  print('Select the Runtime > \"Change runtime type\" menu to enable a GPU accelerator, ')\n",
        "  print('and then re-execute this cell.')\n",
        "else:\n",
        "  print(gpu_info)"
      ],
      "execution_count": null,
      "outputs": [
        {
          "output_type": "stream",
          "text": [
            "Sat Jul  3 17:19:56 2021       \n",
            "+-----------------------------------------------------------------------------+\n",
            "| NVIDIA-SMI 465.27       Driver Version: 460.32.03    CUDA Version: 11.2     |\n",
            "|-------------------------------+----------------------+----------------------+\n",
            "| GPU  Name        Persistence-M| Bus-Id        Disp.A | Volatile Uncorr. ECC |\n",
            "| Fan  Temp  Perf  Pwr:Usage/Cap|         Memory-Usage | GPU-Util  Compute M. |\n",
            "|                               |                      |               MIG M. |\n",
            "|===============================+======================+======================|\n",
            "|   0  Tesla P100-PCIE...  Off  | 00000000:00:04.0 Off |                    0 |\n",
            "| N/A   36C    P0    26W / 250W |      0MiB / 16280MiB |      0%      Default |\n",
            "|                               |                      |                  N/A |\n",
            "+-------------------------------+----------------------+----------------------+\n",
            "                                                                               \n",
            "+-----------------------------------------------------------------------------+\n",
            "| Processes:                                                                  |\n",
            "|  GPU   GI   CI        PID   Type   Process name                  GPU Memory |\n",
            "|        ID   ID                                                   Usage      |\n",
            "|=============================================================================|\n",
            "|  No running processes found                                                 |\n",
            "+-----------------------------------------------------------------------------+\n"
          ],
          "name": "stdout"
        }
      ]
    },
    {
      "cell_type": "markdown",
      "metadata": {
        "id": "9niGsYeuYEgf"
      },
      "source": [
        "## Download dataset from kaggle"
      ]
    },
    {
      "cell_type": "code",
      "metadata": {
        "id": "1JKMEPT1YBzO",
        "colab": {
          "base_uri": "https://localhost:8080/"
        },
        "outputId": "1ab6cab3-7183-46cb-f9e7-f74c1c6525e5"
      },
      "source": [
        "from google.colab import drive\n",
        "drive.mount('/content/drive')"
      ],
      "execution_count": null,
      "outputs": [
        {
          "output_type": "stream",
          "text": [
            "Mounted at /content/drive\n"
          ],
          "name": "stdout"
        }
      ]
    },
    {
      "cell_type": "markdown",
      "metadata": {
        "id": "12zbNycNavJc"
      },
      "source": [
        "### kaggle.json"
      ]
    },
    {
      "cell_type": "code",
      "metadata": {
        "id": "VaMQCChEYIiJ"
      },
      "source": [
        "!mkdir -p /root/.kaggle/\n",
        "!cp ./drive/MyDrive/kaggle/commonlit/kaggle.json ~/.kaggle/kaggle.json\n",
        "!chmod 600 ~/.kaggle/kaggle.json"
      ],
      "execution_count": null,
      "outputs": []
    },
    {
      "cell_type": "markdown",
      "metadata": {
        "id": "LampuH0tawt4"
      },
      "source": [
        "### Competition dataset"
      ]
    },
    {
      "cell_type": "code",
      "metadata": {
        "id": "2Pn015V0Yamu",
        "colab": {
          "base_uri": "https://localhost:8080/"
        },
        "outputId": "cf061818-1aea-4f9b-d993-aedf4c4cfd80"
      },
      "source": [
        "!mkdir -p ../input/commonlitreadabilityprize/\n",
        "!kaggle competitions download -c commonlitreadabilityprize -p ../input/commonlitreadabilityprize/\n",
        "!cp -f ./drive/MyDrive/kaggle/commonlit/train_stratiKfold.csv.zip ../input/commonlitreadabilityprize/"
      ],
      "execution_count": null,
      "outputs": [
        {
          "output_type": "stream",
          "text": [
            "Warning: Looks like you're using an outdated API Version, please consider updating (server 1.5.12 / client 1.5.4)\n",
            "Downloading train.csv.zip to ../input/commonlitreadabilityprize\n",
            "  0% 0.00/1.13M [00:00<?, ?B/s]\n",
            "100% 1.13M/1.13M [00:00<00:00, 79.5MB/s]\n",
            "Downloading sample_submission.csv to ../input/commonlitreadabilityprize\n",
            "  0% 0.00/108 [00:00<?, ?B/s]\n",
            "100% 108/108 [00:00<00:00, 111kB/s]\n",
            "Downloading test.csv to ../input/commonlitreadabilityprize\n",
            "  0% 0.00/6.79k [00:00<?, ?B/s]\n",
            "100% 6.79k/6.79k [00:00<00:00, 7.05MB/s]\n"
          ],
          "name": "stdout"
        }
      ]
    },
    {
      "cell_type": "code",
      "metadata": {
        "id": "_SouT_7pYuvb",
        "colab": {
          "base_uri": "https://localhost:8080/"
        },
        "outputId": "bda4628c-edfa-40d5-e510-e38d227be421"
      },
      "source": [
        "!unzip -o ../input/commonlitreadabilityprize/train.csv.zip -d ../input/commonlitreadabilityprize/\n",
        "!unzip -o ../input/commonlitreadabilityprize/train_stratiKfold.csv.zip -d ../input/commonlitreadabilityprize/"
      ],
      "execution_count": null,
      "outputs": [
        {
          "output_type": "stream",
          "text": [
            "Archive:  ../input/commonlitreadabilityprize/train.csv.zip\n",
            "  inflating: ../input/commonlitreadabilityprize/train.csv  \n",
            "Archive:  ../input/commonlitreadabilityprize/train_stratiKfold.csv.zip\n",
            "  inflating: ../input/commonlitreadabilityprize/train_stratiKfold.csv  \n"
          ],
          "name": "stdout"
        }
      ]
    },
    {
      "cell_type": "code",
      "metadata": {
        "id": "gjihJSBzZVt8",
        "colab": {
          "base_uri": "https://localhost:8080/"
        },
        "outputId": "48754d55-201c-45dd-b48f-333a298992b8"
      },
      "source": [
        "!ls ../input/commonlitreadabilityprize/"
      ],
      "execution_count": null,
      "outputs": [
        {
          "output_type": "stream",
          "text": [
            "sample_submission.csv  train.csv      train_stratiKfold.csv\n",
            "test.csv\t       train.csv.zip  train_stratiKfold.csv.zip\n"
          ],
          "name": "stdout"
        }
      ]
    },
    {
      "cell_type": "markdown",
      "metadata": {
        "id": "wujOl7iGa2-C"
      },
      "source": [
        "### Model pre-trained with MLM \n",
        "- Notebook\n",
        "  - https://www.kaggle.com/maunish/clrp-pytorch-roberta-pretrain\n",
        "- Model data\n",
        "  - https://www.kaggle.com/maunish/clrp-roberta-base"
      ]
    },
    {
      "cell_type": "code",
      "metadata": {
        "id": "s9EgsJFaa7UW",
        "colab": {
          "base_uri": "https://localhost:8080/"
        },
        "outputId": "f9e7983a-c1c3-4294-993f-69bbeff3cbde"
      },
      "source": [
        "!mkdir -p ../input/commonlitreadabilityprize/pretrained-model/\n",
        "!kaggle datasets download maunish/clrp-roberta-base -p ../input/commonlitreadabilityprize/pretrained-model/"
      ],
      "execution_count": null,
      "outputs": [
        {
          "output_type": "stream",
          "text": [
            "Downloading clrp-roberta-base.zip to ../input/commonlitreadabilityprize/pretrained-model\n",
            " 99% 2.99G/3.01G [00:33<00:00, 97.6MB/s]\n",
            "100% 3.01G/3.01G [00:33<00:00, 97.2MB/s]\n"
          ],
          "name": "stdout"
        }
      ]
    },
    {
      "cell_type": "code",
      "metadata": {
        "id": "9KA2Tzd5bfnJ",
        "colab": {
          "base_uri": "https://localhost:8080/"
        },
        "outputId": "46179ac3-38a8-48fc-c975-05b1b47aad2f"
      },
      "source": [
        "!unzip -o ../input/commonlitreadabilityprize/pretrained-model/clrp-roberta-base.zip -d ../input/commonlitreadabilityprize/pretrained-model/"
      ],
      "execution_count": null,
      "outputs": [
        {
          "output_type": "stream",
          "text": [
            "Archive:  ../input/commonlitreadabilityprize/pretrained-model/clrp-roberta-base.zip\n",
            "  inflating: ../input/commonlitreadabilityprize/pretrained-model/clrp_roberta_base/config.json  \n",
            "  inflating: ../input/commonlitreadabilityprize/pretrained-model/clrp_roberta_base/merges.txt  \n",
            "  inflating: ../input/commonlitreadabilityprize/pretrained-model/clrp_roberta_base/pytorch_model.bin  \n",
            "  inflating: ../input/commonlitreadabilityprize/pretrained-model/clrp_roberta_base/special_tokens_map.json  \n",
            "  inflating: ../input/commonlitreadabilityprize/pretrained-model/clrp_roberta_base/tokenizer_config.json  \n",
            "  inflating: ../input/commonlitreadabilityprize/pretrained-model/clrp_roberta_base/training_args.bin  \n",
            "  inflating: ../input/commonlitreadabilityprize/pretrained-model/clrp_roberta_base/vocab.json  \n",
            "  inflating: ../input/commonlitreadabilityprize/pretrained-model/clrp_roberta_base_chk/checkpoint-600/config.json  \n",
            "  inflating: ../input/commonlitreadabilityprize/pretrained-model/clrp_roberta_base_chk/checkpoint-600/optimizer.pt  \n",
            "  inflating: ../input/commonlitreadabilityprize/pretrained-model/clrp_roberta_base_chk/checkpoint-600/pytorch_model.bin  \n",
            "  inflating: ../input/commonlitreadabilityprize/pretrained-model/clrp_roberta_base_chk/checkpoint-600/scheduler.pt  \n",
            "  inflating: ../input/commonlitreadabilityprize/pretrained-model/clrp_roberta_base_chk/checkpoint-600/trainer_state.json  \n",
            "  inflating: ../input/commonlitreadabilityprize/pretrained-model/clrp_roberta_base_chk/checkpoint-600/training_args.bin  \n",
            "  inflating: ../input/commonlitreadabilityprize/pretrained-model/clrp_roberta_base_chk/checkpoint-800/config.json  \n",
            "  inflating: ../input/commonlitreadabilityprize/pretrained-model/clrp_roberta_base_chk/checkpoint-800/optimizer.pt  \n",
            "  inflating: ../input/commonlitreadabilityprize/pretrained-model/clrp_roberta_base_chk/checkpoint-800/pytorch_model.bin  \n",
            "  inflating: ../input/commonlitreadabilityprize/pretrained-model/clrp_roberta_base_chk/checkpoint-800/scheduler.pt  \n",
            "  inflating: ../input/commonlitreadabilityprize/pretrained-model/clrp_roberta_base_chk/checkpoint-800/trainer_state.json  \n",
            "  inflating: ../input/commonlitreadabilityprize/pretrained-model/clrp_roberta_base_chk/checkpoint-800/training_args.bin  \n",
            "  inflating: ../input/commonlitreadabilityprize/pretrained-model/text.txt  \n"
          ],
          "name": "stdout"
        }
      ]
    },
    {
      "cell_type": "markdown",
      "metadata": {
        "id": "oeCpZ6DEYH90"
      },
      "source": [
        "# Install dependencies"
      ]
    },
    {
      "cell_type": "code",
      "metadata": {
        "id": "BOrw8yaddJV0",
        "colab": {
          "base_uri": "https://localhost:8080/"
        },
        "outputId": "e17a9759-fa89-4501-d7db-f4ce6a216810"
      },
      "source": [
        "!pip install transformers accelerate datasets"
      ],
      "execution_count": null,
      "outputs": [
        {
          "output_type": "stream",
          "text": [
            "Collecting transformers\n",
            "\u001b[?25l  Downloading https://files.pythonhosted.org/packages/fd/1a/41c644c963249fd7f3836d926afa1e3f1cc234a1c40d80c5f03ad8f6f1b2/transformers-4.8.2-py3-none-any.whl (2.5MB)\n",
            "\u001b[K     |████████████████████████████████| 2.5MB 8.2MB/s \n",
            "\u001b[?25hCollecting accelerate\n",
            "\u001b[?25l  Downloading https://files.pythonhosted.org/packages/f7/fa/d173d923c953d930702066894abf128a7e5258c6f64cf088d2c5a83f46a3/accelerate-0.3.0-py3-none-any.whl (49kB)\n",
            "\u001b[K     |████████████████████████████████| 51kB 7.3MB/s \n",
            "\u001b[?25hCollecting datasets\n",
            "\u001b[?25l  Downloading https://files.pythonhosted.org/packages/08/a2/d4e1024c891506e1cee8f9d719d20831bac31cb5b7416983c4d2f65a6287/datasets-1.8.0-py3-none-any.whl (237kB)\n",
            "\u001b[K     |████████████████████████████████| 245kB 47.9MB/s \n",
            "\u001b[?25hRequirement already satisfied: filelock in /usr/local/lib/python3.7/dist-packages (from transformers) (3.0.12)\n",
            "Requirement already satisfied: regex!=2019.12.17 in /usr/local/lib/python3.7/dist-packages (from transformers) (2019.12.20)\n",
            "Collecting sacremoses\n",
            "\u001b[?25l  Downloading https://files.pythonhosted.org/packages/75/ee/67241dc87f266093c533a2d4d3d69438e57d7a90abb216fa076e7d475d4a/sacremoses-0.0.45-py3-none-any.whl (895kB)\n",
            "\u001b[K     |████████████████████████████████| 901kB 46.8MB/s \n",
            "\u001b[?25hRequirement already satisfied: requests in /usr/local/lib/python3.7/dist-packages (from transformers) (2.23.0)\n",
            "Requirement already satisfied: packaging in /usr/local/lib/python3.7/dist-packages (from transformers) (20.9)\n",
            "Collecting huggingface-hub==0.0.12\n",
            "  Downloading https://files.pythonhosted.org/packages/2f/ee/97e253668fda9b17e968b3f97b2f8e53aa0127e8807d24a547687423fe0b/huggingface_hub-0.0.12-py3-none-any.whl\n",
            "Collecting tokenizers<0.11,>=0.10.1\n",
            "\u001b[?25l  Downloading https://files.pythonhosted.org/packages/d4/e2/df3543e8ffdab68f5acc73f613de9c2b155ac47f162e725dcac87c521c11/tokenizers-0.10.3-cp37-cp37m-manylinux_2_5_x86_64.manylinux1_x86_64.manylinux_2_12_x86_64.manylinux2010_x86_64.whl (3.3MB)\n",
            "\u001b[K     |████████████████████████████████| 3.3MB 50.0MB/s \n",
            "\u001b[?25hRequirement already satisfied: pyyaml in /usr/local/lib/python3.7/dist-packages (from transformers) (3.13)\n",
            "Requirement already satisfied: numpy>=1.17 in /usr/local/lib/python3.7/dist-packages (from transformers) (1.19.5)\n",
            "Requirement already satisfied: importlib-metadata; python_version < \"3.8\" in /usr/local/lib/python3.7/dist-packages (from transformers) (4.5.0)\n",
            "Requirement already satisfied: tqdm>=4.27 in /usr/local/lib/python3.7/dist-packages (from transformers) (4.41.1)\n",
            "Requirement already satisfied: torch>=1.4.0 in /usr/local/lib/python3.7/dist-packages (from accelerate) (1.9.0+cu102)\n",
            "Collecting pyaml>=20.4.0\n",
            "  Downloading https://files.pythonhosted.org/packages/15/c4/1310a054d33abc318426a956e7d6df0df76a6ddfa9c66f6310274fb75d42/pyaml-20.4.0-py2.py3-none-any.whl\n",
            "Requirement already satisfied: pyarrow<4.0.0,>=1.0.0 in /usr/local/lib/python3.7/dist-packages (from datasets) (3.0.0)\n",
            "Requirement already satisfied: dill in /usr/local/lib/python3.7/dist-packages (from datasets) (0.3.4)\n",
            "Collecting xxhash\n",
            "\u001b[?25l  Downloading https://files.pythonhosted.org/packages/7d/4f/0a862cad26aa2ed7a7cd87178cbbfa824fc1383e472d63596a0d018374e7/xxhash-2.0.2-cp37-cp37m-manylinux2010_x86_64.whl (243kB)\n",
            "\u001b[K     |████████████████████████████████| 245kB 45.2MB/s \n",
            "\u001b[?25hCollecting fsspec\n",
            "\u001b[?25l  Downloading https://files.pythonhosted.org/packages/0e/3a/666e63625a19883ae8e1674099e631f9737bd5478c4790e5ad49c5ac5261/fsspec-2021.6.1-py3-none-any.whl (115kB)\n",
            "\u001b[K     |████████████████████████████████| 122kB 50.5MB/s \n",
            "\u001b[?25hRequirement already satisfied: pandas in /usr/local/lib/python3.7/dist-packages (from datasets) (1.1.5)\n",
            "Requirement already satisfied: multiprocess in /usr/local/lib/python3.7/dist-packages (from datasets) (0.70.12.2)\n",
            "Requirement already satisfied: joblib in /usr/local/lib/python3.7/dist-packages (from sacremoses->transformers) (1.0.1)\n",
            "Requirement already satisfied: click in /usr/local/lib/python3.7/dist-packages (from sacremoses->transformers) (7.1.2)\n",
            "Requirement already satisfied: six in /usr/local/lib/python3.7/dist-packages (from sacremoses->transformers) (1.15.0)\n",
            "Requirement already satisfied: chardet<4,>=3.0.2 in /usr/local/lib/python3.7/dist-packages (from requests->transformers) (3.0.4)\n",
            "Requirement already satisfied: idna<3,>=2.5 in /usr/local/lib/python3.7/dist-packages (from requests->transformers) (2.10)\n",
            "Requirement already satisfied: urllib3!=1.25.0,!=1.25.1,<1.26,>=1.21.1 in /usr/local/lib/python3.7/dist-packages (from requests->transformers) (1.24.3)\n",
            "Requirement already satisfied: certifi>=2017.4.17 in /usr/local/lib/python3.7/dist-packages (from requests->transformers) (2021.5.30)\n",
            "Requirement already satisfied: pyparsing>=2.0.2 in /usr/local/lib/python3.7/dist-packages (from packaging->transformers) (2.4.7)\n",
            "Requirement already satisfied: typing-extensions in /usr/local/lib/python3.7/dist-packages (from huggingface-hub==0.0.12->transformers) (3.7.4.3)\n",
            "Requirement already satisfied: zipp>=0.5 in /usr/local/lib/python3.7/dist-packages (from importlib-metadata; python_version < \"3.8\"->transformers) (3.4.1)\n",
            "Requirement already satisfied: pytz>=2017.2 in /usr/local/lib/python3.7/dist-packages (from pandas->datasets) (2018.9)\n",
            "Requirement already satisfied: python-dateutil>=2.7.3 in /usr/local/lib/python3.7/dist-packages (from pandas->datasets) (2.8.1)\n",
            "Installing collected packages: sacremoses, huggingface-hub, tokenizers, transformers, pyaml, accelerate, xxhash, fsspec, datasets\n",
            "Successfully installed accelerate-0.3.0 datasets-1.8.0 fsspec-2021.6.1 huggingface-hub-0.0.12 pyaml-20.4.0 sacremoses-0.0.45 tokenizers-0.10.3 transformers-4.8.2 xxhash-2.0.2\n"
          ],
          "name": "stdout"
        }
      ]
    },
    {
      "cell_type": "code",
      "metadata": {
        "id": "wZYxy_hAXV5e"
      },
      "source": [
        "import os\n",
        "import math\n",
        "import random\n",
        "import time\n",
        "\n",
        "import numpy as np\n",
        "import pandas as pd\n",
        "\n",
        "import torch\n",
        "import torch.nn as nn\n",
        "from torch.utils.data import Dataset\n",
        "from torch.utils.data import DataLoader\n",
        "\n",
        "from transformers import AdamW\n",
        "from transformers import AutoTokenizer\n",
        "from transformers import AutoModel\n",
        "from transformers import AutoConfig\n",
        "from transformers import get_cosine_schedule_with_warmup\n",
        "\n",
        "from sklearn.model_selection import KFold\n",
        "\n",
        "import gc\n",
        "gc.enable()"
      ],
      "execution_count": null,
      "outputs": []
    },
    {
      "cell_type": "markdown",
      "metadata": {
        "id": "W6-8wniOeBzQ"
      },
      "source": [
        "# Set constant"
      ]
    },
    {
      "cell_type": "code",
      "metadata": {
        "id": "DQjr2-NPXV5f"
      },
      "source": [
        "NUM_FOLDS = 5\n",
        "NUM_EPOCHS = 3\n",
        "BATCH_SIZE = 16\n",
        "MAX_LEN = 248\n",
        "EVAL_SCHEDULE = [(0.50, 16), (0.49, 8), (0.48, 4), (0.47, 2), (-1., 1)]\n",
        "ROBERTA_PATH = \"../input/commonlitreadabilityprize/pretrained-model/clrp_roberta_base/\"\n",
        "TOKENIZER_PATH = \"../input/commonlitreadabilityprize/pretrained-model/clrp_roberta_base/\"\n",
        "#ROBERTA_PATH = \"../input/clrp-roberta-base/clrp_roberta_base\"\n",
        "#TOKENIZER_PATH = \"../input/clrp-roberta-base/clrp_roberta_base\"\n",
        "DEVICE = \"cuda\" if torch.cuda.is_available() else \"cpu\""
      ],
      "execution_count": null,
      "outputs": []
    },
    {
      "cell_type": "markdown",
      "metadata": {
        "id": "xnzprhriHc7B"
      },
      "source": [
        "# Define utility functions"
      ]
    },
    {
      "cell_type": "code",
      "metadata": {
        "id": "ZNCjd5KEXV5f"
      },
      "source": [
        "def set_random_seed(random_seed):\n",
        "    random.seed(random_seed)\n",
        "    np.random.seed(random_seed)\n",
        "    os.environ[\"PYTHONHASHSEED\"] = str(random_seed)\n",
        "\n",
        "    torch.manual_seed(random_seed)\n",
        "    torch.cuda.manual_seed(random_seed)\n",
        "    torch.cuda.manual_seed_all(random_seed)\n",
        "\n",
        "    torch.backends.cudnn.deterministic = True"
      ],
      "execution_count": null,
      "outputs": []
    },
    {
      "cell_type": "markdown",
      "metadata": {
        "id": "A95IJgC8WPLz"
      },
      "source": [
        "train_dfには、Stratified kfold済みのデータセットを利用する。"
      ]
    },
    {
      "cell_type": "code",
      "metadata": {
        "id": "T-5y27aJXV5f"
      },
      "source": [
        "#Use stratified k-fold train dataset\n",
        "#train_df = pd.read_csv(\"/kaggle/input/commonlitreadabilityprize/train.csv\")\n",
        "train_df = pd.read_csv(\"../input/commonlitreadabilityprize/train_stratiKfold.csv\")\n",
        "\n",
        "# Remove incomplete entries if any.\n",
        "train_df.drop(train_df[(train_df.target == 0) & (train_df.standard_error == 0)].index,\n",
        "              inplace=True)\n",
        "train_df.reset_index(drop=True, inplace=True)\n",
        "\n",
        "test_df = pd.read_csv(\"../input/commonlitreadabilityprize/test.csv\")\n",
        "submission_df = pd.read_csv(\"../input/commonlitreadabilityprize/sample_submission.csv\")"
      ],
      "execution_count": null,
      "outputs": []
    },
    {
      "cell_type": "code",
      "metadata": {
        "id": "bR2QTnuIXV5g"
      },
      "source": [
        "#TokenizerはRoberta-baseと同じ\n",
        "tokenizer = AutoTokenizer.from_pretrained(TOKENIZER_PATH)"
      ],
      "execution_count": null,
      "outputs": []
    },
    {
      "cell_type": "markdown",
      "metadata": {
        "id": "luovjtC0XV5g"
      },
      "source": [
        "# Dataset"
      ]
    },
    {
      "cell_type": "code",
      "metadata": {
        "id": "LHVj3D05XV5g"
      },
      "source": [
        "class LitDataset(Dataset):\n",
        "    def __init__(self, df, inference_only=False):\n",
        "        super().__init__()\n",
        "\n",
        "        self.df = df        \n",
        "        self.inference_only = inference_only\n",
        "        self.text = df.excerpt.tolist()\n",
        "        #改行を消してみる。元のNotebookではここはコメントアウトされている\n",
        "        #self.text = [text.replace(\"\\n\", \" \") for text in self.text]\n",
        "        \n",
        "        if not self.inference_only:\n",
        "            self.target = torch.tensor(df.target.values, dtype=torch.float32)        \n",
        "    \n",
        "        self.encoded = tokenizer.batch_encode_plus(\n",
        "            self.text,\n",
        "            padding = 'max_length',            \n",
        "            max_length = MAX_LEN,\n",
        "            truncation = True,\n",
        "            return_attention_mask=True\n",
        "        )        \n",
        " \n",
        "\n",
        "    def __len__(self):\n",
        "        return len(self.df)\n",
        "\n",
        "    \n",
        "    def __getitem__(self, index):        \n",
        "        input_ids = torch.tensor(self.encoded['input_ids'][index])\n",
        "        attention_mask = torch.tensor(self.encoded['attention_mask'][index])\n",
        "        \n",
        "        if self.inference_only:\n",
        "            return (input_ids, attention_mask)            \n",
        "        else:\n",
        "            target = self.target[index]\n",
        "            return (input_ids, attention_mask, target)"
      ],
      "execution_count": null,
      "outputs": []
    },
    {
      "cell_type": "markdown",
      "metadata": {
        "id": "Smttt02WXV5h"
      },
      "source": [
        "# Model\n",
        "The model is inspired by the one from [Maunish](https://www.kaggle.com/maunish/clrp-roberta-svm)."
      ]
    },
    {
      "cell_type": "code",
      "metadata": {
        "id": "RL6qw55sXV5h"
      },
      "source": [
        "class LitModel(nn.Module):\n",
        "    def __init__(self):\n",
        "        super().__init__()\n",
        "\n",
        "        config = AutoConfig.from_pretrained(ROBERTA_PATH)\n",
        "        #config.jsonに書いてある設定値を更新する\n",
        "        # config.update({\"output_hidden_states\":True, \n",
        "        #                \"hidden_dropout_prob\": 0.0,\n",
        "        #                \"layer_norm_eps\": 1e-7})                       \n",
        "\n",
        "        config.update({\"output_hidden_states\":True, \n",
        "                       \"hidden_dropout_prob\": 0.1, #default\n",
        "                       \"layer_norm_eps\": 1e-7})                       \n",
        "\n",
        "        self.roberta = AutoModel.from_pretrained(ROBERTA_PATH, config=config)  \n",
        "            \n",
        "        self.attention = nn.Sequential(            \n",
        "            nn.Linear(768, 512),            \n",
        "            nn.Tanh(),                       \n",
        "            nn.Linear(512, 1),\n",
        "            nn.Softmax(dim=1)\n",
        "        )        \n",
        "\n",
        "        self.regressor = nn.Sequential(                        \n",
        "            nn.Linear(768, 1)                        \n",
        "        )\n",
        "        \n",
        "\n",
        "    def forward(self, input_ids, attention_mask):\n",
        "        roberta_output = self.roberta(input_ids=input_ids,\n",
        "                                      attention_mask=attention_mask)        \n",
        "\n",
        "        # There are a total of 13 layers of hidden states.\n",
        "        # 1 for the embedding layer, and 12 for the 12 Roberta layers.\n",
        "        # We take the hidden states from the last Roberta layer.\n",
        "        last_layer_hidden_states = roberta_output.hidden_states[-1]\n",
        "\n",
        "        # The number of cells is MAX_LEN.\n",
        "        # The size of the hidden state of each cell is 768 (for roberta-base).\n",
        "        # In order to condense hidden states of all cells to a context vector,\n",
        "        # we compute a weighted average of the hidden states of all cells.\n",
        "        # We compute the weight of each cell, using the attention neural network.\n",
        "        weights = self.attention(last_layer_hidden_states)\n",
        "                \n",
        "        # weights.shape is BATCH_SIZE x MAX_LEN x 1\n",
        "        # last_layer_hidden_states.shape is BATCH_SIZE x MAX_LEN x 768        \n",
        "        # Now we compute context_vector as the weighted average.\n",
        "        # context_vector.shape is BATCH_SIZE x 768\n",
        "        context_vector = torch.sum(weights * last_layer_hidden_states, dim=1)        \n",
        "        \n",
        "        # Now we reduce the context vector to the prediction score.\n",
        "        return self.regressor(context_vector)"
      ],
      "execution_count": null,
      "outputs": []
    },
    {
      "cell_type": "code",
      "metadata": {
        "id": "FrZm0bLLXV5h"
      },
      "source": [
        "#MSEで評価\n",
        "def eval_mse(model, data_loader):\n",
        "    \"\"\"Evaluates the mean squared error of the |model| on |data_loader|\"\"\"\n",
        "    model.eval()            \n",
        "    mse_sum = 0\n",
        "\n",
        "    with torch.no_grad():\n",
        "        for batch_num, (input_ids, attention_mask, target) in enumerate(data_loader):\n",
        "            input_ids = input_ids.to(DEVICE)\n",
        "            attention_mask = attention_mask.to(DEVICE)                        \n",
        "            target = target.to(DEVICE)           \n",
        "            \n",
        "            pred = model(input_ids, attention_mask)                       \n",
        "\n",
        "            mse_sum += nn.MSELoss(reduction=\"sum\")(pred.flatten(), target).item()\n",
        "                \n",
        "\n",
        "    return mse_sum / len(data_loader.dataset)"
      ],
      "execution_count": null,
      "outputs": []
    },
    {
      "cell_type": "code",
      "metadata": {
        "id": "JxqWSjMHXV5i"
      },
      "source": [
        "def predict(model, data_loader):\n",
        "    \"\"\"Returns an np.array with predictions of the |model| on |data_loader|\"\"\"\n",
        "    model.eval()\n",
        "\n",
        "    result = np.zeros(len(data_loader.dataset))    \n",
        "    index = 0\n",
        "    \n",
        "    with torch.no_grad():\n",
        "        for batch_num, (input_ids, attention_mask) in enumerate(data_loader):\n",
        "            input_ids = input_ids.to(DEVICE)\n",
        "            attention_mask = attention_mask.to(DEVICE)\n",
        "                        \n",
        "            pred = model(input_ids, attention_mask)                        \n",
        "\n",
        "            result[index : index + pred.shape[0]] = pred.flatten().to(\"cpu\")\n",
        "            index += pred.shape[0]\n",
        "\n",
        "    return result"
      ],
      "execution_count": null,
      "outputs": []
    },
    {
      "cell_type": "code",
      "metadata": {
        "id": "G7fx532GXV5i"
      },
      "source": [
        "def train(model, model_path, train_loader, val_loader,\n",
        "          optimizer, scheduler=None, num_epochs=NUM_EPOCHS):    \n",
        "    best_val_rmse = None\n",
        "    best_epoch = 0\n",
        "    step = 0\n",
        "    last_eval_step = 0\n",
        "    eval_period = EVAL_SCHEDULE[0][1]    \n",
        "\n",
        "    start = time.time()\n",
        "\n",
        "    for epoch in range(num_epochs):                           \n",
        "        val_rmse = None         \n",
        "\n",
        "        for batch_num, (input_ids, attention_mask, target) in enumerate(train_loader):\n",
        "            input_ids = input_ids.to(DEVICE)\n",
        "            attention_mask = attention_mask.to(DEVICE)            \n",
        "            target = target.to(DEVICE)                        \n",
        "\n",
        "            optimizer.zero_grad()\n",
        "            \n",
        "            model.train()\n",
        "\n",
        "            pred = model(input_ids, attention_mask)\n",
        "                                                        \n",
        "            mse = nn.MSELoss(reduction=\"mean\")(pred.flatten(), target)\n",
        "                        \n",
        "            mse.backward()\n",
        "\n",
        "            optimizer.step()\n",
        "            if scheduler:\n",
        "                scheduler.step()\n",
        "            \n",
        "            if step >= last_eval_step + eval_period:\n",
        "                # Evaluate the model on val_loader.\n",
        "                elapsed_seconds = time.time() - start\n",
        "                num_steps = step - last_eval_step\n",
        "                print(f\"\\n{num_steps} steps took {elapsed_seconds:0.3} seconds\")\n",
        "                last_eval_step = step\n",
        "                \n",
        "                val_rmse = math.sqrt(eval_mse(model, val_loader))                            \n",
        "\n",
        "                print(f\"Epoch: {epoch} batch_num: {batch_num}\", \n",
        "                      f\"val_rmse: {val_rmse:0.4}\")\n",
        "\n",
        "                for rmse, period in EVAL_SCHEDULE:\n",
        "                    if val_rmse >= rmse:\n",
        "                        eval_period = period\n",
        "                        break                               \n",
        "                \n",
        "                if not best_val_rmse or val_rmse < best_val_rmse:                    \n",
        "                    best_val_rmse = val_rmse\n",
        "                    best_epoch = epoch\n",
        "                    torch.save(model.state_dict(), model_path)\n",
        "                    print(f\"New best_val_rmse: {best_val_rmse:0.4}\")\n",
        "                else:       \n",
        "                    print(f\"Still best_val_rmse: {best_val_rmse:0.4}\",\n",
        "                          f\"(from epoch {best_epoch})\")                                    \n",
        "                    \n",
        "                start = time.time()\n",
        "                                            \n",
        "            step += 1\n",
        "                        \n",
        "    \n",
        "    return best_val_rmse"
      ],
      "execution_count": null,
      "outputs": []
    },
    {
      "cell_type": "code",
      "metadata": {
        "id": "Q8nGcWc7XV5j"
      },
      "source": [
        "def create_optimizer(model):\n",
        "    named_parameters = list(model.named_parameters())    \n",
        "    \n",
        "    roberta_parameters = named_parameters[:197]    \n",
        "    attention_parameters = named_parameters[199:203]\n",
        "    regressor_parameters = named_parameters[203:]\n",
        "        \n",
        "    attention_group = [params for (name, params) in attention_parameters]\n",
        "    regressor_group = [params for (name, params) in regressor_parameters]\n",
        "\n",
        "    parameters = []\n",
        "    parameters.append({\"params\": attention_group})\n",
        "    parameters.append({\"params\": regressor_group})\n",
        "\n",
        "    for layer_num, (name, params) in enumerate(roberta_parameters):\n",
        "        weight_decay = 0.0 if \"bias\" in name else 0.01\n",
        "\n",
        "        lr = 2e-5\n",
        "\n",
        "        if layer_num >= 69:        \n",
        "            lr = 5e-5\n",
        "\n",
        "        if layer_num >= 133:\n",
        "            lr = 1e-4\n",
        "\n",
        "        parameters.append({\"params\": params,\n",
        "                           \"weight_decay\": weight_decay,\n",
        "                           \"lr\": lr})\n",
        "\n",
        "    return AdamW(parameters)"
      ],
      "execution_count": null,
      "outputs": []
    },
    {
      "cell_type": "markdown",
      "metadata": {
        "id": "QW8_ta8Shvbp"
      },
      "source": [
        "## Run"
      ]
    },
    {
      "cell_type": "code",
      "metadata": {
        "id": "0ASAFbdqXV5k",
        "colab": {
          "base_uri": "https://localhost:8080/"
        },
        "outputId": "6a1d95b4-6dfc-460d-8432-ac687a0c2e60"
      },
      "source": [
        "gc.collect()\n",
        "\n",
        "SEED = 1000\n",
        "list_val_rmse = []\n",
        "\n",
        "for fold in range(NUM_FOLDS): \n",
        "    print(f\"\\nFold {fold + 1}/{NUM_FOLDS}\")\n",
        "    model_path = f\"model_{fold + 1}.pth\"\n",
        "        \n",
        "    set_random_seed(SEED + fold)\n",
        "\n",
        "    #Stratified kfold train dataset用に修正\n",
        "    train_dataset = LitDataset(train_df[train_df['kfold']!=fold])    \n",
        "    val_dataset = LitDataset(train_df[train_df['kfold']==fold])    \n",
        "        \n",
        "    train_loader = DataLoader(train_dataset, batch_size=BATCH_SIZE,\n",
        "                              drop_last=True, shuffle=True, num_workers=2)    \n",
        "    val_loader = DataLoader(val_dataset, batch_size=BATCH_SIZE,\n",
        "                            drop_last=False, shuffle=False, num_workers=2)    \n",
        "        \n",
        "    set_random_seed(SEED + fold)    \n",
        "    \n",
        "    model = LitModel().to(DEVICE)\n",
        "    \n",
        "    optimizer = create_optimizer(model)                        \n",
        "    scheduler = get_cosine_schedule_with_warmup(\n",
        "        optimizer,\n",
        "        num_training_steps=NUM_EPOCHS * len(train_loader),\n",
        "        num_warmup_steps=50)    \n",
        "    \n",
        "    list_val_rmse.append(train(model, model_path, train_loader,\n",
        "                               val_loader, optimizer, scheduler=scheduler))\n",
        "\n",
        "    del model\n",
        "    gc.collect()\n",
        "    \n",
        "    print(\"\\nPerformance estimates:\")\n",
        "    print(list_val_rmse)\n",
        "    print(\"Mean:\", np.array(list_val_rmse).mean())\n",
        "\n",
        "\n",
        "#kfold = KFold(n_splits=NUM_FOLDS, random_state=SEED, shuffle=True)\n",
        "#\n",
        "# for fold, (train_indices, val_indices) in enumerate(kfold.split(train_df)):    \n",
        "#     print(f\"\\nFold {fold + 1}/{NUM_FOLDS}\")\n",
        "#     model_path = f\"model_{fold + 1}.pth\"\n",
        "        \n",
        "#     set_random_seed(SEED + fold)\n",
        "    \n",
        "#     train_dataset = LitDataset(train_df.loc[train_indices])    \n",
        "#     val_dataset = LitDataset(train_df.loc[val_indices])    \n",
        "        \n",
        "#     train_loader = DataLoader(train_dataset, batch_size=BATCH_SIZE,\n",
        "#                               drop_last=True, shuffle=True, num_workers=2)    \n",
        "#     val_loader = DataLoader(val_dataset, batch_size=BATCH_SIZE,\n",
        "#                             drop_last=False, shuffle=False, num_workers=2)    \n",
        "        \n",
        "#     set_random_seed(SEED + fold)    \n",
        "    \n",
        "#     model = LitModel().to(DEVICE)\n",
        "    \n",
        "#     optimizer = create_optimizer(model)                        \n",
        "#     scheduler = get_cosine_schedule_with_warmup(\n",
        "#         optimizer,\n",
        "#         num_training_steps=NUM_EPOCHS * len(train_loader),\n",
        "#         num_warmup_steps=50)    \n",
        "    \n",
        "#     list_val_rmse.append(train(model, model_path, train_loader,\n",
        "#                                val_loader, optimizer, scheduler=scheduler))\n",
        "\n",
        "#     del model\n",
        "#     gc.collect()\n",
        "    \n",
        "#     print(\"\\nPerformance estimates:\")\n",
        "#     print(list_val_rmse)\n",
        "#     print(\"Mean:\", np.array(list_val_rmse).mean())\n",
        "    "
      ],
      "execution_count": null,
      "outputs": [
        {
          "output_type": "stream",
          "text": [
            "\n",
            "Fold 1/5\n"
          ],
          "name": "stdout"
        },
        {
          "output_type": "stream",
          "text": [
            "Some weights of the model checkpoint at ../input/commonlitreadabilityprize/pretrained-model/clrp_roberta_base/ were not used when initializing RobertaModel: ['lm_head.dense.weight', 'lm_head.layer_norm.weight', 'lm_head.decoder.bias', 'lm_head.decoder.weight', 'lm_head.layer_norm.bias', 'lm_head.dense.bias', 'lm_head.bias']\n",
            "- This IS expected if you are initializing RobertaModel from the checkpoint of a model trained on another task or with another architecture (e.g. initializing a BertForSequenceClassification model from a BertForPreTraining model).\n",
            "- This IS NOT expected if you are initializing RobertaModel from the checkpoint of a model that you expect to be exactly identical (initializing a BertForSequenceClassification model from a BertForSequenceClassification model).\n",
            "Some weights of RobertaModel were not initialized from the model checkpoint at ../input/commonlitreadabilityprize/pretrained-model/clrp_roberta_base/ and are newly initialized: ['roberta.pooler.dense.bias', 'roberta.pooler.dense.weight']\n",
            "You should probably TRAIN this model on a down-stream task to be able to use it for predictions and inference.\n"
          ],
          "name": "stderr"
        },
        {
          "output_type": "stream",
          "text": [
            "\n",
            "16 steps took 7.04 seconds\n",
            "Epoch: 0 batch_num: 16 val_rmse: 0.97\n",
            "New best_val_rmse: 0.97\n",
            "\n",
            "16 steps took 6.39 seconds\n",
            "Epoch: 0 batch_num: 32 val_rmse: 0.7268\n",
            "New best_val_rmse: 0.7268\n",
            "\n",
            "16 steps took 6.36 seconds\n",
            "Epoch: 0 batch_num: 48 val_rmse: 0.642\n",
            "New best_val_rmse: 0.642\n",
            "\n",
            "16 steps took 6.37 seconds\n",
            "Epoch: 0 batch_num: 64 val_rmse: 0.6897\n",
            "Still best_val_rmse: 0.642 (from epoch 0)\n",
            "\n",
            "16 steps took 6.37 seconds\n",
            "Epoch: 0 batch_num: 80 val_rmse: 0.625\n",
            "New best_val_rmse: 0.625\n",
            "\n",
            "16 steps took 6.38 seconds\n",
            "Epoch: 0 batch_num: 96 val_rmse: 0.5475\n",
            "New best_val_rmse: 0.5475\n",
            "\n",
            "16 steps took 6.37 seconds\n",
            "Epoch: 0 batch_num: 112 val_rmse: 0.7094\n",
            "Still best_val_rmse: 0.5475 (from epoch 0)\n",
            "\n",
            "16 steps took 6.37 seconds\n",
            "Epoch: 0 batch_num: 128 val_rmse: 0.576\n",
            "Still best_val_rmse: 0.5475 (from epoch 0)\n",
            "\n",
            "16 steps took 6.51 seconds\n",
            "Epoch: 1 batch_num: 3 val_rmse: 0.5178\n",
            "New best_val_rmse: 0.5178\n",
            "\n",
            "16 steps took 6.37 seconds\n",
            "Epoch: 1 batch_num: 19 val_rmse: 0.597\n",
            "Still best_val_rmse: 0.5178 (from epoch 1)\n",
            "\n",
            "16 steps took 6.36 seconds\n",
            "Epoch: 1 batch_num: 35 val_rmse: 0.7076\n",
            "Still best_val_rmse: 0.5178 (from epoch 1)\n",
            "\n",
            "16 steps took 6.37 seconds\n",
            "Epoch: 1 batch_num: 51 val_rmse: 0.557\n",
            "Still best_val_rmse: 0.5178 (from epoch 1)\n",
            "\n",
            "16 steps took 6.37 seconds\n",
            "Epoch: 1 batch_num: 67 val_rmse: 0.5317\n",
            "Still best_val_rmse: 0.5178 (from epoch 1)\n",
            "\n",
            "16 steps took 6.37 seconds\n",
            "Epoch: 1 batch_num: 83 val_rmse: 0.6243\n",
            "Still best_val_rmse: 0.5178 (from epoch 1)\n",
            "\n",
            "16 steps took 6.37 seconds\n",
            "Epoch: 1 batch_num: 99 val_rmse: 0.5963\n",
            "Still best_val_rmse: 0.5178 (from epoch 1)\n",
            "\n",
            "16 steps took 6.37 seconds\n",
            "Epoch: 1 batch_num: 115 val_rmse: 0.5543\n",
            "Still best_val_rmse: 0.5178 (from epoch 1)\n",
            "\n",
            "16 steps took 6.37 seconds\n",
            "Epoch: 1 batch_num: 131 val_rmse: 0.6034\n",
            "Still best_val_rmse: 0.5178 (from epoch 1)\n",
            "\n",
            "16 steps took 6.51 seconds\n",
            "Epoch: 2 batch_num: 6 val_rmse: 0.5863\n",
            "Still best_val_rmse: 0.5178 (from epoch 1)\n",
            "\n",
            "16 steps took 6.37 seconds\n",
            "Epoch: 2 batch_num: 22 val_rmse: 0.6079\n",
            "Still best_val_rmse: 0.5178 (from epoch 1)\n",
            "\n",
            "16 steps took 6.37 seconds\n",
            "Epoch: 2 batch_num: 38 val_rmse: 0.5936\n",
            "Still best_val_rmse: 0.5178 (from epoch 1)\n",
            "\n",
            "16 steps took 6.37 seconds\n",
            "Epoch: 2 batch_num: 54 val_rmse: 0.5614\n",
            "Still best_val_rmse: 0.5178 (from epoch 1)\n",
            "\n",
            "16 steps took 6.37 seconds\n",
            "Epoch: 2 batch_num: 70 val_rmse: 0.6145\n",
            "Still best_val_rmse: 0.5178 (from epoch 1)\n",
            "\n",
            "16 steps took 6.37 seconds\n",
            "Epoch: 2 batch_num: 86 val_rmse: 0.5763\n",
            "Still best_val_rmse: 0.5178 (from epoch 1)\n",
            "\n",
            "16 steps took 6.37 seconds\n",
            "Epoch: 2 batch_num: 102 val_rmse: 0.6218\n",
            "Still best_val_rmse: 0.5178 (from epoch 1)\n",
            "\n",
            "16 steps took 6.37 seconds\n",
            "Epoch: 2 batch_num: 118 val_rmse: 0.592\n",
            "Still best_val_rmse: 0.5178 (from epoch 1)\n",
            "\n",
            "16 steps took 6.37 seconds\n",
            "Epoch: 2 batch_num: 134 val_rmse: 0.5996\n",
            "Still best_val_rmse: 0.5178 (from epoch 1)\n",
            "\n",
            "Performance estimates:\n",
            "[0.5177905246270832]\n",
            "Mean: 0.5177905246270832\n",
            "\n",
            "Fold 2/5\n"
          ],
          "name": "stdout"
        },
        {
          "output_type": "stream",
          "text": [
            "Some weights of the model checkpoint at ../input/commonlitreadabilityprize/pretrained-model/clrp_roberta_base/ were not used when initializing RobertaModel: ['lm_head.dense.weight', 'lm_head.layer_norm.weight', 'lm_head.decoder.bias', 'lm_head.decoder.weight', 'lm_head.layer_norm.bias', 'lm_head.dense.bias', 'lm_head.bias']\n",
            "- This IS expected if you are initializing RobertaModel from the checkpoint of a model trained on another task or with another architecture (e.g. initializing a BertForSequenceClassification model from a BertForPreTraining model).\n",
            "- This IS NOT expected if you are initializing RobertaModel from the checkpoint of a model that you expect to be exactly identical (initializing a BertForSequenceClassification model from a BertForSequenceClassification model).\n",
            "Some weights of RobertaModel were not initialized from the model checkpoint at ../input/commonlitreadabilityprize/pretrained-model/clrp_roberta_base/ and are newly initialized: ['roberta.pooler.dense.bias', 'roberta.pooler.dense.weight']\n",
            "You should probably TRAIN this model on a down-stream task to be able to use it for predictions and inference.\n"
          ],
          "name": "stderr"
        },
        {
          "output_type": "stream",
          "text": [
            "\n",
            "16 steps took 6.9 seconds\n",
            "Epoch: 0 batch_num: 16 val_rmse: 1.035\n",
            "New best_val_rmse: 1.035\n",
            "\n",
            "16 steps took 6.37 seconds\n",
            "Epoch: 0 batch_num: 32 val_rmse: 0.7504\n",
            "New best_val_rmse: 0.7504\n",
            "\n",
            "16 steps took 6.37 seconds\n",
            "Epoch: 0 batch_num: 48 val_rmse: 0.8988\n",
            "Still best_val_rmse: 0.7504 (from epoch 0)\n",
            "\n",
            "16 steps took 6.36 seconds\n",
            "Epoch: 0 batch_num: 64 val_rmse: 0.6969\n",
            "New best_val_rmse: 0.6969\n",
            "\n",
            "16 steps took 6.37 seconds\n",
            "Epoch: 0 batch_num: 80 val_rmse: 0.6021\n",
            "New best_val_rmse: 0.6021\n",
            "\n",
            "16 steps took 6.36 seconds\n",
            "Epoch: 0 batch_num: 96 val_rmse: 0.6101\n",
            "Still best_val_rmse: 0.6021 (from epoch 0)\n",
            "\n",
            "16 steps took 6.36 seconds\n",
            "Epoch: 0 batch_num: 112 val_rmse: 0.6434\n",
            "Still best_val_rmse: 0.6021 (from epoch 0)\n",
            "\n",
            "16 steps took 6.37 seconds\n",
            "Epoch: 0 batch_num: 128 val_rmse: 0.6435\n",
            "Still best_val_rmse: 0.6021 (from epoch 0)\n",
            "\n",
            "16 steps took 6.51 seconds\n",
            "Epoch: 1 batch_num: 3 val_rmse: 0.5622\n",
            "New best_val_rmse: 0.5622\n",
            "\n",
            "16 steps took 6.37 seconds\n",
            "Epoch: 1 batch_num: 19 val_rmse: 0.5154\n",
            "New best_val_rmse: 0.5154\n",
            "\n",
            "16 steps took 6.37 seconds\n",
            "Epoch: 1 batch_num: 35 val_rmse: 0.5571\n",
            "Still best_val_rmse: 0.5154 (from epoch 1)\n",
            "\n",
            "16 steps took 6.37 seconds\n",
            "Epoch: 1 batch_num: 51 val_rmse: 0.6447\n",
            "Still best_val_rmse: 0.5154 (from epoch 1)\n",
            "\n",
            "16 steps took 6.37 seconds\n",
            "Epoch: 1 batch_num: 67 val_rmse: 0.5331\n",
            "Still best_val_rmse: 0.5154 (from epoch 1)\n",
            "\n",
            "16 steps took 6.37 seconds\n",
            "Epoch: 1 batch_num: 83 val_rmse: 0.724\n",
            "Still best_val_rmse: 0.5154 (from epoch 1)\n",
            "\n",
            "16 steps took 6.37 seconds\n",
            "Epoch: 1 batch_num: 99 val_rmse: 0.5512\n",
            "Still best_val_rmse: 0.5154 (from epoch 1)\n",
            "\n",
            "16 steps took 6.36 seconds\n",
            "Epoch: 1 batch_num: 115 val_rmse: 0.5829\n",
            "Still best_val_rmse: 0.5154 (from epoch 1)\n",
            "\n",
            "16 steps took 6.38 seconds\n",
            "Epoch: 1 batch_num: 131 val_rmse: 0.6333\n",
            "Still best_val_rmse: 0.5154 (from epoch 1)\n",
            "\n",
            "16 steps took 6.5 seconds\n",
            "Epoch: 2 batch_num: 6 val_rmse: 0.5547\n",
            "Still best_val_rmse: 0.5154 (from epoch 1)\n",
            "\n",
            "16 steps took 6.37 seconds\n",
            "Epoch: 2 batch_num: 22 val_rmse: 0.5291\n",
            "Still best_val_rmse: 0.5154 (from epoch 1)\n",
            "\n",
            "16 steps took 6.38 seconds\n",
            "Epoch: 2 batch_num: 38 val_rmse: 0.5571\n",
            "Still best_val_rmse: 0.5154 (from epoch 1)\n",
            "\n",
            "16 steps took 6.37 seconds\n",
            "Epoch: 2 batch_num: 54 val_rmse: 0.5315\n",
            "Still best_val_rmse: 0.5154 (from epoch 1)\n",
            "\n",
            "16 steps took 6.37 seconds\n",
            "Epoch: 2 batch_num: 70 val_rmse: 0.6187\n",
            "Still best_val_rmse: 0.5154 (from epoch 1)\n",
            "\n",
            "16 steps took 6.37 seconds\n",
            "Epoch: 2 batch_num: 86 val_rmse: 0.5601\n",
            "Still best_val_rmse: 0.5154 (from epoch 1)\n",
            "\n",
            "16 steps took 6.37 seconds\n",
            "Epoch: 2 batch_num: 102 val_rmse: 0.5592\n",
            "Still best_val_rmse: 0.5154 (from epoch 1)\n",
            "\n",
            "16 steps took 6.37 seconds\n",
            "Epoch: 2 batch_num: 118 val_rmse: 0.5631\n",
            "Still best_val_rmse: 0.5154 (from epoch 1)\n",
            "\n",
            "16 steps took 6.37 seconds\n",
            "Epoch: 2 batch_num: 134 val_rmse: 0.567\n",
            "Still best_val_rmse: 0.5154 (from epoch 1)\n",
            "\n",
            "Performance estimates:\n",
            "[0.5177905246270832, 0.5154310663675599]\n",
            "Mean: 0.5166107954973216\n",
            "\n",
            "Fold 3/5\n"
          ],
          "name": "stdout"
        },
        {
          "output_type": "stream",
          "text": [
            "Some weights of the model checkpoint at ../input/commonlitreadabilityprize/pretrained-model/clrp_roberta_base/ were not used when initializing RobertaModel: ['lm_head.dense.weight', 'lm_head.layer_norm.weight', 'lm_head.decoder.bias', 'lm_head.decoder.weight', 'lm_head.layer_norm.bias', 'lm_head.dense.bias', 'lm_head.bias']\n",
            "- This IS expected if you are initializing RobertaModel from the checkpoint of a model trained on another task or with another architecture (e.g. initializing a BertForSequenceClassification model from a BertForPreTraining model).\n",
            "- This IS NOT expected if you are initializing RobertaModel from the checkpoint of a model that you expect to be exactly identical (initializing a BertForSequenceClassification model from a BertForSequenceClassification model).\n",
            "Some weights of RobertaModel were not initialized from the model checkpoint at ../input/commonlitreadabilityprize/pretrained-model/clrp_roberta_base/ and are newly initialized: ['roberta.pooler.dense.bias', 'roberta.pooler.dense.weight']\n",
            "You should probably TRAIN this model on a down-stream task to be able to use it for predictions and inference.\n"
          ],
          "name": "stderr"
        },
        {
          "output_type": "stream",
          "text": [
            "\n",
            "16 steps took 6.87 seconds\n",
            "Epoch: 0 batch_num: 16 val_rmse: 0.9424\n",
            "New best_val_rmse: 0.9424\n",
            "\n",
            "16 steps took 6.37 seconds\n",
            "Epoch: 0 batch_num: 32 val_rmse: 0.8342\n",
            "New best_val_rmse: 0.8342\n",
            "\n",
            "16 steps took 6.37 seconds\n",
            "Epoch: 0 batch_num: 48 val_rmse: 0.6179\n",
            "New best_val_rmse: 0.6179\n",
            "\n",
            "16 steps took 6.37 seconds\n",
            "Epoch: 0 batch_num: 64 val_rmse: 0.6312\n",
            "Still best_val_rmse: 0.6179 (from epoch 0)\n",
            "\n",
            "16 steps took 6.37 seconds\n",
            "Epoch: 0 batch_num: 80 val_rmse: 0.5517\n",
            "New best_val_rmse: 0.5517\n",
            "\n",
            "16 steps took 6.37 seconds\n",
            "Epoch: 0 batch_num: 96 val_rmse: 0.6727\n",
            "Still best_val_rmse: 0.5517 (from epoch 0)\n",
            "\n",
            "16 steps took 6.37 seconds\n",
            "Epoch: 0 batch_num: 112 val_rmse: 0.5075\n",
            "New best_val_rmse: 0.5075\n",
            "\n",
            "16 steps took 6.37 seconds\n",
            "Epoch: 0 batch_num: 128 val_rmse: 0.6609\n",
            "Still best_val_rmse: 0.5075 (from epoch 0)\n",
            "\n",
            "16 steps took 6.53 seconds\n",
            "Epoch: 1 batch_num: 3 val_rmse: 0.5135\n",
            "Still best_val_rmse: 0.5075 (from epoch 0)\n",
            "\n",
            "16 steps took 6.37 seconds\n",
            "Epoch: 1 batch_num: 19 val_rmse: 0.5621\n",
            "Still best_val_rmse: 0.5075 (from epoch 0)\n",
            "\n",
            "16 steps took 6.37 seconds\n",
            "Epoch: 1 batch_num: 35 val_rmse: 0.5834\n",
            "Still best_val_rmse: 0.5075 (from epoch 0)\n",
            "\n",
            "16 steps took 6.37 seconds\n",
            "Epoch: 1 batch_num: 51 val_rmse: 0.5094\n",
            "Still best_val_rmse: 0.5075 (from epoch 0)\n",
            "\n",
            "16 steps took 6.37 seconds\n",
            "Epoch: 1 batch_num: 67 val_rmse: 0.7009\n",
            "Still best_val_rmse: 0.5075 (from epoch 0)\n",
            "\n",
            "16 steps took 6.37 seconds\n",
            "Epoch: 1 batch_num: 83 val_rmse: 0.5382\n",
            "Still best_val_rmse: 0.5075 (from epoch 0)\n",
            "\n",
            "16 steps took 6.37 seconds\n",
            "Epoch: 1 batch_num: 99 val_rmse: 0.498\n",
            "New best_val_rmse: 0.498\n",
            "\n",
            "8 steps took 3.18 seconds\n",
            "Epoch: 1 batch_num: 107 val_rmse: 0.5116\n",
            "Still best_val_rmse: 0.498 (from epoch 1)\n",
            "\n",
            "16 steps took 6.37 seconds\n",
            "Epoch: 1 batch_num: 123 val_rmse: 0.5658\n",
            "Still best_val_rmse: 0.498 (from epoch 1)\n",
            "\n",
            "16 steps took 6.37 seconds\n",
            "Epoch: 1 batch_num: 139 val_rmse: 0.5133\n",
            "Still best_val_rmse: 0.498 (from epoch 1)\n",
            "\n",
            "16 steps took 6.52 seconds\n",
            "Epoch: 2 batch_num: 14 val_rmse: 0.544\n",
            "Still best_val_rmse: 0.498 (from epoch 1)\n",
            "\n",
            "16 steps took 6.37 seconds\n",
            "Epoch: 2 batch_num: 30 val_rmse: 0.6009\n",
            "Still best_val_rmse: 0.498 (from epoch 1)\n",
            "\n",
            "16 steps took 6.37 seconds\n",
            "Epoch: 2 batch_num: 46 val_rmse: 0.5784\n",
            "Still best_val_rmse: 0.498 (from epoch 1)\n",
            "\n",
            "16 steps took 6.37 seconds\n",
            "Epoch: 2 batch_num: 62 val_rmse: 0.5365\n",
            "Still best_val_rmse: 0.498 (from epoch 1)\n",
            "\n",
            "16 steps took 6.37 seconds\n",
            "Epoch: 2 batch_num: 78 val_rmse: 0.5526\n",
            "Still best_val_rmse: 0.498 (from epoch 1)\n",
            "\n",
            "16 steps took 6.36 seconds\n",
            "Epoch: 2 batch_num: 94 val_rmse: 0.5933\n",
            "Still best_val_rmse: 0.498 (from epoch 1)\n",
            "\n",
            "16 steps took 6.37 seconds\n",
            "Epoch: 2 batch_num: 110 val_rmse: 0.5898\n",
            "Still best_val_rmse: 0.498 (from epoch 1)\n",
            "\n",
            "16 steps took 6.37 seconds\n",
            "Epoch: 2 batch_num: 126 val_rmse: 0.5867\n",
            "Still best_val_rmse: 0.498 (from epoch 1)\n",
            "\n",
            "Performance estimates:\n",
            "[0.5177905246270832, 0.5154310663675599, 0.49802794456516664]\n",
            "Mean: 0.5104165118532699\n",
            "\n",
            "Fold 4/5\n"
          ],
          "name": "stdout"
        },
        {
          "output_type": "stream",
          "text": [
            "Some weights of the model checkpoint at ../input/commonlitreadabilityprize/pretrained-model/clrp_roberta_base/ were not used when initializing RobertaModel: ['lm_head.dense.weight', 'lm_head.layer_norm.weight', 'lm_head.decoder.bias', 'lm_head.decoder.weight', 'lm_head.layer_norm.bias', 'lm_head.dense.bias', 'lm_head.bias']\n",
            "- This IS expected if you are initializing RobertaModel from the checkpoint of a model trained on another task or with another architecture (e.g. initializing a BertForSequenceClassification model from a BertForPreTraining model).\n",
            "- This IS NOT expected if you are initializing RobertaModel from the checkpoint of a model that you expect to be exactly identical (initializing a BertForSequenceClassification model from a BertForSequenceClassification model).\n",
            "Some weights of RobertaModel were not initialized from the model checkpoint at ../input/commonlitreadabilityprize/pretrained-model/clrp_roberta_base/ and are newly initialized: ['roberta.pooler.dense.bias', 'roberta.pooler.dense.weight']\n",
            "You should probably TRAIN this model on a down-stream task to be able to use it for predictions and inference.\n"
          ],
          "name": "stderr"
        },
        {
          "output_type": "stream",
          "text": [
            "\n",
            "16 steps took 6.88 seconds\n",
            "Epoch: 0 batch_num: 16 val_rmse: 1.059\n",
            "New best_val_rmse: 1.059\n",
            "\n",
            "16 steps took 6.37 seconds\n",
            "Epoch: 0 batch_num: 32 val_rmse: 0.8555\n",
            "New best_val_rmse: 0.8555\n",
            "\n",
            "16 steps took 6.37 seconds\n",
            "Epoch: 0 batch_num: 48 val_rmse: 0.8018\n",
            "New best_val_rmse: 0.8018\n",
            "\n",
            "16 steps took 6.37 seconds\n",
            "Epoch: 0 batch_num: 64 val_rmse: 0.8486\n",
            "Still best_val_rmse: 0.8018 (from epoch 0)\n",
            "\n",
            "16 steps took 6.37 seconds\n",
            "Epoch: 0 batch_num: 80 val_rmse: 0.694\n",
            "New best_val_rmse: 0.694\n",
            "\n",
            "16 steps took 6.37 seconds\n",
            "Epoch: 0 batch_num: 96 val_rmse: 0.5334\n",
            "New best_val_rmse: 0.5334\n",
            "\n",
            "16 steps took 6.37 seconds\n",
            "Epoch: 0 batch_num: 112 val_rmse: 0.5448\n",
            "Still best_val_rmse: 0.5334 (from epoch 0)\n",
            "\n",
            "16 steps took 6.37 seconds\n",
            "Epoch: 0 batch_num: 128 val_rmse: 0.6069\n",
            "Still best_val_rmse: 0.5334 (from epoch 0)\n",
            "\n",
            "16 steps took 6.52 seconds\n",
            "Epoch: 1 batch_num: 3 val_rmse: 0.6424\n",
            "Still best_val_rmse: 0.5334 (from epoch 0)\n",
            "\n",
            "16 steps took 6.37 seconds\n",
            "Epoch: 1 batch_num: 19 val_rmse: 0.5366\n",
            "Still best_val_rmse: 0.5334 (from epoch 0)\n",
            "\n",
            "16 steps took 6.37 seconds\n",
            "Epoch: 1 batch_num: 35 val_rmse: 0.7415\n",
            "Still best_val_rmse: 0.5334 (from epoch 0)\n",
            "\n",
            "16 steps took 6.37 seconds\n",
            "Epoch: 1 batch_num: 51 val_rmse: 0.5365\n",
            "Still best_val_rmse: 0.5334 (from epoch 0)\n",
            "\n",
            "16 steps took 6.37 seconds\n",
            "Epoch: 1 batch_num: 67 val_rmse: 0.6188\n",
            "Still best_val_rmse: 0.5334 (from epoch 0)\n",
            "\n",
            "16 steps took 6.37 seconds\n",
            "Epoch: 1 batch_num: 83 val_rmse: 0.5589\n",
            "Still best_val_rmse: 0.5334 (from epoch 0)\n",
            "\n",
            "16 steps took 6.37 seconds\n",
            "Epoch: 1 batch_num: 99 val_rmse: 0.7027\n",
            "Still best_val_rmse: 0.5334 (from epoch 0)\n",
            "\n",
            "16 steps took 6.37 seconds\n",
            "Epoch: 1 batch_num: 115 val_rmse: 0.6602\n",
            "Still best_val_rmse: 0.5334 (from epoch 0)\n",
            "\n",
            "16 steps took 6.38 seconds\n",
            "Epoch: 1 batch_num: 131 val_rmse: 0.5942\n",
            "Still best_val_rmse: 0.5334 (from epoch 0)\n",
            "\n",
            "16 steps took 6.51 seconds\n",
            "Epoch: 2 batch_num: 6 val_rmse: 0.7198\n",
            "Still best_val_rmse: 0.5334 (from epoch 0)\n",
            "\n",
            "16 steps took 6.37 seconds\n",
            "Epoch: 2 batch_num: 22 val_rmse: 0.6559\n",
            "Still best_val_rmse: 0.5334 (from epoch 0)\n",
            "\n",
            "16 steps took 6.37 seconds\n",
            "Epoch: 2 batch_num: 38 val_rmse: 0.5939\n",
            "Still best_val_rmse: 0.5334 (from epoch 0)\n",
            "\n",
            "16 steps took 6.37 seconds\n",
            "Epoch: 2 batch_num: 54 val_rmse: 0.6292\n",
            "Still best_val_rmse: 0.5334 (from epoch 0)\n",
            "\n",
            "16 steps took 6.37 seconds\n",
            "Epoch: 2 batch_num: 70 val_rmse: 0.581\n",
            "Still best_val_rmse: 0.5334 (from epoch 0)\n",
            "\n",
            "16 steps took 6.37 seconds\n",
            "Epoch: 2 batch_num: 86 val_rmse: 0.631\n",
            "Still best_val_rmse: 0.5334 (from epoch 0)\n",
            "\n",
            "16 steps took 6.37 seconds\n",
            "Epoch: 2 batch_num: 102 val_rmse: 0.6215\n",
            "Still best_val_rmse: 0.5334 (from epoch 0)\n",
            "\n",
            "16 steps took 6.37 seconds\n",
            "Epoch: 2 batch_num: 118 val_rmse: 0.6034\n",
            "Still best_val_rmse: 0.5334 (from epoch 0)\n",
            "\n",
            "16 steps took 6.37 seconds\n",
            "Epoch: 2 batch_num: 134 val_rmse: 0.6059\n",
            "Still best_val_rmse: 0.5334 (from epoch 0)\n",
            "\n",
            "Performance estimates:\n",
            "[0.5177905246270832, 0.5154310663675599, 0.49802794456516664, 0.5333906677437822]\n",
            "Mean: 0.516160050825898\n",
            "\n",
            "Fold 5/5\n"
          ],
          "name": "stdout"
        },
        {
          "output_type": "stream",
          "text": [
            "Some weights of the model checkpoint at ../input/commonlitreadabilityprize/pretrained-model/clrp_roberta_base/ were not used when initializing RobertaModel: ['lm_head.dense.weight', 'lm_head.layer_norm.weight', 'lm_head.decoder.bias', 'lm_head.decoder.weight', 'lm_head.layer_norm.bias', 'lm_head.dense.bias', 'lm_head.bias']\n",
            "- This IS expected if you are initializing RobertaModel from the checkpoint of a model trained on another task or with another architecture (e.g. initializing a BertForSequenceClassification model from a BertForPreTraining model).\n",
            "- This IS NOT expected if you are initializing RobertaModel from the checkpoint of a model that you expect to be exactly identical (initializing a BertForSequenceClassification model from a BertForSequenceClassification model).\n",
            "Some weights of RobertaModel were not initialized from the model checkpoint at ../input/commonlitreadabilityprize/pretrained-model/clrp_roberta_base/ and are newly initialized: ['roberta.pooler.dense.bias', 'roberta.pooler.dense.weight']\n",
            "You should probably TRAIN this model on a down-stream task to be able to use it for predictions and inference.\n"
          ],
          "name": "stderr"
        },
        {
          "output_type": "stream",
          "text": [
            "\n",
            "16 steps took 6.89 seconds\n",
            "Epoch: 0 batch_num: 16 val_rmse: 0.8948\n",
            "New best_val_rmse: 0.8948\n",
            "\n",
            "16 steps took 6.37 seconds\n",
            "Epoch: 0 batch_num: 32 val_rmse: 0.6896\n",
            "New best_val_rmse: 0.6896\n",
            "\n",
            "16 steps took 6.38 seconds\n",
            "Epoch: 0 batch_num: 48 val_rmse: 0.5947\n",
            "New best_val_rmse: 0.5947\n",
            "\n",
            "16 steps took 6.37 seconds\n",
            "Epoch: 0 batch_num: 64 val_rmse: 0.7407\n",
            "Still best_val_rmse: 0.5947 (from epoch 0)\n",
            "\n",
            "16 steps took 6.37 seconds\n",
            "Epoch: 0 batch_num: 80 val_rmse: 0.7894\n",
            "Still best_val_rmse: 0.5947 (from epoch 0)\n",
            "\n",
            "16 steps took 6.37 seconds\n",
            "Epoch: 0 batch_num: 96 val_rmse: 0.5995\n",
            "Still best_val_rmse: 0.5947 (from epoch 0)\n",
            "\n",
            "16 steps took 6.37 seconds\n",
            "Epoch: 0 batch_num: 112 val_rmse: 0.5469\n",
            "New best_val_rmse: 0.5469\n",
            "\n",
            "16 steps took 6.37 seconds\n",
            "Epoch: 0 batch_num: 128 val_rmse: 0.5939\n",
            "Still best_val_rmse: 0.5469 (from epoch 0)\n",
            "\n",
            "16 steps took 6.52 seconds\n",
            "Epoch: 1 batch_num: 3 val_rmse: 0.5607\n",
            "Still best_val_rmse: 0.5469 (from epoch 0)\n",
            "\n",
            "16 steps took 6.37 seconds\n",
            "Epoch: 1 batch_num: 19 val_rmse: 0.5679\n",
            "Still best_val_rmse: 0.5469 (from epoch 0)\n",
            "\n",
            "16 steps took 6.37 seconds\n",
            "Epoch: 1 batch_num: 35 val_rmse: 0.6141\n",
            "Still best_val_rmse: 0.5469 (from epoch 0)\n",
            "\n",
            "16 steps took 6.37 seconds\n",
            "Epoch: 1 batch_num: 51 val_rmse: 0.62\n",
            "Still best_val_rmse: 0.5469 (from epoch 0)\n",
            "\n",
            "16 steps took 6.37 seconds\n",
            "Epoch: 1 batch_num: 67 val_rmse: 0.7227\n",
            "Still best_val_rmse: 0.5469 (from epoch 0)\n",
            "\n",
            "16 steps took 6.37 seconds\n",
            "Epoch: 1 batch_num: 83 val_rmse: 0.5775\n",
            "Still best_val_rmse: 0.5469 (from epoch 0)\n",
            "\n",
            "16 steps took 6.38 seconds\n",
            "Epoch: 1 batch_num: 99 val_rmse: 0.6263\n",
            "Still best_val_rmse: 0.5469 (from epoch 0)\n",
            "\n",
            "16 steps took 6.36 seconds\n",
            "Epoch: 1 batch_num: 115 val_rmse: 0.6338\n",
            "Still best_val_rmse: 0.5469 (from epoch 0)\n",
            "\n",
            "16 steps took 6.37 seconds\n",
            "Epoch: 1 batch_num: 131 val_rmse: 0.6556\n",
            "Still best_val_rmse: 0.5469 (from epoch 0)\n",
            "\n",
            "16 steps took 6.5 seconds\n",
            "Epoch: 2 batch_num: 6 val_rmse: 0.6486\n",
            "Still best_val_rmse: 0.5469 (from epoch 0)\n",
            "\n",
            "16 steps took 6.37 seconds\n",
            "Epoch: 2 batch_num: 22 val_rmse: 0.6734\n",
            "Still best_val_rmse: 0.5469 (from epoch 0)\n",
            "\n",
            "16 steps took 6.37 seconds\n",
            "Epoch: 2 batch_num: 38 val_rmse: 0.6125\n",
            "Still best_val_rmse: 0.5469 (from epoch 0)\n",
            "\n",
            "16 steps took 6.37 seconds\n",
            "Epoch: 2 batch_num: 54 val_rmse: 0.6614\n",
            "Still best_val_rmse: 0.5469 (from epoch 0)\n",
            "\n",
            "16 steps took 6.37 seconds\n",
            "Epoch: 2 batch_num: 70 val_rmse: 0.6617\n",
            "Still best_val_rmse: 0.5469 (from epoch 0)\n",
            "\n",
            "16 steps took 6.37 seconds\n",
            "Epoch: 2 batch_num: 86 val_rmse: 0.5981\n",
            "Still best_val_rmse: 0.5469 (from epoch 0)\n",
            "\n",
            "16 steps took 6.37 seconds\n",
            "Epoch: 2 batch_num: 102 val_rmse: 0.6121\n",
            "Still best_val_rmse: 0.5469 (from epoch 0)\n",
            "\n",
            "16 steps took 6.37 seconds\n",
            "Epoch: 2 batch_num: 118 val_rmse: 0.6342\n",
            "Still best_val_rmse: 0.5469 (from epoch 0)\n",
            "\n",
            "16 steps took 6.37 seconds\n",
            "Epoch: 2 batch_num: 134 val_rmse: 0.6397\n",
            "Still best_val_rmse: 0.5469 (from epoch 0)\n",
            "\n",
            "Performance estimates:\n",
            "[0.5177905246270832, 0.5154310663675599, 0.49802794456516664, 0.5333906677437822, 0.5469081381434518]\n",
            "Mean: 0.5223096682894088\n"
          ],
          "name": "stdout"
        }
      ]
    },
    {
      "cell_type": "markdown",
      "metadata": {
        "id": "c9PqamPNXV5k"
      },
      "source": [
        "# Inference"
      ]
    },
    {
      "cell_type": "code",
      "metadata": {
        "id": "7bAMT9-NXV5k"
      },
      "source": [
        "test_dataset = LitDataset(test_df, inference_only=True)"
      ],
      "execution_count": null,
      "outputs": []
    },
    {
      "cell_type": "code",
      "metadata": {
        "id": "Z5Y_L0yfXV5k",
        "colab": {
          "base_uri": "https://localhost:8080/"
        },
        "outputId": "75b39242-37a3-4f5c-93b9-bea85d17ea34"
      },
      "source": [
        "all_predictions = np.zeros((len(list_val_rmse), len(test_df)))\n",
        "\n",
        "test_dataset = LitDataset(test_df, inference_only=True)\n",
        "test_loader = DataLoader(test_dataset, batch_size=BATCH_SIZE,\n",
        "                         drop_last=False, shuffle=False, num_workers=2)\n",
        "\n",
        "for index in range(len(list_val_rmse)):            \n",
        "    model_path = f\"model_{index + 1}.pth\"\n",
        "    print(f\"\\nUsing {model_path}\")\n",
        "                        \n",
        "    model = LitModel()\n",
        "    model.load_state_dict(torch.load(model_path))    \n",
        "    model.to(DEVICE)\n",
        "    \n",
        "    all_predictions[index] = predict(model, test_loader)\n",
        "    \n",
        "    del model\n",
        "    gc.collect()"
      ],
      "execution_count": null,
      "outputs": [
        {
          "output_type": "stream",
          "text": [
            "\n",
            "Using model_1.pth\n"
          ],
          "name": "stdout"
        },
        {
          "output_type": "stream",
          "text": [
            "Some weights of the model checkpoint at ../input/commonlitreadabilityprize/pretrained-model/clrp_roberta_base/ were not used when initializing RobertaModel: ['lm_head.dense.weight', 'lm_head.layer_norm.weight', 'lm_head.decoder.bias', 'lm_head.decoder.weight', 'lm_head.layer_norm.bias', 'lm_head.dense.bias', 'lm_head.bias']\n",
            "- This IS expected if you are initializing RobertaModel from the checkpoint of a model trained on another task or with another architecture (e.g. initializing a BertForSequenceClassification model from a BertForPreTraining model).\n",
            "- This IS NOT expected if you are initializing RobertaModel from the checkpoint of a model that you expect to be exactly identical (initializing a BertForSequenceClassification model from a BertForSequenceClassification model).\n",
            "Some weights of RobertaModel were not initialized from the model checkpoint at ../input/commonlitreadabilityprize/pretrained-model/clrp_roberta_base/ and are newly initialized: ['roberta.pooler.dense.bias', 'roberta.pooler.dense.weight']\n",
            "You should probably TRAIN this model on a down-stream task to be able to use it for predictions and inference.\n"
          ],
          "name": "stderr"
        },
        {
          "output_type": "stream",
          "text": [
            "\n",
            "Using model_2.pth\n"
          ],
          "name": "stdout"
        },
        {
          "output_type": "stream",
          "text": [
            "Some weights of the model checkpoint at ../input/commonlitreadabilityprize/pretrained-model/clrp_roberta_base/ were not used when initializing RobertaModel: ['lm_head.dense.weight', 'lm_head.layer_norm.weight', 'lm_head.decoder.bias', 'lm_head.decoder.weight', 'lm_head.layer_norm.bias', 'lm_head.dense.bias', 'lm_head.bias']\n",
            "- This IS expected if you are initializing RobertaModel from the checkpoint of a model trained on another task or with another architecture (e.g. initializing a BertForSequenceClassification model from a BertForPreTraining model).\n",
            "- This IS NOT expected if you are initializing RobertaModel from the checkpoint of a model that you expect to be exactly identical (initializing a BertForSequenceClassification model from a BertForSequenceClassification model).\n",
            "Some weights of RobertaModel were not initialized from the model checkpoint at ../input/commonlitreadabilityprize/pretrained-model/clrp_roberta_base/ and are newly initialized: ['roberta.pooler.dense.bias', 'roberta.pooler.dense.weight']\n",
            "You should probably TRAIN this model on a down-stream task to be able to use it for predictions and inference.\n"
          ],
          "name": "stderr"
        },
        {
          "output_type": "stream",
          "text": [
            "\n",
            "Using model_3.pth\n"
          ],
          "name": "stdout"
        },
        {
          "output_type": "stream",
          "text": [
            "Some weights of the model checkpoint at ../input/commonlitreadabilityprize/pretrained-model/clrp_roberta_base/ were not used when initializing RobertaModel: ['lm_head.dense.weight', 'lm_head.layer_norm.weight', 'lm_head.decoder.bias', 'lm_head.decoder.weight', 'lm_head.layer_norm.bias', 'lm_head.dense.bias', 'lm_head.bias']\n",
            "- This IS expected if you are initializing RobertaModel from the checkpoint of a model trained on another task or with another architecture (e.g. initializing a BertForSequenceClassification model from a BertForPreTraining model).\n",
            "- This IS NOT expected if you are initializing RobertaModel from the checkpoint of a model that you expect to be exactly identical (initializing a BertForSequenceClassification model from a BertForSequenceClassification model).\n",
            "Some weights of RobertaModel were not initialized from the model checkpoint at ../input/commonlitreadabilityprize/pretrained-model/clrp_roberta_base/ and are newly initialized: ['roberta.pooler.dense.bias', 'roberta.pooler.dense.weight']\n",
            "You should probably TRAIN this model on a down-stream task to be able to use it for predictions and inference.\n"
          ],
          "name": "stderr"
        },
        {
          "output_type": "stream",
          "text": [
            "\n",
            "Using model_4.pth\n"
          ],
          "name": "stdout"
        },
        {
          "output_type": "stream",
          "text": [
            "Some weights of the model checkpoint at ../input/commonlitreadabilityprize/pretrained-model/clrp_roberta_base/ were not used when initializing RobertaModel: ['lm_head.dense.weight', 'lm_head.layer_norm.weight', 'lm_head.decoder.bias', 'lm_head.decoder.weight', 'lm_head.layer_norm.bias', 'lm_head.dense.bias', 'lm_head.bias']\n",
            "- This IS expected if you are initializing RobertaModel from the checkpoint of a model trained on another task or with another architecture (e.g. initializing a BertForSequenceClassification model from a BertForPreTraining model).\n",
            "- This IS NOT expected if you are initializing RobertaModel from the checkpoint of a model that you expect to be exactly identical (initializing a BertForSequenceClassification model from a BertForSequenceClassification model).\n",
            "Some weights of RobertaModel were not initialized from the model checkpoint at ../input/commonlitreadabilityprize/pretrained-model/clrp_roberta_base/ and are newly initialized: ['roberta.pooler.dense.bias', 'roberta.pooler.dense.weight']\n",
            "You should probably TRAIN this model on a down-stream task to be able to use it for predictions and inference.\n"
          ],
          "name": "stderr"
        },
        {
          "output_type": "stream",
          "text": [
            "\n",
            "Using model_5.pth\n"
          ],
          "name": "stdout"
        },
        {
          "output_type": "stream",
          "text": [
            "Some weights of the model checkpoint at ../input/commonlitreadabilityprize/pretrained-model/clrp_roberta_base/ were not used when initializing RobertaModel: ['lm_head.dense.weight', 'lm_head.layer_norm.weight', 'lm_head.decoder.bias', 'lm_head.decoder.weight', 'lm_head.layer_norm.bias', 'lm_head.dense.bias', 'lm_head.bias']\n",
            "- This IS expected if you are initializing RobertaModel from the checkpoint of a model trained on another task or with another architecture (e.g. initializing a BertForSequenceClassification model from a BertForPreTraining model).\n",
            "- This IS NOT expected if you are initializing RobertaModel from the checkpoint of a model that you expect to be exactly identical (initializing a BertForSequenceClassification model from a BertForSequenceClassification model).\n",
            "Some weights of RobertaModel were not initialized from the model checkpoint at ../input/commonlitreadabilityprize/pretrained-model/clrp_roberta_base/ and are newly initialized: ['roberta.pooler.dense.bias', 'roberta.pooler.dense.weight']\n",
            "You should probably TRAIN this model on a down-stream task to be able to use it for predictions and inference.\n"
          ],
          "name": "stderr"
        }
      ]
    },
    {
      "cell_type": "code",
      "metadata": {
        "id": "oUDbpVq8XV5l",
        "colab": {
          "base_uri": "https://localhost:8080/"
        },
        "outputId": "2fecea85-3145-49f4-a9a7-5dda47361065"
      },
      "source": [
        "predictions = all_predictions.mean(axis=0)\n",
        "submission_df.target = predictions\n",
        "print(submission_df)\n",
        "submission_df.to_csv(\"submission.csv\", index=False)"
      ],
      "execution_count": null,
      "outputs": [
        {
          "output_type": "stream",
          "text": [
            "          id    target\n",
            "0  c0f722661 -0.408595\n",
            "1  f0953f0a5 -0.417984\n",
            "2  0df072751 -0.312096\n",
            "3  04caf4e0c -2.534412\n",
            "4  0e63f8bea -1.586666\n",
            "5  12537fe78 -1.190880\n",
            "6  965e592c0  0.289182\n"
          ],
          "name": "stdout"
        }
      ]
    },
    {
      "cell_type": "markdown",
      "metadata": {
        "id": "uXCmIyftjlEY"
      },
      "source": [
        "# Upload data"
      ]
    },
    {
      "cell_type": "code",
      "metadata": {
        "id": "3scDIDWzJu_X",
        "colab": {
          "base_uri": "https://localhost:8080/"
        },
        "outputId": "0e911167-0fcd-4ec2-f9a2-a5403f9ea8dc"
      },
      "source": [
        "!date +\"%Y%m%d%I%M%S\""
      ],
      "execution_count": null,
      "outputs": [
        {
          "output_type": "stream",
          "text": [
            "20210703054813\n"
          ],
          "name": "stdout"
        }
      ]
    },
    {
      "cell_type": "code",
      "metadata": {
        "id": "TkwxJP50Jln7"
      },
      "source": [
        "!mkdir -p ./output/\n",
        "!cp -f ./model* ./output/\n",
        "!cp -f ./drive/MyDrive/kaggle/commonlit/Lightweight-Roberta-base/dataset-metadata.json ./output/\n",
        "!sed -i -e \"s/lightweight-roberta-base/lightweight-roberta-base-`date +\"%Y%m%d%I%M%S\"`/\" ./output/dataset-metadata.json"
      ],
      "execution_count": null,
      "outputs": []
    },
    {
      "cell_type": "code",
      "metadata": {
        "id": "uWMDce0OKDuQ",
        "colab": {
          "base_uri": "https://localhost:8080/"
        },
        "outputId": "a1d2976d-9ceb-493a-ad62-c58f1478ced6"
      },
      "source": [
        "!cat ./output/dataset-metadata.json"
      ],
      "execution_count": null,
      "outputs": [
        {
          "output_type": "stream",
          "text": [
            "{\n",
            "  \"licenses\": [\n",
            "    {\n",
            "      \"name\": \"CC0-1.0\"\n",
            "    }\n",
            "  ], \n",
            "  \"id\": \"iamnishipy/lightweight-roberta-base-20210703054845\", \n",
            "  \"title\": \"Lightweight-Roberta-base\"\n",
            "}"
          ],
          "name": "stdout"
        }
      ]
    },
    {
      "cell_type": "code",
      "metadata": {
        "id": "X8IUhtyYjmso",
        "colab": {
          "base_uri": "https://localhost:8080/"
        },
        "outputId": "a0304e44-ddd3-4048-b2a7-91d64101fc11"
      },
      "source": [
        "!mkdir -p ./output/\n",
        "!cp -f ./model* ./output/\n",
        "!cp -f ./drive/MyDrive/kaggle/commonlit/Lightweight-Roberta-base/dataset-metadata-dropout.json ./output/dataset-metadata.json\n",
        "!sed -i -e \"s/lightweight-roberta-base/lightweight-roberta-base-`date +\"%Y%m%d%I%M%S\"`/\" ./output/dataset-metadata.json\n",
        "!kaggle datasets create -p ./output/"
      ],
      "execution_count": null,
      "outputs": [
        {
          "output_type": "stream",
          "text": [
            "Starting upload for file model_3.pth\n",
            "Warning: Looks like you're using an outdated API Version, please consider updating (server 1.5.12 / client 1.5.4)\n",
            "100% 477M/477M [00:10<00:00, 48.5MB/s]\n",
            "Upload successful: model_3.pth (477MB)\n",
            "Starting upload for file model_5.pth\n",
            "100% 477M/477M [00:10<00:00, 48.7MB/s]\n",
            "Upload successful: model_5.pth (477MB)\n",
            "Starting upload for file model_4.pth\n",
            "100% 477M/477M [00:11<00:00, 43.2MB/s]\n",
            "Upload successful: model_4.pth (477MB)\n",
            "Starting upload for file model_2.pth\n",
            "100% 477M/477M [00:10<00:00, 50.0MB/s]\n",
            "Upload successful: model_2.pth (477MB)\n",
            "Starting upload for file model_1.pth\n",
            "100% 477M/477M [00:10<00:00, 46.5MB/s]\n",
            "Upload successful: model_1.pth (477MB)\n",
            "Your private Dataset is being created. Please check progress at /api/v1/datasets/status//iamnishipy/lightweight-roberta-base-20210703054903-dropout\n"
          ],
          "name": "stdout"
        }
      ]
    }
  ]
}